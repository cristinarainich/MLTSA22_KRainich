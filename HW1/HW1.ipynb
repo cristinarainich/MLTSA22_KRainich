{
  "nbformat": 4,
  "nbformat_minor": 0,
  "metadata": {
    "colab": {
      "name": "HW1.ipynb",
      "provenance": [],
      "collapsed_sections": [],
      "authorship_tag": "ABX9TyPH/lHgwUN7uRh2UVJ+aWi9",
      "include_colab_link": true
    },
    "kernelspec": {
      "name": "python3",
      "display_name": "Python 3"
    },
    "language_info": {
      "name": "python"
    }
  },
  "cells": [
    {
      "cell_type": "markdown",
      "metadata": {
        "id": "view-in-github",
        "colab_type": "text"
      },
      "source": [
        "<a href=\"https://colab.research.google.com/github/cristinarainich/MLTSA22_KRainich/blob/main/HW1/HW1.ipynb\" target=\"_parent\"><img src=\"https://colab.research.google.com/assets/colab-badge.svg\" alt=\"Open In Colab\"/></a>"
      ]
    },
    {
      "cell_type": "code",
      "execution_count": 18,
      "metadata": {
        "colab": {
          "base_uri": "https://localhost:8080/"
        },
        "id": "4qqYgr3QLoCp",
        "outputId": "4c3e86e6-f4a1-4ac1-ce5c-3d0068d6e96c"
      },
      "outputs": [
        {
          "output_type": "stream",
          "name": "stdout",
          "text": [
            "Populating the interactive namespace from numpy and matplotlib\n"
          ]
        },
        {
          "output_type": "stream",
          "name": "stderr",
          "text": [
            "/usr/local/lib/python3.7/dist-packages/IPython/core/magics/pylab.py:161: UserWarning: pylab import has clobbered these variables: ['f']\n",
            "`%matplotlib` prevents importing * from pylab and numpy\n",
            "  \"\\n`%matplotlib` prevents importing * from pylab and numpy\"\n"
          ]
        }
      ],
      "source": [
        "from sklearn.linear_model import LinearRegression\n",
        "from scipy.optimize import minimize\n",
        "import numpy as np\n",
        "import pandas as pd\n",
        "import pylab as pl\n",
        "%pylab inline\n",
        "\n",
        "# I have created a stylesheet to define default plot behaviors. \n",
        "# This stylesheet changes the default parameters stored in the dictionary matplitlib.rcParams\n",
        "pl.style.use(\"https://raw.githubusercontent.com/fedhere/MLTSA22_FBianco/master/fbb.mplstyle\")\n",
        "pl.rcParams['font.size'] = 20"
      ]
    },
    {
      "cell_type": "code",
      "source": [
        "# importing data\n",
        "grbAG = pd.read_csv('https://raw.githubusercontent.com/fedhere/MLTSA22_FBianco/main/HW1/grb050525A.csv')\n",
        "grbAG.head()"
      ],
      "metadata": {
        "colab": {
          "base_uri": "https://localhost:8080/",
          "height": 206
        },
        "id": "ydPhtFTeMc0p",
        "outputId": "1e836689-5108-475a-e0ed-be16e6fb3ca3"
      },
      "execution_count": 19,
      "outputs": [
        {
          "output_type": "execute_result",
          "data": {
            "text/html": [
              "\n",
              "  <div id=\"df-e45e957b-4ca5-4d91-9e0b-e47bf4fb0bcf\">\n",
              "    <div class=\"colab-df-container\">\n",
              "      <div>\n",
              "<style scoped>\n",
              "    .dataframe tbody tr th:only-of-type {\n",
              "        vertical-align: middle;\n",
              "    }\n",
              "\n",
              "    .dataframe tbody tr th {\n",
              "        vertical-align: top;\n",
              "    }\n",
              "\n",
              "    .dataframe thead th {\n",
              "        text-align: right;\n",
              "    }\n",
              "</style>\n",
              "<table border=\"1\" class=\"dataframe\">\n",
              "  <thead>\n",
              "    <tr style=\"text-align: right;\">\n",
              "      <th></th>\n",
              "      <th>filter</th>\n",
              "      <th>time</th>\n",
              "      <th>mag</th>\n",
              "      <th>magerr</th>\n",
              "      <th>upperlimit</th>\n",
              "    </tr>\n",
              "  </thead>\n",
              "  <tbody>\n",
              "    <tr>\n",
              "      <th>0</th>\n",
              "      <td>V</td>\n",
              "      <td>66</td>\n",
              "      <td>13.21</td>\n",
              "      <td>0.24</td>\n",
              "      <td>0</td>\n",
              "    </tr>\n",
              "    <tr>\n",
              "      <th>1</th>\n",
              "      <td>V</td>\n",
              "      <td>67</td>\n",
              "      <td>12.90</td>\n",
              "      <td>0.23</td>\n",
              "      <td>0</td>\n",
              "    </tr>\n",
              "    <tr>\n",
              "      <th>2</th>\n",
              "      <td>V</td>\n",
              "      <td>68</td>\n",
              "      <td>12.86</td>\n",
              "      <td>0.23</td>\n",
              "      <td>0</td>\n",
              "    </tr>\n",
              "    <tr>\n",
              "      <th>3</th>\n",
              "      <td>V</td>\n",
              "      <td>69</td>\n",
              "      <td>13.01</td>\n",
              "      <td>0.23</td>\n",
              "      <td>0</td>\n",
              "    </tr>\n",
              "    <tr>\n",
              "      <th>4</th>\n",
              "      <td>V</td>\n",
              "      <td>70</td>\n",
              "      <td>12.97</td>\n",
              "      <td>0.23</td>\n",
              "      <td>0</td>\n",
              "    </tr>\n",
              "  </tbody>\n",
              "</table>\n",
              "</div>\n",
              "      <button class=\"colab-df-convert\" onclick=\"convertToInteractive('df-e45e957b-4ca5-4d91-9e0b-e47bf4fb0bcf')\"\n",
              "              title=\"Convert this dataframe to an interactive table.\"\n",
              "              style=\"display:none;\">\n",
              "        \n",
              "  <svg xmlns=\"http://www.w3.org/2000/svg\" height=\"24px\"viewBox=\"0 0 24 24\"\n",
              "       width=\"24px\">\n",
              "    <path d=\"M0 0h24v24H0V0z\" fill=\"none\"/>\n",
              "    <path d=\"M18.56 5.44l.94 2.06.94-2.06 2.06-.94-2.06-.94-.94-2.06-.94 2.06-2.06.94zm-11 1L8.5 8.5l.94-2.06 2.06-.94-2.06-.94L8.5 2.5l-.94 2.06-2.06.94zm10 10l.94 2.06.94-2.06 2.06-.94-2.06-.94-.94-2.06-.94 2.06-2.06.94z\"/><path d=\"M17.41 7.96l-1.37-1.37c-.4-.4-.92-.59-1.43-.59-.52 0-1.04.2-1.43.59L10.3 9.45l-7.72 7.72c-.78.78-.78 2.05 0 2.83L4 21.41c.39.39.9.59 1.41.59.51 0 1.02-.2 1.41-.59l7.78-7.78 2.81-2.81c.8-.78.8-2.07 0-2.86zM5.41 20L4 18.59l7.72-7.72 1.47 1.35L5.41 20z\"/>\n",
              "  </svg>\n",
              "      </button>\n",
              "      \n",
              "  <style>\n",
              "    .colab-df-container {\n",
              "      display:flex;\n",
              "      flex-wrap:wrap;\n",
              "      gap: 12px;\n",
              "    }\n",
              "\n",
              "    .colab-df-convert {\n",
              "      background-color: #E8F0FE;\n",
              "      border: none;\n",
              "      border-radius: 50%;\n",
              "      cursor: pointer;\n",
              "      display: none;\n",
              "      fill: #1967D2;\n",
              "      height: 32px;\n",
              "      padding: 0 0 0 0;\n",
              "      width: 32px;\n",
              "    }\n",
              "\n",
              "    .colab-df-convert:hover {\n",
              "      background-color: #E2EBFA;\n",
              "      box-shadow: 0px 1px 2px rgba(60, 64, 67, 0.3), 0px 1px 3px 1px rgba(60, 64, 67, 0.15);\n",
              "      fill: #174EA6;\n",
              "    }\n",
              "\n",
              "    [theme=dark] .colab-df-convert {\n",
              "      background-color: #3B4455;\n",
              "      fill: #D2E3FC;\n",
              "    }\n",
              "\n",
              "    [theme=dark] .colab-df-convert:hover {\n",
              "      background-color: #434B5C;\n",
              "      box-shadow: 0px 1px 3px 1px rgba(0, 0, 0, 0.15);\n",
              "      filter: drop-shadow(0px 1px 2px rgba(0, 0, 0, 0.3));\n",
              "      fill: #FFFFFF;\n",
              "    }\n",
              "  </style>\n",
              "\n",
              "      <script>\n",
              "        const buttonEl =\n",
              "          document.querySelector('#df-e45e957b-4ca5-4d91-9e0b-e47bf4fb0bcf button.colab-df-convert');\n",
              "        buttonEl.style.display =\n",
              "          google.colab.kernel.accessAllowed ? 'block' : 'none';\n",
              "\n",
              "        async function convertToInteractive(key) {\n",
              "          const element = document.querySelector('#df-e45e957b-4ca5-4d91-9e0b-e47bf4fb0bcf');\n",
              "          const dataTable =\n",
              "            await google.colab.kernel.invokeFunction('convertToInteractive',\n",
              "                                                     [key], {});\n",
              "          if (!dataTable) return;\n",
              "\n",
              "          const docLinkHtml = 'Like what you see? Visit the ' +\n",
              "            '<a target=\"_blank\" href=https://colab.research.google.com/notebooks/data_table.ipynb>data table notebook</a>'\n",
              "            + ' to learn more about interactive tables.';\n",
              "          element.innerHTML = '';\n",
              "          dataTable['output_type'] = 'display_data';\n",
              "          await google.colab.output.renderOutput(dataTable, element);\n",
              "          const docLink = document.createElement('div');\n",
              "          docLink.innerHTML = docLinkHtml;\n",
              "          element.appendChild(docLink);\n",
              "        }\n",
              "      </script>\n",
              "    </div>\n",
              "  </div>\n",
              "  "
            ],
            "text/plain": [
              "  filter  time    mag  magerr  upperlimit\n",
              "0      V    66  13.21    0.24           0\n",
              "1      V    67  12.90    0.23           0\n",
              "2      V    68  12.86    0.23           0\n",
              "3      V    69  13.01    0.23           0\n",
              "4      V    70  12.97    0.23           0"
            ]
          },
          "metadata": {},
          "execution_count": 19
        }
      ]
    },
    {
      "cell_type": "code",
      "source": [
        "# create the log-time variable\n",
        "grbAG[\"logtime\"] = np.log10(grbAG['time'])\n",
        "grbAG.head()"
      ],
      "metadata": {
        "colab": {
          "base_uri": "https://localhost:8080/",
          "height": 206
        },
        "id": "VHtFyCa0M3-E",
        "outputId": "9da88594-6248-4f8e-be62-537c26a2858e"
      },
      "execution_count": 20,
      "outputs": [
        {
          "output_type": "execute_result",
          "data": {
            "text/html": [
              "\n",
              "  <div id=\"df-6d8f79fd-d709-4995-81ef-9d657b880289\">\n",
              "    <div class=\"colab-df-container\">\n",
              "      <div>\n",
              "<style scoped>\n",
              "    .dataframe tbody tr th:only-of-type {\n",
              "        vertical-align: middle;\n",
              "    }\n",
              "\n",
              "    .dataframe tbody tr th {\n",
              "        vertical-align: top;\n",
              "    }\n",
              "\n",
              "    .dataframe thead th {\n",
              "        text-align: right;\n",
              "    }\n",
              "</style>\n",
              "<table border=\"1\" class=\"dataframe\">\n",
              "  <thead>\n",
              "    <tr style=\"text-align: right;\">\n",
              "      <th></th>\n",
              "      <th>filter</th>\n",
              "      <th>time</th>\n",
              "      <th>mag</th>\n",
              "      <th>magerr</th>\n",
              "      <th>upperlimit</th>\n",
              "      <th>logtime</th>\n",
              "    </tr>\n",
              "  </thead>\n",
              "  <tbody>\n",
              "    <tr>\n",
              "      <th>0</th>\n",
              "      <td>V</td>\n",
              "      <td>66</td>\n",
              "      <td>13.21</td>\n",
              "      <td>0.24</td>\n",
              "      <td>0</td>\n",
              "      <td>1.819544</td>\n",
              "    </tr>\n",
              "    <tr>\n",
              "      <th>1</th>\n",
              "      <td>V</td>\n",
              "      <td>67</td>\n",
              "      <td>12.90</td>\n",
              "      <td>0.23</td>\n",
              "      <td>0</td>\n",
              "      <td>1.826075</td>\n",
              "    </tr>\n",
              "    <tr>\n",
              "      <th>2</th>\n",
              "      <td>V</td>\n",
              "      <td>68</td>\n",
              "      <td>12.86</td>\n",
              "      <td>0.23</td>\n",
              "      <td>0</td>\n",
              "      <td>1.832509</td>\n",
              "    </tr>\n",
              "    <tr>\n",
              "      <th>3</th>\n",
              "      <td>V</td>\n",
              "      <td>69</td>\n",
              "      <td>13.01</td>\n",
              "      <td>0.23</td>\n",
              "      <td>0</td>\n",
              "      <td>1.838849</td>\n",
              "    </tr>\n",
              "    <tr>\n",
              "      <th>4</th>\n",
              "      <td>V</td>\n",
              "      <td>70</td>\n",
              "      <td>12.97</td>\n",
              "      <td>0.23</td>\n",
              "      <td>0</td>\n",
              "      <td>1.845098</td>\n",
              "    </tr>\n",
              "  </tbody>\n",
              "</table>\n",
              "</div>\n",
              "      <button class=\"colab-df-convert\" onclick=\"convertToInteractive('df-6d8f79fd-d709-4995-81ef-9d657b880289')\"\n",
              "              title=\"Convert this dataframe to an interactive table.\"\n",
              "              style=\"display:none;\">\n",
              "        \n",
              "  <svg xmlns=\"http://www.w3.org/2000/svg\" height=\"24px\"viewBox=\"0 0 24 24\"\n",
              "       width=\"24px\">\n",
              "    <path d=\"M0 0h24v24H0V0z\" fill=\"none\"/>\n",
              "    <path d=\"M18.56 5.44l.94 2.06.94-2.06 2.06-.94-2.06-.94-.94-2.06-.94 2.06-2.06.94zm-11 1L8.5 8.5l.94-2.06 2.06-.94-2.06-.94L8.5 2.5l-.94 2.06-2.06.94zm10 10l.94 2.06.94-2.06 2.06-.94-2.06-.94-.94-2.06-.94 2.06-2.06.94z\"/><path d=\"M17.41 7.96l-1.37-1.37c-.4-.4-.92-.59-1.43-.59-.52 0-1.04.2-1.43.59L10.3 9.45l-7.72 7.72c-.78.78-.78 2.05 0 2.83L4 21.41c.39.39.9.59 1.41.59.51 0 1.02-.2 1.41-.59l7.78-7.78 2.81-2.81c.8-.78.8-2.07 0-2.86zM5.41 20L4 18.59l7.72-7.72 1.47 1.35L5.41 20z\"/>\n",
              "  </svg>\n",
              "      </button>\n",
              "      \n",
              "  <style>\n",
              "    .colab-df-container {\n",
              "      display:flex;\n",
              "      flex-wrap:wrap;\n",
              "      gap: 12px;\n",
              "    }\n",
              "\n",
              "    .colab-df-convert {\n",
              "      background-color: #E8F0FE;\n",
              "      border: none;\n",
              "      border-radius: 50%;\n",
              "      cursor: pointer;\n",
              "      display: none;\n",
              "      fill: #1967D2;\n",
              "      height: 32px;\n",
              "      padding: 0 0 0 0;\n",
              "      width: 32px;\n",
              "    }\n",
              "\n",
              "    .colab-df-convert:hover {\n",
              "      background-color: #E2EBFA;\n",
              "      box-shadow: 0px 1px 2px rgba(60, 64, 67, 0.3), 0px 1px 3px 1px rgba(60, 64, 67, 0.15);\n",
              "      fill: #174EA6;\n",
              "    }\n",
              "\n",
              "    [theme=dark] .colab-df-convert {\n",
              "      background-color: #3B4455;\n",
              "      fill: #D2E3FC;\n",
              "    }\n",
              "\n",
              "    [theme=dark] .colab-df-convert:hover {\n",
              "      background-color: #434B5C;\n",
              "      box-shadow: 0px 1px 3px 1px rgba(0, 0, 0, 0.15);\n",
              "      filter: drop-shadow(0px 1px 2px rgba(0, 0, 0, 0.3));\n",
              "      fill: #FFFFFF;\n",
              "    }\n",
              "  </style>\n",
              "\n",
              "      <script>\n",
              "        const buttonEl =\n",
              "          document.querySelector('#df-6d8f79fd-d709-4995-81ef-9d657b880289 button.colab-df-convert');\n",
              "        buttonEl.style.display =\n",
              "          google.colab.kernel.accessAllowed ? 'block' : 'none';\n",
              "\n",
              "        async function convertToInteractive(key) {\n",
              "          const element = document.querySelector('#df-6d8f79fd-d709-4995-81ef-9d657b880289');\n",
              "          const dataTable =\n",
              "            await google.colab.kernel.invokeFunction('convertToInteractive',\n",
              "                                                     [key], {});\n",
              "          if (!dataTable) return;\n",
              "\n",
              "          const docLinkHtml = 'Like what you see? Visit the ' +\n",
              "            '<a target=\"_blank\" href=https://colab.research.google.com/notebooks/data_table.ipynb>data table notebook</a>'\n",
              "            + ' to learn more about interactive tables.';\n",
              "          element.innerHTML = '';\n",
              "          dataTable['output_type'] = 'display_data';\n",
              "          await google.colab.output.renderOutput(dataTable, element);\n",
              "          const docLink = document.createElement('div');\n",
              "          docLink.innerHTML = docLinkHtml;\n",
              "          element.appendChild(docLink);\n",
              "        }\n",
              "      </script>\n",
              "    </div>\n",
              "  </div>\n",
              "  "
            ],
            "text/plain": [
              "  filter  time    mag  magerr  upperlimit   logtime\n",
              "0      V    66  13.21    0.24           0  1.819544\n",
              "1      V    67  12.90    0.23           0  1.826075\n",
              "2      V    68  12.86    0.23           0  1.832509\n",
              "3      V    69  13.01    0.23           0  1.838849\n",
              "4      V    70  12.97    0.23           0  1.845098"
            ]
          },
          "metadata": {},
          "execution_count": 20
        }
      ]
    },
    {
      "cell_type": "code",
      "source": [
        "grbAG.columns"
      ],
      "metadata": {
        "colab": {
          "base_uri": "https://localhost:8080/"
        },
        "id": "d1VStdrgPHCS",
        "outputId": "e8ef1722-a628-4354-9671-943f73c3e784"
      },
      "execution_count": 21,
      "outputs": [
        {
          "output_type": "execute_result",
          "data": {
            "text/plain": [
              "Index(['filter', 'time', 'mag', 'magerr', 'upperlimit', 'logtime'], dtype='object')"
            ]
          },
          "metadata": {},
          "execution_count": 21
        }
      ]
    },
    {
      "cell_type": "code",
      "source": [
        "grbAG['filter'].value_counts()"
      ],
      "metadata": {
        "colab": {
          "base_uri": "https://localhost:8080/"
        },
        "id": "Mvd9KFGHPkJq",
        "outputId": "0f2c4fa0-454a-4291-ab27-452293d332a4"
      },
      "execution_count": 22,
      "outputs": [
        {
          "output_type": "execute_result",
          "data": {
            "text/plain": [
              "V     44\n",
              "U     16\n",
              "B     16\n",
              "M2    15\n",
              "W1    15\n",
              "W2    13\n",
              "Name: filter, dtype: int64"
            ]
          },
          "metadata": {},
          "execution_count": 22
        }
      ]
    },
    {
      "cell_type": "code",
      "source": [
        "ax = pl.figure(figsize=(10,10)).add_subplot(111)\n",
        "line_name = []\n",
        "for f in grbAG['filter'].unique():\n",
        "  pl.errorbar(x = grbAG.loc[grbAG['filter'] == f, 'logtime'], \n",
        "              y = grbAG.loc[grbAG['filter'] == f, 'mag'], \n",
        "              yerr = grbAG.loc[grbAG['filter'] == f, 'magerr'], ls = '')\n",
        "  pl.scatter(x = grbAG.loc[grbAG['filter'] == f, 'logtime'],\n",
        "             y = grbAG.loc[grbAG['filter'] == f, 'mag'], label = f)\n",
        "\n",
        "for i in grbAG[grbAG.upperlimit == 1].index:\n",
        "    pl.arrow(grbAG.loc[i].logtime, \n",
        "             grbAG.loc[i].magerr, 0, 2, \n",
        "            head_width=0.05, head_length=0.1, ec='k')\n",
        "\n",
        "pl.ylim(24,11.7)          \n",
        "pl.legend()\n",
        "\n",
        "pl.ylabel(\"magnitude\", fontsize=20)\n",
        "pl.xlabel(\"log time (sec after explosion)\", fontsize=20)"
      ],
      "metadata": {
        "colab": {
          "base_uri": "https://localhost:8080/",
          "height": 637
        },
        "id": "vruCA23EQ9v_",
        "outputId": "f2c4c86e-baae-4b2b-ea28-88ef041bc9be"
      },
      "execution_count": 23,
      "outputs": [
        {
          "output_type": "execute_result",
          "data": {
            "text/plain": [
              "Text(0.5, 0, 'log time (sec after explosion)')"
            ]
          },
          "metadata": {},
          "execution_count": 23
        },
        {
          "output_type": "display_data",
          "data": {
            "image/png": "[encoded data removed]",
            "text/plain": [
              "<Figure size 720x720 with 1 Axes>"
            ]
          },
          "metadata": {}
        }
      ]
    },
    {
      "cell_type": "markdown",
      "source": [
        "Figure 1: Photometry of the Afterglow of GRB 052505A. All photometry is from the Swift satellite and it is obtained from Table 3 of Blustin et al. 2005 https://arxiv.org/pdf/astro-ph/0507515.pdf. The photometric band for each datapoint is indicated in the legend. Time is relative from the estimated moment of explosion of the stellar progenitor. Upperlimits are indicated by down-pointing arrows."
      ],
      "metadata": {
        "id": "bsDZDl8N0Sco"
      }
    },
    {
      "cell_type": "code",
      "source": [
        "grbAG_wout_upper = grbAG[grbAG.upperlimit == 0] \n",
        "#new dataframe without upper limits, as in the last step the original df would be necessary for the plot"
      ],
      "metadata": {
        "id": "qz657qdUvKfQ"
      },
      "execution_count": 24,
      "outputs": []
    },
    {
      "cell_type": "code",
      "source": [
        "x = grbAG_wout_upper['logtime']\n",
        "X = np.c_[np.ones((len(grbAG_wout_upper), 1)), x]\n",
        "y = grbAG_wout_upper['mag']\n",
        "print(\"shape of the input array X\", X.shape)\n",
        "print(\"shape of the input array y\", y.shape)"
      ],
      "metadata": {
        "colab": {
          "base_uri": "https://localhost:8080/"
        },
        "id": "vmbro0rHHkqq",
        "outputId": "7cb5b29b-8b73-4933-e3d4-675f731b8ffd"
      },
      "execution_count": 26,
      "outputs": [
        {
          "output_type": "stream",
          "name": "stdout",
          "text": [
            "shape of the input array X (108, 2)\n",
            "shape of the input array y (108,)\n"
          ]
        }
      ]
    },
    {
      "cell_type": "code",
      "source": [
        "theta_best = np.linalg.inv(X.T.dot(X)).dot(X.T).dot(y)\n",
        "print (\"best fit parameters from the Normal Equation: \" + \n",
        "       \"intercept {:.2f}, slope {:.2f}\".format(*theta_best))"
      ],
      "metadata": {
        "colab": {
          "base_uri": "https://localhost:8080/"
        },
        "id": "gwIHgEo3hLUG",
        "outputId": "c0d0467a-a383-4047-fcd9-5651b8bf3d13"
      },
      "execution_count": 27,
      "outputs": [
        {
          "output_type": "stream",
          "name": "stdout",
          "text": [
            "best fit parameters from the Normal Equation: intercept 8.58, slope 2.51\n"
          ]
        }
      ]
    },
    {
      "cell_type": "code",
      "source": [
        "lr = LinearRegression()\n",
        "lr.fit(X, y)\n",
        "print (\"best fit parameters from the sklearn LinearRegression(): \" + \n",
        "       \"intercept {:.2f}, slope {:.2f}\".format(lr.intercept_, lr.coef_[1]))"
      ],
      "metadata": {
        "colab": {
          "base_uri": "https://localhost:8080/"
        },
        "id": "Zr-PI017kLpT",
        "outputId": "bbb78248-1c1e-45fa-d97d-c97e7cb2038f"
      },
      "execution_count": 28,
      "outputs": [
        {
          "output_type": "stream",
          "name": "stdout",
          "text": [
            "best fit parameters from the sklearn LinearRegression(): intercept 8.58, slope 2.51\n"
          ]
        }
      ]
    },
    {
      "cell_type": "code",
      "source": [
        "# L1 with abs\n",
        "def line(x, intercept, slope):\n",
        "  return slope * x + intercept\n",
        "\n",
        "def l1(args, x, y):\n",
        "  a, b = args\n",
        "  return sum(abs(line(x, b, a) - y))\n",
        "\n",
        "initialGuess = (10, 1)\n",
        "l1Solution = minimize(l1, initialGuess, args=(x, y))\n",
        "print(l1Solution)\n",
        "print(\"\")\n",
        "print(\"best fit parameters from the minimization of L1: \" + \n",
        "       \"slope {:.2f}, intercept {:.2f}\".format(*l1Solution.x))"
      ],
      "metadata": {
        "colab": {
          "base_uri": "https://localhost:8080/"
        },
        "id": "BtDeY-mJlG8E",
        "outputId": "a96e71cd-5041-49e3-890b-5c52db171465"
      },
      "execution_count": 29,
      "outputs": [
        {
          "output_type": "stream",
          "name": "stdout",
          "text": [
            "      fun: 26.304340597340804\n",
            " hess_inv: array([[ 0.00759366, -0.01591281],\n",
            "       [-0.01591281,  0.03413314]])\n",
            "      jac: array([-1.95810866,  0.        ])\n",
            "  message: 'Desired error not necessarily achieved due to precision loss.'\n",
            "     nfev: 271\n",
            "      nit: 11\n",
            "     njev: 66\n",
            "   status: 2\n",
            "  success: False\n",
            "        x: array([2.64023314, 8.22681691])\n",
            "\n",
            "best fit parameters from the minimization of L1: slope 2.64, intercept 8.23\n"
          ]
        }
      ]
    },
    {
      "cell_type": "code",
      "source": [
        "# chi excluding upper limits\n",
        "def chi2(args, x, y, s):\n",
        "  a, b = args\n",
        "  return sum((line(x, b, a) - y)**2 / s)\n",
        "\n",
        "s = grbAG_wout_upper['magerr'] \n",
        "initialGuess = (10, 1)\n",
        "chi2Solution = minimize(chi2, initialGuess, args=(x, y, s))\n",
        "\n",
        "print(chi2Solution)\n",
        "print(\"\")\n",
        "print(\"best fit parameters from the minimization of the chi squared: \" + \n",
        "       \"slope {:.2f}, intercept {:.2f}\".format(*chi2Solution.x))"
      ],
      "metadata": {
        "colab": {
          "base_uri": "https://localhost:8080/"
        },
        "id": "-oYqGOHvJTPm",
        "outputId": "013d4a6b-a794-4177-a9dc-21ef53f7831a"
      },
      "execution_count": 31,
      "outputs": [
        {
          "output_type": "stream",
          "name": "stdout",
          "text": [
            "      fun: 58.4983742894839\n",
            " hess_inv: array([[ 0.00139784, -0.00381294],\n",
            "       [-0.00381294,  0.01113153]])\n",
            "      jac: array([2.86102295e-06, 4.76837158e-07])\n",
            "  message: 'Optimization terminated successfully.'\n",
            "     nfev: 32\n",
            "      nit: 5\n",
            "     njev: 8\n",
            "   status: 0\n",
            "  success: True\n",
            "        x: array([2.49968626, 8.58159554])\n",
            "\n",
            "best fit parameters from the minimization of the chi squared: slope 2.50, intercept 8.58\n"
          ]
        }
      ]
    },
    {
      "cell_type": "code",
      "source": [
        "def plotline(a, b, modelname):\n",
        "  ax.plot(grbAG['logtime'], a + b * grbAG['logtime'], label = modelname)\n",
        "\n",
        "\n",
        "ax = pl.figure(figsize=(10,10)).add_subplot(111)\n",
        "for f in grbAG['filter'].unique():\n",
        "  pl.errorbar(x = grbAG.loc[grbAG['filter'] == f, 'logtime'], \n",
        "              y = grbAG.loc[grbAG['filter'] == f, 'mag'], \n",
        "              yerr = grbAG.loc[grbAG['filter'] == f, 'magerr'], ls = '')\n",
        "  pl.scatter(x = grbAG.loc[grbAG['filter'] == f, 'logtime'],\n",
        "             y = grbAG.loc[grbAG['filter'] == f, 'mag'])\n",
        "\n",
        "for i in grbAG[grbAG.upperlimit == 1].index:\n",
        "    pl.arrow(grbAG.loc[i].logtime, \n",
        "             grbAG.loc[i].magerr, 0, 2, \n",
        "            head_width=0.05, head_length=0.1, ec='k')\n",
        "\n",
        "#normal equation\n",
        "plotline(theta_best[0], theta_best[1], 'Normal Equation')\n",
        "         \n",
        "#sklearn\n",
        "plotline(lr.intercept_, lr.coef_[1], 'sklearn Linear Regression')\n",
        "         \n",
        "#minimize L1\n",
        "plotline(l1Solution.x[1], l1Solution.x[0], 'L1 minimization')\n",
        "         \n",
        "#minimize chi2\n",
        "plotline(chi2Solution.x[1], chi2Solution.x[0], 'Chi minimization')\n",
        "\n",
        "pl.legend()\n",
        "\n",
        "pl.plot(grbAG.logtime, lr.predict(np.c_[np.ones((len(grbAG), 1)), grbAG.logtime]), 'k-')\n",
        "pl.ylim(24.5,11.7)\n",
        "pl.xlim(1.5, 6.5)\n",
        "pl.ylabel(\"magnitude\", fontsize=20)\n",
        "pl.xlabel(\"log time (sec after explosion)\", fontsize=20);"
      ],
      "metadata": {
        "colab": {
          "base_uri": "https://localhost:8080/",
          "height": 620
        },
        "id": "6dr6qILbOXIg",
        "outputId": "a9d8bb9b-51d7-4ef7-c39d-76e0985f8274"
      },
      "execution_count": 34,
      "outputs": [
        {
          "output_type": "display_data",
          "data": {
            "image/png": "[encoded data removed]",
            "text/plain": [
              "<Figure size 720x720 with 1 Axes>"
            ]
          },
          "metadata": {}
        }
      ]
    },
    {
      "cell_type": "markdown",
      "source": [
        "Figure 2: Same as Figure 1, but with linear regression models plotted. The models correspond to the best fit line to the data (excluding upper limits) calculated analytically by solving the normal equation, by solving the fit analysitcally with sklearn.LinearRegression(), and by minimizing the objective functions L1 and Chi squared. The models are indicated in the legend."
      ],
      "metadata": {
        "id": "2eGBj2qr0PTf"
      }
    },
    {
      "cell_type": "code",
      "source": [
        ""
      ],
      "metadata": {
        "id": "Ch2VCnvi0QnT"
      },
      "execution_count": null,
      "outputs": []
    }
  ]
}