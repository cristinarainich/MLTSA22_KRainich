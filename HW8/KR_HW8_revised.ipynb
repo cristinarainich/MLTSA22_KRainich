{
  "nbformat": 4,
  "nbformat_minor": 0,
  "metadata": {
    "colab": {
      "name": "KR_HW8_revised.ipynb",
      "provenance": [],
      "collapsed_sections": [],
      "include_colab_link": true
    },
    "kernelspec": {
      "name": "python3",
      "display_name": "Python 3"
    },
    "language_info": {
      "name": "python"
    }
  },
  "cells": [
    {
      "cell_type": "markdown",
      "metadata": {
        "id": "view-in-github",
        "colab_type": "text"
      },
      "source": [
        "<a href=\"https://colab.research.google.com/github/cristinarainich/MLTSA22_KRainich/blob/main/HW8/KR_HW8_revised.ipynb\" target=\"_parent\"><img src=\"https://colab.research.google.com/assets/colab-badge.svg\" alt=\"Open In Colab\"/></a>"
      ]
    },
    {
      "cell_type": "code",
      "execution_count": null,
      "metadata": {
        "colab": {
          "base_uri": "https://localhost:8080/"
        },
        "id": "Oq3Hf-5PBaID",
        "outputId": "ac1132ef-2726-497a-96e4-3c6f3c0c3455"
      },
      "outputs": [
        {
          "output_type": "stream",
          "name": "stdout",
          "text": [
            "Populating the interactive namespace from numpy and matplotlib\n"
          ]
        }
      ],
      "source": [
        "import pandas as pd\n",
        "import numpy as np\n",
        "import pylab as pl\n",
        "from scipy import stats \n",
        "from scipy.stats import linregress\n",
        "from sklearn.gaussian_process import GaussianProcessRegressor\n",
        "from sklearn.gaussian_process.kernels import RBF, WhiteKernel, ConstantKernel, ExpSineSquared\n",
        "import george\n",
        "from george import kernels\n",
        "from scipy.optimize import minimize\n",
        "\n",
        "%pylab inline"
      ]
    },
    {
      "cell_type": "code",
      "source": [
        "!pip install george"
      ],
      "metadata": {
        "colab": {
          "base_uri": "https://localhost:8080/"
        },
        "id": "dq5knIBleuw3",
        "outputId": "d0861807-879b-424f-ed6a-150c9ddf0453"
      },
      "execution_count": null,
      "outputs": [
        {
          "output_type": "stream",
          "name": "stdout",
          "text": [
            "Requirement already satisfied: george in /usr/local/lib/python3.7/dist-packages (0.4.0)\n",
            "Requirement already satisfied: numpy in /usr/local/lib/python3.7/dist-packages (from george) (1.21.6)\n",
            "Requirement already satisfied: scipy in /usr/local/lib/python3.7/dist-packages (from george) (1.4.1)\n"
          ]
        }
      ]
    },
    {
      "cell_type": "markdown",
      "source": [
        "## I Data acquisition"
      ],
      "metadata": {
        "id": "mdGL-dccGOwY"
      }
    },
    {
      "cell_type": "code",
      "source": [
        "from google.colab import drive\n",
        "drive.mount('/content/gdrive')"
      ],
      "metadata": {
        "colab": {
          "base_uri": "https://localhost:8080/"
        },
        "id": "EYT9OW_vBqDy",
        "outputId": "e9085826-de3c-43cf-88b3-eb78f8d41174"
      },
      "execution_count": null,
      "outputs": [
        {
          "output_type": "stream",
          "name": "stdout",
          "text": [
            "Drive already mounted at /content/gdrive; to attempt to forcibly remount, call drive.mount(\"/content/gdrive\", force_remount=True).\n"
          ]
        }
      ]
    },
    {
      "cell_type": "code",
      "source": [
        "!pip install kaggle"
      ],
      "metadata": {
        "colab": {
          "base_uri": "https://localhost:8080/"
        },
        "id": "MvrWgOzABzKY",
        "outputId": "eb1f2005-b001-4c64-dae3-6e78ac34c7ce"
      },
      "execution_count": null,
      "outputs": [
        {
          "output_type": "stream",
          "name": "stdout",
          "text": [
            "Requirement already satisfied: kaggle in /usr/local/lib/python3.7/dist-packages (1.5.12)\n",
            "Requirement already satisfied: six>=1.10 in /usr/local/lib/python3.7/dist-packages (from kaggle) (1.15.0)\n",
            "Requirement already satisfied: requests in /usr/local/lib/python3.7/dist-packages (from kaggle) (2.23.0)\n",
            "Requirement already satisfied: python-slugify in /usr/local/lib/python3.7/dist-packages (from kaggle) (6.1.1)\n",
            "Requirement already satisfied: tqdm in /usr/local/lib/python3.7/dist-packages (from kaggle) (4.64.0)\n",
            "Requirement already satisfied: certifi in /usr/local/lib/python3.7/dist-packages (from kaggle) (2021.10.8)\n",
            "Requirement already satisfied: urllib3 in /usr/local/lib/python3.7/dist-packages (from kaggle) (1.24.3)\n",
            "Requirement already satisfied: python-dateutil in /usr/local/lib/python3.7/dist-packages (from kaggle) (2.8.2)\n",
            "Requirement already satisfied: text-unidecode>=1.3 in /usr/local/lib/python3.7/dist-packages (from python-slugify->kaggle) (1.3)\n",
            "Requirement already satisfied: idna<3,>=2.5 in /usr/local/lib/python3.7/dist-packages (from requests->kaggle) (2.10)\n",
            "Requirement already satisfied: chardet<4,>=3.0.2 in /usr/local/lib/python3.7/dist-packages (from requests->kaggle) (3.0.4)\n"
          ]
        }
      ]
    },
    {
      "cell_type": "code",
      "source": [
        "!pwd"
      ],
      "metadata": {
        "colab": {
          "base_uri": "https://localhost:8080/"
        },
        "id": "f-9byAz6BzcI",
        "outputId": "be055ea8-1562-4f2c-bc5f-5a4448a026f7"
      },
      "execution_count": null,
      "outputs": [
        {
          "output_type": "stream",
          "name": "stdout",
          "text": [
            "/content\n"
          ]
        }
      ]
    },
    {
      "cell_type": "code",
      "source": [
        "cd /content/gdrive/MyDrive/"
      ],
      "metadata": {
        "colab": {
          "base_uri": "https://localhost:8080/"
        },
        "id": "OiYUH_5WB1NF",
        "outputId": "e221781f-168d-42ca-e5a6-c64295638631"
      },
      "execution_count": null,
      "outputs": [
        {
          "output_type": "stream",
          "name": "stdout",
          "text": [
            "/content/gdrive/MyDrive\n"
          ]
        }
      ]
    },
    {
      "cell_type": "code",
      "source": [
        "!ls .kaggle"
      ],
      "metadata": {
        "colab": {
          "base_uri": "https://localhost:8080/"
        },
        "id": "j8vfmSt_B2iH",
        "outputId": "41d618f5-3b34-4980-818f-ee0957d876a4"
      },
      "execution_count": null,
      "outputs": [
        {
          "output_type": "stream",
          "name": "stdout",
          "text": [
            "kaggle.json\n"
          ]
        }
      ]
    },
    {
      "cell_type": "code",
      "source": [
        "cd /content/gdrive/MyDrive/.kaggle"
      ],
      "metadata": {
        "colab": {
          "base_uri": "https://localhost:8080/"
        },
        "id": "Pf8HXwkRB3wu",
        "outputId": "f4955fd8-ea79-45a2-d89b-72bed489bd8c"
      },
      "execution_count": null,
      "outputs": [
        {
          "output_type": "stream",
          "name": "stdout",
          "text": [
            "/content/gdrive/MyDrive/.kaggle\n"
          ]
        }
      ]
    },
    {
      "cell_type": "code",
      "source": [
        "!chmod 600 kaggle.json"
      ],
      "metadata": {
        "id": "eKX9mbVXB5MP"
      },
      "execution_count": null,
      "outputs": []
    },
    {
      "cell_type": "code",
      "source": [
        "import json\n",
        "import os\n",
        "envs = json.load(open(\"kaggle.json\", \"r\"))\n",
        "os.environ[\"KAGGLE_USERNAME\"] = envs['username']\n",
        "os.environ[\"KAGGLE_KEY\"] = envs['key']"
      ],
      "metadata": {
        "id": "SVbhizpOB6cu"
      },
      "execution_count": null,
      "outputs": []
    },
    {
      "cell_type": "code",
      "source": [
        "os.environ"
      ],
      "metadata": {
        "colab": {
          "base_uri": "https://localhost:8080/"
        },
        "id": "9QJcyMa5B7pn",
        "outputId": "21bb9787-b971-428d-dd4b-c5faade54598"
      },
      "execution_count": null,
      "outputs": [
        {
          "output_type": "execute_result",
          "data": {
            "text/plain": [
              "environ({'CUDNN_VERSION': '8.0.5.39', 'LD_LIBRARY_PATH': '/usr/local/nvidia/lib:/usr/local/nvidia/lib64', 'CLOUDSDK_PYTHON': 'python3', 'LANG': 'en_US.UTF-8', 'HOSTNAME': '5aa42357f314', 'OLDPWD': '/', 'CLOUDSDK_CONFIG': '/content/.config', 'NVIDIA_VISIBLE_DEVICES': 'all', 'DATALAB_SETTINGS_OVERRIDES': '{\"kernelManagerProxyPort\":6000,\"kernelManagerProxyHost\":\"172.28.0.3\",\"jupyterArgs\":[\"--ip=\\\\\"172.28.0.2\\\\\"\"],\"debugAdapterMultiplexerPath\":\"/usr/local/bin/dap_multiplexer\",\"enableLsp\":true}', 'ENV': '/root/.bashrc', 'NCCL_VERSION': '2.7.8', 'TF_FORCE_GPU_ALLOW_GROWTH': 'true', 'NO_GCE_CHECK': 'False', 'PWD': '/', 'HOME': '/root', 'LAST_FORCED_REBUILD': '20220407', 'DEBIAN_FRONTEND': 'noninteractive', 'LIBRARY_PATH': '/usr/local/cuda/lib64/stubs', 'GCE_METADATA_TIMEOUT': '3', 'GLIBCPP_FORCE_NEW': '1', 'TBE_CREDS_ADDR': '172.28.0.1:8008', 'SHELL': '/bin/bash', 'GCS_READ_CACHE_BLOCK_SIZE_MB': '16', 'PYTHONWARNINGS': 'ignore:::pip._internal.cli.base_command', 'CUDA_VERSION': '11.1.1', 'NVIDIA_DRIVER_CAPABILITIES': 'compute,utility', 'SHLVL': '0', 'PYTHONPATH': '/env/python', 'NVIDIA_REQUIRE_CUDA': 'cuda>=11.1 brand=tesla,driver>=418,driver<419 brand=tesla,driver>=440,driver<441 brand=tesla,driver>=450,driver<451', 'TBE_EPHEM_CREDS_ADDR': '172.28.0.1:8009', 'COLAB_GPU': '0', 'GLIBCXX_FORCE_NEW': '1', 'PATH': '/opt/bin:/usr/local/nvidia/bin:/usr/local/cuda/bin:/usr/local/sbin:/usr/local/bin:/usr/sbin:/usr/bin:/sbin:/bin:/tools/node/bin:/tools/google-cloud-sdk/bin', 'LD_PRELOAD': '/usr/lib/x86_64-linux-gnu/libtcmalloc.so.4', 'JPY_PARENT_PID': '43', 'TERM': 'xterm-color', 'CLICOLOR': '1', 'PAGER': 'cat', 'GIT_PAGER': 'cat', 'MPLBACKEND': 'module://ipykernel.pylab.backend_inline', 'ENABLE_DIRECTORYPREFETCHER': '1', 'USE_AUTH_EPHEM': '1', 'PYDEVD_USE_FRAME_EVAL': 'NO', 'KMP_DUPLICATE_LIB_OK': 'True', 'KMP_INIT_AT_FORK': 'FALSE', 'KAGGLE_USERNAME': 'kristinarainich', 'KAGGLE_KEY': '054be73b7b7c32a9a88efa16acc97f43'})"
            ]
          },
          "metadata": {},
          "execution_count": 17
        }
      ]
    },
    {
      "cell_type": "code",
      "source": [
        "cd /content/gdrive/MyDrive/MLTSA22/HW7"
      ],
      "metadata": {
        "colab": {
          "base_uri": "https://localhost:8080/"
        },
        "id": "RVDnA5WAB9DG",
        "outputId": "8abaf444-6492-4962-f65d-46b406b300a7"
      },
      "execution_count": null,
      "outputs": [
        {
          "output_type": "stream",
          "name": "stdout",
          "text": [
            "/content/gdrive/MyDrive/MLTSA22/HW7\n"
          ]
        }
      ]
    },
    {
      "cell_type": "code",
      "source": [
        "#!kaggle competitions download -c PLAsTiCC-2018"
      ],
      "metadata": {
        "id": "APDgXu_PB-of"
      },
      "execution_count": null,
      "outputs": []
    },
    {
      "cell_type": "code",
      "source": [
        "!ls /content/gdrive/MyDrive/MLTSA22/HW7"
      ],
      "metadata": {
        "colab": {
          "base_uri": "https://localhost:8080/"
        },
        "id": "PlTzCUJJCBd6",
        "outputId": "ef42ed33-5636-4859-d6d2-26240e06d4c2"
      },
      "execution_count": null,
      "outputs": [
        {
          "output_type": "stream",
          "name": "stdout",
          "text": [
            "data_note.pdf\t       test_set_batch3.csv  test_set.csv\n",
            "PLAsTiCC-2018.zip      test_set_batch4.csv  test_set_metadata.csv\n",
            "sample_submission.csv  test_set_batch5.csv  test_set_sample.csv\n",
            "test_set_batch10.csv   test_set_batch6.csv  training_set.csv\n",
            "test_set_batch11.csv   test_set_batch7.csv  training_set_metadata.csv\n",
            "test_set_batch1.csv    test_set_batch8.csv\n",
            "test_set_batch2.csv    test_set_batch9.csv\n"
          ]
        }
      ]
    },
    {
      "cell_type": "code",
      "source": [
        "#!unzip PLAsTiCC-2018.zip"
      ],
      "metadata": {
        "id": "5llngARiCFEk"
      },
      "execution_count": null,
      "outputs": []
    },
    {
      "cell_type": "code",
      "source": [
        "metadata = pd.read_csv('training_set_metadata.csv')\n",
        "lcvs = pd.read_csv('training_set.csv')"
      ],
      "metadata": {
        "id": "1gcD_LvxCIQ3"
      },
      "execution_count": null,
      "outputs": []
    },
    {
      "cell_type": "code",
      "source": [
        "lcvs.head()"
      ],
      "metadata": {
        "id": "INPbl7dnCJ8j",
        "outputId": "64493f98-8ada-47ad-fc9f-f69bd7c179b2",
        "colab": {
          "base_uri": "https://localhost:8080/",
          "height": 206
        }
      },
      "execution_count": null,
      "outputs": [
        {
          "output_type": "execute_result",
          "data": {
            "text/plain": [
              "   object_id         mjd  passband        flux   flux_err  detected\n",
              "0        615  59750.4229         2 -544.810303   3.622952         1\n",
              "1        615  59750.4306         1 -816.434326   5.553370         1\n",
              "2        615  59750.4383         3 -471.385529   3.801213         1\n",
              "3        615  59750.4450         4 -388.984985  11.395031         1\n",
              "4        615  59752.4070         2 -681.858887   4.041204         1"
            ],
            "text/html": [
              "\n",
              "  <div id=\"df-ef8161f4-75f9-4181-8717-04f0fa2896c3\">\n",
              "    <div class=\"colab-df-container\">\n",
              "      <div>\n",
              "<style scoped>\n",
              "    .dataframe tbody tr th:only-of-type {\n",
              "        vertical-align: middle;\n",
              "    }\n",
              "\n",
              "    .dataframe tbody tr th {\n",
              "        vertical-align: top;\n",
              "    }\n",
              "\n",
              "    .dataframe thead th {\n",
              "        text-align: right;\n",
              "    }\n",
              "</style>\n",
              "<table border=\"1\" class=\"dataframe\">\n",
              "  <thead>\n",
              "    <tr style=\"text-align: right;\">\n",
              "      <th></th>\n",
              "      <th>object_id</th>\n",
              "      <th>mjd</th>\n",
              "      <th>passband</th>\n",
              "      <th>flux</th>\n",
              "      <th>flux_err</th>\n",
              "      <th>detected</th>\n",
              "    </tr>\n",
              "  </thead>\n",
              "  <tbody>\n",
              "    <tr>\n",
              "      <th>0</th>\n",
              "      <td>615</td>\n",
              "      <td>59750.4229</td>\n",
              "      <td>2</td>\n",
              "      <td>-544.810303</td>\n",
              "      <td>3.622952</td>\n",
              "      <td>1</td>\n",
              "    </tr>\n",
              "    <tr>\n",
              "      <th>1</th>\n",
              "      <td>615</td>\n",
              "      <td>59750.4306</td>\n",
              "      <td>1</td>\n",
              "      <td>-816.434326</td>\n",
              "      <td>5.553370</td>\n",
              "      <td>1</td>\n",
              "    </tr>\n",
              "    <tr>\n",
              "      <th>2</th>\n",
              "      <td>615</td>\n",
              "      <td>59750.4383</td>\n",
              "      <td>3</td>\n",
              "      <td>-471.385529</td>\n",
              "      <td>3.801213</td>\n",
              "      <td>1</td>\n",
              "    </tr>\n",
              "    <tr>\n",
              "      <th>3</th>\n",
              "      <td>615</td>\n",
              "      <td>59750.4450</td>\n",
              "      <td>4</td>\n",
              "      <td>-388.984985</td>\n",
              "      <td>11.395031</td>\n",
              "      <td>1</td>\n",
              "    </tr>\n",
              "    <tr>\n",
              "      <th>4</th>\n",
              "      <td>615</td>\n",
              "      <td>59752.4070</td>\n",
              "      <td>2</td>\n",
              "      <td>-681.858887</td>\n",
              "      <td>4.041204</td>\n",
              "      <td>1</td>\n",
              "    </tr>\n",
              "  </tbody>\n",
              "</table>\n",
              "</div>\n",
              "      <button class=\"colab-df-convert\" onclick=\"convertToInteractive('df-ef8161f4-75f9-4181-8717-04f0fa2896c3')\"\n",
              "              title=\"Convert this dataframe to an interactive table.\"\n",
              "              style=\"display:none;\">\n",
              "        \n",
              "  <svg xmlns=\"http://www.w3.org/2000/svg\" height=\"24px\"viewBox=\"0 0 24 24\"\n",
              "       width=\"24px\">\n",
              "    <path d=\"M0 0h24v24H0V0z\" fill=\"none\"/>\n",
              "    <path d=\"M18.56 5.44l.94 2.06.94-2.06 2.06-.94-2.06-.94-.94-2.06-.94 2.06-2.06.94zm-11 1L8.5 8.5l.94-2.06 2.06-.94-2.06-.94L8.5 2.5l-.94 2.06-2.06.94zm10 10l.94 2.06.94-2.06 2.06-.94-2.06-.94-.94-2.06-.94 2.06-2.06.94z\"/><path d=\"M17.41 7.96l-1.37-1.37c-.4-.4-.92-.59-1.43-.59-.52 0-1.04.2-1.43.59L10.3 9.45l-7.72 7.72c-.78.78-.78 2.05 0 2.83L4 21.41c.39.39.9.59 1.41.59.51 0 1.02-.2 1.41-.59l7.78-7.78 2.81-2.81c.8-.78.8-2.07 0-2.86zM5.41 20L4 18.59l7.72-7.72 1.47 1.35L5.41 20z\"/>\n",
              "  </svg>\n",
              "      </button>\n",
              "      \n",
              "  <style>\n",
              "    .colab-df-container {\n",
              "      display:flex;\n",
              "      flex-wrap:wrap;\n",
              "      gap: 12px;\n",
              "    }\n",
              "\n",
              "    .colab-df-convert {\n",
              "      background-color: #E8F0FE;\n",
              "      border: none;\n",
              "      border-radius: 50%;\n",
              "      cursor: pointer;\n",
              "      display: none;\n",
              "      fill: #1967D2;\n",
              "      height: 32px;\n",
              "      padding: 0 0 0 0;\n",
              "      width: 32px;\n",
              "    }\n",
              "\n",
              "    .colab-df-convert:hover {\n",
              "      background-color: #E2EBFA;\n",
              "      box-shadow: 0px 1px 2px rgba(60, 64, 67, 0.3), 0px 1px 3px 1px rgba(60, 64, 67, 0.15);\n",
              "      fill: #174EA6;\n",
              "    }\n",
              "\n",
              "    [theme=dark] .colab-df-convert {\n",
              "      background-color: #3B4455;\n",
              "      fill: #D2E3FC;\n",
              "    }\n",
              "\n",
              "    [theme=dark] .colab-df-convert:hover {\n",
              "      background-color: #434B5C;\n",
              "      box-shadow: 0px 1px 3px 1px rgba(0, 0, 0, 0.15);\n",
              "      filter: drop-shadow(0px 1px 2px rgba(0, 0, 0, 0.3));\n",
              "      fill: #FFFFFF;\n",
              "    }\n",
              "  </style>\n",
              "\n",
              "      <script>\n",
              "        const buttonEl =\n",
              "          document.querySelector('#df-ef8161f4-75f9-4181-8717-04f0fa2896c3 button.colab-df-convert');\n",
              "        buttonEl.style.display =\n",
              "          google.colab.kernel.accessAllowed ? 'block' : 'none';\n",
              "\n",
              "        async function convertToInteractive(key) {\n",
              "          const element = document.querySelector('#df-ef8161f4-75f9-4181-8717-04f0fa2896c3');\n",
              "          const dataTable =\n",
              "            await google.colab.kernel.invokeFunction('convertToInteractive',\n",
              "                                                     [key], {});\n",
              "          if (!dataTable) return;\n",
              "\n",
              "          const docLinkHtml = 'Like what you see? Visit the ' +\n",
              "            '<a target=\"_blank\" href=https://colab.research.google.com/notebooks/data_table.ipynb>data table notebook</a>'\n",
              "            + ' to learn more about interactive tables.';\n",
              "          element.innerHTML = '';\n",
              "          dataTable['output_type'] = 'display_data';\n",
              "          await google.colab.output.renderOutput(dataTable, element);\n",
              "          const docLink = document.createElement('div');\n",
              "          docLink.innerHTML = docLinkHtml;\n",
              "          element.appendChild(docLink);\n",
              "        }\n",
              "      </script>\n",
              "    </div>\n",
              "  </div>\n",
              "  "
            ]
          },
          "metadata": {},
          "execution_count": 21
        }
      ]
    },
    {
      "cell_type": "markdown",
      "source": [
        "## II Data preparation"
      ],
      "metadata": {
        "id": "YTP5UH2WGUTF"
      }
    },
    {
      "cell_type": "markdown",
      "source": [
        "To come up with a common time stamps for all observations, we could view each time point as a difference from the min value for particular object in particular band. I've been reading about standartization and normalization of data here: https://machinelearningmastery.com/normalize-standardize-time-series-data-python/, but we would like to save the flux values for now. Thus, we can substract from each of the observation values the min for now.  "
      ],
      "metadata": {
        "id": "proVjS5kGX4h"
      }
    },
    {
      "cell_type": "code",
      "source": [
        "bands = lcvs[\"passband\"].unique()\n",
        "ids = lcvs['object_id'].unique()\n",
        "print(\"Passbands (filter) identifiers:\", bands)\n",
        "print(\"Number of objects:\", ids.shape[0])"
      ],
      "metadata": {
        "id": "iDHw7Z57COkt",
        "colab": {
          "base_uri": "https://localhost:8080/"
        },
        "outputId": "9741aaf1-e428-4ca6-f172-49f6ccc7c30f"
      },
      "execution_count": null,
      "outputs": [
        {
          "output_type": "stream",
          "name": "stdout",
          "text": [
            "Passbands (filter) identifiers: [2 1 3 4 5 0]\n",
            "Number of objects: 7848\n"
          ]
        }
      ]
    },
    {
      "cell_type": "code",
      "source": [
        "new_timeline = lcvs.groupby(['object_id','passband'], as_index = False)['mjd'].apply(lambda x: x - x.min())\n",
        "lcvs['new_time'] = new_timeline.values"
      ],
      "metadata": {
        "id": "9HaYkAzOG_y4"
      },
      "execution_count": null,
      "outputs": []
    },
    {
      "cell_type": "code",
      "source": [
        "lcvs.head()"
      ],
      "metadata": {
        "colab": {
          "base_uri": "https://localhost:8080/",
          "height": 206
        },
        "id": "ErsLo6yvHTLm",
        "outputId": "a16af8de-c018-45c0-cccf-39af495f1387"
      },
      "execution_count": null,
      "outputs": [
        {
          "output_type": "execute_result",
          "data": {
            "text/plain": [
              "   object_id         mjd  passband        flux   flux_err  detected  new_time\n",
              "0        615  59750.4229         2 -544.810303   3.622952         1    0.0000\n",
              "1        615  59750.4306         1 -816.434326   5.553370         1    0.9515\n",
              "2        615  59750.4383         3 -471.385529   3.801213         1    1.9494\n",
              "3        615  59750.4450         4 -388.984985  11.395031         1    2.9573\n",
              "4        615  59752.4070         2 -681.858887   4.041204         1    3.9973"
            ],
            "text/html": [
              "\n",
              "  <div id=\"df-4a54083d-86ba-4798-bf70-8a5550f361bf\">\n",
              "    <div class=\"colab-df-container\">\n",
              "      <div>\n",
              "<style scoped>\n",
              "    .dataframe tbody tr th:only-of-type {\n",
              "        vertical-align: middle;\n",
              "    }\n",
              "\n",
              "    .dataframe tbody tr th {\n",
              "        vertical-align: top;\n",
              "    }\n",
              "\n",
              "    .dataframe thead th {\n",
              "        text-align: right;\n",
              "    }\n",
              "</style>\n",
              "<table border=\"1\" class=\"dataframe\">\n",
              "  <thead>\n",
              "    <tr style=\"text-align: right;\">\n",
              "      <th></th>\n",
              "      <th>object_id</th>\n",
              "      <th>mjd</th>\n",
              "      <th>passband</th>\n",
              "      <th>flux</th>\n",
              "      <th>flux_err</th>\n",
              "      <th>detected</th>\n",
              "      <th>new_time</th>\n",
              "    </tr>\n",
              "  </thead>\n",
              "  <tbody>\n",
              "    <tr>\n",
              "      <th>0</th>\n",
              "      <td>615</td>\n",
              "      <td>59750.4229</td>\n",
              "      <td>2</td>\n",
              "      <td>-544.810303</td>\n",
              "      <td>3.622952</td>\n",
              "      <td>1</td>\n",
              "      <td>0.0000</td>\n",
              "    </tr>\n",
              "    <tr>\n",
              "      <th>1</th>\n",
              "      <td>615</td>\n",
              "      <td>59750.4306</td>\n",
              "      <td>1</td>\n",
              "      <td>-816.434326</td>\n",
              "      <td>5.553370</td>\n",
              "      <td>1</td>\n",
              "      <td>0.9515</td>\n",
              "    </tr>\n",
              "    <tr>\n",
              "      <th>2</th>\n",
              "      <td>615</td>\n",
              "      <td>59750.4383</td>\n",
              "      <td>3</td>\n",
              "      <td>-471.385529</td>\n",
              "      <td>3.801213</td>\n",
              "      <td>1</td>\n",
              "      <td>1.9494</td>\n",
              "    </tr>\n",
              "    <tr>\n",
              "      <th>3</th>\n",
              "      <td>615</td>\n",
              "      <td>59750.4450</td>\n",
              "      <td>4</td>\n",
              "      <td>-388.984985</td>\n",
              "      <td>11.395031</td>\n",
              "      <td>1</td>\n",
              "      <td>2.9573</td>\n",
              "    </tr>\n",
              "    <tr>\n",
              "      <th>4</th>\n",
              "      <td>615</td>\n",
              "      <td>59752.4070</td>\n",
              "      <td>2</td>\n",
              "      <td>-681.858887</td>\n",
              "      <td>4.041204</td>\n",
              "      <td>1</td>\n",
              "      <td>3.9973</td>\n",
              "    </tr>\n",
              "  </tbody>\n",
              "</table>\n",
              "</div>\n",
              "      <button class=\"colab-df-convert\" onclick=\"convertToInteractive('df-4a54083d-86ba-4798-bf70-8a5550f361bf')\"\n",
              "              title=\"Convert this dataframe to an interactive table.\"\n",
              "              style=\"display:none;\">\n",
              "        \n",
              "  <svg xmlns=\"http://www.w3.org/2000/svg\" height=\"24px\"viewBox=\"0 0 24 24\"\n",
              "       width=\"24px\">\n",
              "    <path d=\"M0 0h24v24H0V0z\" fill=\"none\"/>\n",
              "    <path d=\"M18.56 5.44l.94 2.06.94-2.06 2.06-.94-2.06-.94-.94-2.06-.94 2.06-2.06.94zm-11 1L8.5 8.5l.94-2.06 2.06-.94-2.06-.94L8.5 2.5l-.94 2.06-2.06.94zm10 10l.94 2.06.94-2.06 2.06-.94-2.06-.94-.94-2.06-.94 2.06-2.06.94z\"/><path d=\"M17.41 7.96l-1.37-1.37c-.4-.4-.92-.59-1.43-.59-.52 0-1.04.2-1.43.59L10.3 9.45l-7.72 7.72c-.78.78-.78 2.05 0 2.83L4 21.41c.39.39.9.59 1.41.59.51 0 1.02-.2 1.41-.59l7.78-7.78 2.81-2.81c.8-.78.8-2.07 0-2.86zM5.41 20L4 18.59l7.72-7.72 1.47 1.35L5.41 20z\"/>\n",
              "  </svg>\n",
              "      </button>\n",
              "      \n",
              "  <style>\n",
              "    .colab-df-container {\n",
              "      display:flex;\n",
              "      flex-wrap:wrap;\n",
              "      gap: 12px;\n",
              "    }\n",
              "\n",
              "    .colab-df-convert {\n",
              "      background-color: #E8F0FE;\n",
              "      border: none;\n",
              "      border-radius: 50%;\n",
              "      cursor: pointer;\n",
              "      display: none;\n",
              "      fill: #1967D2;\n",
              "      height: 32px;\n",
              "      padding: 0 0 0 0;\n",
              "      width: 32px;\n",
              "    }\n",
              "\n",
              "    .colab-df-convert:hover {\n",
              "      background-color: #E2EBFA;\n",
              "      box-shadow: 0px 1px 2px rgba(60, 64, 67, 0.3), 0px 1px 3px 1px rgba(60, 64, 67, 0.15);\n",
              "      fill: #174EA6;\n",
              "    }\n",
              "\n",
              "    [theme=dark] .colab-df-convert {\n",
              "      background-color: #3B4455;\n",
              "      fill: #D2E3FC;\n",
              "    }\n",
              "\n",
              "    [theme=dark] .colab-df-convert:hover {\n",
              "      background-color: #434B5C;\n",
              "      box-shadow: 0px 1px 3px 1px rgba(0, 0, 0, 0.15);\n",
              "      filter: drop-shadow(0px 1px 2px rgba(0, 0, 0, 0.3));\n",
              "      fill: #FFFFFF;\n",
              "    }\n",
              "  </style>\n",
              "\n",
              "      <script>\n",
              "        const buttonEl =\n",
              "          document.querySelector('#df-4a54083d-86ba-4798-bf70-8a5550f361bf button.colab-df-convert');\n",
              "        buttonEl.style.display =\n",
              "          google.colab.kernel.accessAllowed ? 'block' : 'none';\n",
              "\n",
              "        async function convertToInteractive(key) {\n",
              "          const element = document.querySelector('#df-4a54083d-86ba-4798-bf70-8a5550f361bf');\n",
              "          const dataTable =\n",
              "            await google.colab.kernel.invokeFunction('convertToInteractive',\n",
              "                                                     [key], {});\n",
              "          if (!dataTable) return;\n",
              "\n",
              "          const docLinkHtml = 'Like what you see? Visit the ' +\n",
              "            '<a target=\"_blank\" href=https://colab.research.google.com/notebooks/data_table.ipynb>data table notebook</a>'\n",
              "            + ' to learn more about interactive tables.';\n",
              "          element.innerHTML = '';\n",
              "          dataTable['output_type'] = 'display_data';\n",
              "          await google.colab.output.renderOutput(dataTable, element);\n",
              "          const docLink = document.createElement('div');\n",
              "          docLink.innerHTML = docLinkHtml;\n",
              "          element.appendChild(docLink);\n",
              "        }\n",
              "      </script>\n",
              "    </div>\n",
              "  </div>\n",
              "  "
            ]
          },
          "metadata": {},
          "execution_count": 24
        }
      ]
    },
    {
      "cell_type": "markdown",
      "source": [
        "Now let's standardize flux and flux_err values for further interpolation."
      ],
      "metadata": {
        "id": "STD-NLwZL9Vm"
      }
    },
    {
      "cell_type": "code",
      "source": [
        "standardization = lambda x: (x - x.mean()) / x.std()\n",
        "lcvs_standard = lcvs.groupby([\"object_id\", \"passband\"])[[\"flux\", \"flux_err\"]].transform(standardization)"
      ],
      "metadata": {
        "id": "5jceAZHHJBJ3"
      },
      "execution_count": null,
      "outputs": []
    },
    {
      "cell_type": "code",
      "source": [
        "lcvs_stand = pd.concat([lcvs['object_id'], lcvs_standard, lcvs['passband'], lcvs['mjd'], lcvs['new_time']], axis = 1)"
      ],
      "metadata": {
        "id": "NetU7dsuJJz3"
      },
      "execution_count": null,
      "outputs": []
    },
    {
      "cell_type": "code",
      "source": [
        "lcvs_stand"
      ],
      "metadata": {
        "colab": {
          "base_uri": "https://localhost:8080/",
          "height": 423
        },
        "id": "nyu0RElAKmMQ",
        "outputId": "99a95518-b5af-48db-a431-30c9e2920616"
      },
      "execution_count": null,
      "outputs": [
        {
          "output_type": "execute_result",
          "data": {
            "text/plain": [
              "         object_id      flux  flux_err  passband         mjd  new_time\n",
              "0              615 -0.902317  0.418659         2  59750.4229    0.0000\n",
              "1              615 -0.715759  0.449062         1  59750.4306    0.9515\n",
              "2              615 -1.044293  1.327275         3  59750.4383    1.9494\n",
              "3              615 -1.141283  6.976464         4  59750.4450    2.9573\n",
              "4              615 -1.203442  1.140287         2  59752.4070    3.9973\n",
              "...            ...       ...       ...       ...         ...       ...\n",
              "1421700  130779836 -0.320627 -0.123199         4  60555.9838  799.9412\n",
              "1421701  130779836 -0.593104 -0.586156         1  60560.0459  820.7132\n",
              "1421702  130779836 -0.474355 -0.462467         5  60571.0225  830.6525\n",
              "1421703  130779836 -0.319136 -0.144460         4  60585.9974  831.6485\n",
              "1421704  130779836 -0.402645 -0.271162         0  60588.0372  855.6906\n",
              "\n",
              "[1421705 rows x 6 columns]"
            ],
            "text/html": [
              "\n",
              "  <div id=\"df-11191ff4-f0b4-47a1-a51d-cccaf30557a0\">\n",
              "    <div class=\"colab-df-container\">\n",
              "      <div>\n",
              "<style scoped>\n",
              "    .dataframe tbody tr th:only-of-type {\n",
              "        vertical-align: middle;\n",
              "    }\n",
              "\n",
              "    .dataframe tbody tr th {\n",
              "        vertical-align: top;\n",
              "    }\n",
              "\n",
              "    .dataframe thead th {\n",
              "        text-align: right;\n",
              "    }\n",
              "</style>\n",
              "<table border=\"1\" class=\"dataframe\">\n",
              "  <thead>\n",
              "    <tr style=\"text-align: right;\">\n",
              "      <th></th>\n",
              "      <th>object_id</th>\n",
              "      <th>flux</th>\n",
              "      <th>flux_err</th>\n",
              "      <th>passband</th>\n",
              "      <th>mjd</th>\n",
              "      <th>new_time</th>\n",
              "    </tr>\n",
              "  </thead>\n",
              "  <tbody>\n",
              "    <tr>\n",
              "      <th>0</th>\n",
              "      <td>615</td>\n",
              "      <td>-0.902317</td>\n",
              "      <td>0.418659</td>\n",
              "      <td>2</td>\n",
              "      <td>59750.4229</td>\n",
              "      <td>0.0000</td>\n",
              "    </tr>\n",
              "    <tr>\n",
              "      <th>1</th>\n",
              "      <td>615</td>\n",
              "      <td>-0.715759</td>\n",
              "      <td>0.449062</td>\n",
              "      <td>1</td>\n",
              "      <td>59750.4306</td>\n",
              "      <td>0.9515</td>\n",
              "    </tr>\n",
              "    <tr>\n",
              "      <th>2</th>\n",
              "      <td>615</td>\n",
              "      <td>-1.044293</td>\n",
              "      <td>1.327275</td>\n",
              "      <td>3</td>\n",
              "      <td>59750.4383</td>\n",
              "      <td>1.9494</td>\n",
              "    </tr>\n",
              "    <tr>\n",
              "      <th>3</th>\n",
              "      <td>615</td>\n",
              "      <td>-1.141283</td>\n",
              "      <td>6.976464</td>\n",
              "      <td>4</td>\n",
              "      <td>59750.4450</td>\n",
              "      <td>2.9573</td>\n",
              "    </tr>\n",
              "    <tr>\n",
              "      <th>4</th>\n",
              "      <td>615</td>\n",
              "      <td>-1.203442</td>\n",
              "      <td>1.140287</td>\n",
              "      <td>2</td>\n",
              "      <td>59752.4070</td>\n",
              "      <td>3.9973</td>\n",
              "    </tr>\n",
              "    <tr>\n",
              "      <th>...</th>\n",
              "      <td>...</td>\n",
              "      <td>...</td>\n",
              "      <td>...</td>\n",
              "      <td>...</td>\n",
              "      <td>...</td>\n",
              "      <td>...</td>\n",
              "    </tr>\n",
              "    <tr>\n",
              "      <th>1421700</th>\n",
              "      <td>130779836</td>\n",
              "      <td>-0.320627</td>\n",
              "      <td>-0.123199</td>\n",
              "      <td>4</td>\n",
              "      <td>60555.9838</td>\n",
              "      <td>799.9412</td>\n",
              "    </tr>\n",
              "    <tr>\n",
              "      <th>1421701</th>\n",
              "      <td>130779836</td>\n",
              "      <td>-0.593104</td>\n",
              "      <td>-0.586156</td>\n",
              "      <td>1</td>\n",
              "      <td>60560.0459</td>\n",
              "      <td>820.7132</td>\n",
              "    </tr>\n",
              "    <tr>\n",
              "      <th>1421702</th>\n",
              "      <td>130779836</td>\n",
              "      <td>-0.474355</td>\n",
              "      <td>-0.462467</td>\n",
              "      <td>5</td>\n",
              "      <td>60571.0225</td>\n",
              "      <td>830.6525</td>\n",
              "    </tr>\n",
              "    <tr>\n",
              "      <th>1421703</th>\n",
              "      <td>130779836</td>\n",
              "      <td>-0.319136</td>\n",
              "      <td>-0.144460</td>\n",
              "      <td>4</td>\n",
              "      <td>60585.9974</td>\n",
              "      <td>831.6485</td>\n",
              "    </tr>\n",
              "    <tr>\n",
              "      <th>1421704</th>\n",
              "      <td>130779836</td>\n",
              "      <td>-0.402645</td>\n",
              "      <td>-0.271162</td>\n",
              "      <td>0</td>\n",
              "      <td>60588.0372</td>\n",
              "      <td>855.6906</td>\n",
              "    </tr>\n",
              "  </tbody>\n",
              "</table>\n",
              "<p>1421705 rows × 6 columns</p>\n",
              "</div>\n",
              "      <button class=\"colab-df-convert\" onclick=\"convertToInteractive('df-11191ff4-f0b4-47a1-a51d-cccaf30557a0')\"\n",
              "              title=\"Convert this dataframe to an interactive table.\"\n",
              "              style=\"display:none;\">\n",
              "        \n",
              "  <svg xmlns=\"http://www.w3.org/2000/svg\" height=\"24px\"viewBox=\"0 0 24 24\"\n",
              "       width=\"24px\">\n",
              "    <path d=\"M0 0h24v24H0V0z\" fill=\"none\"/>\n",
              "    <path d=\"M18.56 5.44l.94 2.06.94-2.06 2.06-.94-2.06-.94-.94-2.06-.94 2.06-2.06.94zm-11 1L8.5 8.5l.94-2.06 2.06-.94-2.06-.94L8.5 2.5l-.94 2.06-2.06.94zm10 10l.94 2.06.94-2.06 2.06-.94-2.06-.94-.94-2.06-.94 2.06-2.06.94z\"/><path d=\"M17.41 7.96l-1.37-1.37c-.4-.4-.92-.59-1.43-.59-.52 0-1.04.2-1.43.59L10.3 9.45l-7.72 7.72c-.78.78-.78 2.05 0 2.83L4 21.41c.39.39.9.59 1.41.59.51 0 1.02-.2 1.41-.59l7.78-7.78 2.81-2.81c.8-.78.8-2.07 0-2.86zM5.41 20L4 18.59l7.72-7.72 1.47 1.35L5.41 20z\"/>\n",
              "  </svg>\n",
              "      </button>\n",
              "      \n",
              "  <style>\n",
              "    .colab-df-container {\n",
              "      display:flex;\n",
              "      flex-wrap:wrap;\n",
              "      gap: 12px;\n",
              "    }\n",
              "\n",
              "    .colab-df-convert {\n",
              "      background-color: #E8F0FE;\n",
              "      border: none;\n",
              "      border-radius: 50%;\n",
              "      cursor: pointer;\n",
              "      display: none;\n",
              "      fill: #1967D2;\n",
              "      height: 32px;\n",
              "      padding: 0 0 0 0;\n",
              "      width: 32px;\n",
              "    }\n",
              "\n",
              "    .colab-df-convert:hover {\n",
              "      background-color: #E2EBFA;\n",
              "      box-shadow: 0px 1px 2px rgba(60, 64, 67, 0.3), 0px 1px 3px 1px rgba(60, 64, 67, 0.15);\n",
              "      fill: #174EA6;\n",
              "    }\n",
              "\n",
              "    [theme=dark] .colab-df-convert {\n",
              "      background-color: #3B4455;\n",
              "      fill: #D2E3FC;\n",
              "    }\n",
              "\n",
              "    [theme=dark] .colab-df-convert:hover {\n",
              "      background-color: #434B5C;\n",
              "      box-shadow: 0px 1px 3px 1px rgba(0, 0, 0, 0.15);\n",
              "      filter: drop-shadow(0px 1px 2px rgba(0, 0, 0, 0.3));\n",
              "      fill: #FFFFFF;\n",
              "    }\n",
              "  </style>\n",
              "\n",
              "      <script>\n",
              "        const buttonEl =\n",
              "          document.querySelector('#df-11191ff4-f0b4-47a1-a51d-cccaf30557a0 button.colab-df-convert');\n",
              "        buttonEl.style.display =\n",
              "          google.colab.kernel.accessAllowed ? 'block' : 'none';\n",
              "\n",
              "        async function convertToInteractive(key) {\n",
              "          const element = document.querySelector('#df-11191ff4-f0b4-47a1-a51d-cccaf30557a0');\n",
              "          const dataTable =\n",
              "            await google.colab.kernel.invokeFunction('convertToInteractive',\n",
              "                                                     [key], {});\n",
              "          if (!dataTable) return;\n",
              "\n",
              "          const docLinkHtml = 'Like what you see? Visit the ' +\n",
              "            '<a target=\"_blank\" href=https://colab.research.google.com/notebooks/data_table.ipynb>data table notebook</a>'\n",
              "            + ' to learn more about interactive tables.';\n",
              "          element.innerHTML = '';\n",
              "          dataTable['output_type'] = 'display_data';\n",
              "          await google.colab.output.renderOutput(dataTable, element);\n",
              "          const docLink = document.createElement('div');\n",
              "          docLink.innerHTML = docLinkHtml;\n",
              "          element.appendChild(docLink);\n",
              "        }\n",
              "      </script>\n",
              "    </div>\n",
              "  </div>\n",
              "  "
            ]
          },
          "metadata": {},
          "execution_count": 27
        }
      ]
    },
    {
      "cell_type": "markdown",
      "source": [
        "## III Gaussian processing interpolation"
      ],
      "metadata": {
        "id": "tXSuelG2e5Fv"
      }
    },
    {
      "cell_type": "code",
      "source": [
        "y = lcvs_stand.flux\n",
        "kernel = np.var(y) * kernels.Product(kernels.ExpSquaredKernel(0.5), \n",
        "                                     kernels.CosineKernel(1))\n",
        "gp = george.GP(kernel)"
      ],
      "metadata": {
        "id": "raK2lgs6V_Hg"
      },
      "execution_count": null,
      "outputs": []
    },
    {
      "cell_type": "markdown",
      "source": [
        "We also need to understand the limits of our time space."
      ],
      "metadata": {
        "id": "UyEZqhQJfvt4"
      }
    },
    {
      "cell_type": "code",
      "source": [
        "pl.boxplot(lcvs_stand.new_time);\n",
        "pl.title('The distribution of time points for all objects across all bands');\n",
        "pl.ylabel('Time');\n",
        "pl.xticks([]);"
      ],
      "metadata": {
        "colab": {
          "base_uri": "https://localhost:8080/",
          "height": 268
        },
        "id": "hg63A2BvgF4_",
        "outputId": "085160fd-b64d-458d-dd69-32fb3e4aabe9"
      },
      "execution_count": null,
      "outputs": [
        {
          "output_type": "display_data",
          "data": {
            "text/plain": [
              "<Figure size 432x288 with 1 Axes>"
            ],
            "image/png": "[encoded data removed]"
          },
          "metadata": {
            "needs_background": "light"
          }
        }
      ]
    },
    {
      "cell_type": "markdown",
      "source": [
        "Fig. 1. The distribution of time points for all the astrological objects and all bands. As we can see, the last time point is somewhat greater than 1000, whereas the majority of time observations are in between 200th and 800th time points. "
      ],
      "metadata": {
        "id": "wA31PqPlhdoo"
      }
    },
    {
      "cell_type": "markdown",
      "source": [
        "<font color=\"red\"> FBB :-) astronomical not astrological :-) </font>"
      ],
      "metadata": {
        "id": "MSpB2zVVxAbn"
      }
    },
    {
      "cell_type": "code",
      "source": [
        "lcvs_stand.new_time.quantile([0.25,0.75])"
      ],
      "metadata": {
        "colab": {
          "base_uri": "https://localhost:8080/"
        },
        "id": "eO_iWx2UiomM",
        "outputId": "883716dd-2749-42a7-a549-b82ae369d475"
      },
      "execution_count": null,
      "outputs": [
        {
          "output_type": "execute_result",
          "data": {
            "text/plain": [
              "0.25    113.6645\n",
              "0.75    752.9462\n",
              "Name: new_time, dtype: float64"
            ]
          },
          "metadata": {},
          "execution_count": 30
        }
      ]
    },
    {
      "cell_type": "code",
      "source": [
        "lcvs_stand.new_time.max()"
      ],
      "metadata": {
        "colab": {
          "base_uri": "https://localhost:8080/"
        },
        "id": "hSRnYAAYg2EC",
        "outputId": "6aaca9e3-e66e-4603-af05-c96e9430ad5e"
      },
      "execution_count": null,
      "outputs": [
        {
          "output_type": "execute_result",
          "data": {
            "text/plain": [
              "1094.0023999999976"
            ]
          },
          "metadata": {},
          "execution_count": 31
        }
      ]
    },
    {
      "cell_type": "code",
      "source": [
        "lcvs_stand.new_time.unique().shape"
      ],
      "metadata": {
        "colab": {
          "base_uri": "https://localhost:8080/"
        },
        "id": "q4dEy2YAhP8r",
        "outputId": "94be6c7e-639a-497c-d340-c8580c0d491d"
      },
      "execution_count": null,
      "outputs": [
        {
          "output_type": "execute_result",
          "data": {
            "text/plain": [
              "(432186,)"
            ]
          },
          "metadata": {},
          "execution_count": 32
        }
      ]
    },
    {
      "cell_type": "markdown",
      "source": [
        "The upper 3rd quartile of the length of all the time series is at 752. So, interpolate the data we could use 800 as the upper limit for our time series so that not to cut most of our data.However, when I tried it, I didn't like that we don't use all the data, so I've changed the upper limit to 1000. We're still cutting some data points, but it's limited amount. As for the samples, we have quite a lot of unique observations. But if we choose a large number, then our process will 'overfit' and interpolate data all too well and be sensitive to the possible outliers. I've chosen 500 because 1000 was too much, and 100 seemed too little."
      ],
      "metadata": {
        "id": "KXFalDsHhcZK"
      }
    },
    {
      "cell_type": "code",
      "source": [
        "upper_limit = 1000\n",
        "samples = 500\n",
        "t_pred = np.linspace(0, upper_limit, samples)"
      ],
      "metadata": {
        "id": "auJfy0cdeXNr"
      },
      "execution_count": null,
      "outputs": []
    },
    {
      "cell_type": "markdown",
      "source": [
        "Let's check how the data will be interpolated for one of the astrological objects."
      ],
      "metadata": {
        "id": "4mcfI2p5fGJv"
      }
    },
    {
      "cell_type": "code",
      "source": [
        "for i in ids[:1]:\n",
        "  for band in bands:\n",
        "    subset = lcvs_stand[lcvs_stand['object_id'] == i][lcvs_stand['passband'] == band]\n",
        "    t = subset.new_time\n",
        "    y = subset.flux\n",
        "    yerr = subset.flux_err\n",
        "\n",
        "    gp.compute(t, yerr)\n",
        "    pred, pred_var = gp.predict(y, t_pred, return_var=True)\n",
        "   \n",
        "    pl.figure();\n",
        "    pl.errorbar(t, y, yerr, fmt='.', color='b', elinewidth=1, capsize=3)\n",
        "    pl.plot(t_pred, pred, 'k');\n",
        "    pl.title('Interpolation for Light Curve ' + str(i) + ' Band ' + str(band))\n",
        "    pl.xlabel('Time')\n",
        "    pl.ylabel('Flux_stand');\n"
      ],
      "metadata": {
        "colab": {
          "base_uri": "https://localhost:8080/",
          "height": 1000
        },
        "id": "I0FTKeaYZr0Y",
        "outputId": "ec43c2a4-6424-4c44-9f1f-147499461fce"
      },
      "execution_count": null,
      "outputs": [
        {
          "output_type": "stream",
          "name": "stderr",
          "text": [
            "/usr/local/lib/python3.7/dist-packages/ipykernel_launcher.py:3: UserWarning: Boolean Series key will be reindexed to match DataFrame index.\n",
            "  This is separate from the ipykernel package so we can avoid doing imports until\n",
            "/usr/local/lib/python3.7/dist-packages/ipykernel_launcher.py:3: UserWarning: Boolean Series key will be reindexed to match DataFrame index.\n",
            "  This is separate from the ipykernel package so we can avoid doing imports until\n",
            "/usr/local/lib/python3.7/dist-packages/ipykernel_launcher.py:3: UserWarning: Boolean Series key will be reindexed to match DataFrame index.\n",
            "  This is separate from the ipykernel package so we can avoid doing imports until\n",
            "/usr/local/lib/python3.7/dist-packages/ipykernel_launcher.py:3: UserWarning: Boolean Series key will be reindexed to match DataFrame index.\n",
            "  This is separate from the ipykernel package so we can avoid doing imports until\n",
            "/usr/local/lib/python3.7/dist-packages/ipykernel_launcher.py:3: UserWarning: Boolean Series key will be reindexed to match DataFrame index.\n",
            "  This is separate from the ipykernel package so we can avoid doing imports until\n",
            "/usr/local/lib/python3.7/dist-packages/ipykernel_launcher.py:3: UserWarning: Boolean Series key will be reindexed to match DataFrame index.\n",
            "  This is separate from the ipykernel package so we can avoid doing imports until\n"
          ]
        },
        {
          "output_type": "display_data",
          "data": {
            "text/plain": [
              "<Figure size 432x288 with 1 Axes>"
            ],
            "image/png": "[encoded data removed]"
          },
          "metadata": {
            "needs_background": "light"
          }
        },
        {
          "output_type": "display_data",
          "data": {
            "text/plain": [
              "<Figure size 432x288 with 1 Axes>"
            ],
            "image/png": "[encoded data removed]"
          },
          "metadata": {
            "needs_background": "light"
          }
        },
        {
          "output_type": "display_data",
          "data": {
            "text/plain": [
              "<Figure size 432x288 with 1 Axes>"
            ],
            "image/png": "[encoded data removed]"
          },
          "metadata": {
            "needs_background": "light"
          }
        },
        {
          "output_type": "display_data",
          "data": {
            "text/plain": [
              "<Figure size 432x288 with 1 Axes>"
            ],
            "image/png": "[encoded data removed]"
          },
          "metadata": {
            "needs_background": "light"
          }
        },
        {
          "output_type": "display_data",
          "data": {
            "text/plain": [
              "<Figure size 432x288 with 1 Axes>"
            ],
            "image/png": "[encoded data removed]"
          },
          "metadata": {
            "needs_background": "light"
          }
        },
        {
          "output_type": "display_data",
          "data": {
            "text/plain": [
              "<Figure size 432x288 with 1 Axes>"
            ],
            "image/png": "[encoded data removed]"
          },
          "metadata": {
            "needs_background": "light"
          }
        }
      ]
    },
    {
      "cell_type": "markdown",
      "source": [
        "Fig. 2. The interpolation of data for one astrological object for different bands. We can see that gaussian process is trying to mimic the tendencies in flux. It interpolates zeroes in between the time groups which is okay based on the data."
      ],
      "metadata": {
        "id": "HETPtztNkggS"
      }
    },
    {
      "cell_type": "markdown",
      "source": [
        "<font color=\"red\"> FBB again here astronomical - your GP is not working at all, for what I can see it just returns 0's everywhere</font>"
      ],
      "metadata": {
        "id": "NnVIgZXnxXAK"
      }
    },
    {
      "cell_type": "markdown",
      "source": [
        "## IV. Saving the data"
      ],
      "metadata": {
        "id": "Qqd3XzWOy9PN"
      }
    },
    {
      "cell_type": "markdown",
      "source": [
        "We will create the dataset where each row corresponds to part object and band, i.e. row 1 would be object 615 1st band and etc."
      ],
      "metadata": {
        "id": "JX3loC4JzAO5"
      }
    },
    {
      "cell_type": "code",
      "source": [
        "ids = ids.tolist()\n",
        "bands = bands.tolist()"
      ],
      "metadata": {
        "id": "eO8adLLUzNu6"
      },
      "execution_count": null,
      "outputs": []
    },
    {
      "cell_type": "code",
      "source": [
        "df = np.zeros((len(ids)*len(bands), samples))"
      ],
      "metadata": {
        "id": "kxqdwPPMlGXJ"
      },
      "execution_count": null,
      "outputs": []
    },
    {
      "cell_type": "code",
      "source": [
        "df.shape"
      ],
      "metadata": {
        "colab": {
          "base_uri": "https://localhost:8080/"
        },
        "id": "H7ce9vs0p_OK",
        "outputId": "c6c3de57-c923-482f-9470-c7b6ddc64e62"
      },
      "execution_count": null,
      "outputs": [
        {
          "output_type": "execute_result",
          "data": {
            "text/plain": [
              "(47088, 500)"
            ]
          },
          "metadata": {},
          "execution_count": 52
        }
      ]
    },
    {
      "cell_type": "code",
      "source": [
        "for i in ids:\n",
        "  for band in bands:\n",
        "    subset = lcvs_stand[lcvs_stand['object_id'] == i][lcvs_stand['passband'] == band]\n",
        "    t = subset.new_time\n",
        "    y = subset.flux\n",
        "    yerr = subset.flux_err\n",
        "\n",
        "    gp.compute(t, yerr)\n",
        "    pred, pred_var = gp.predict(y, t_pred, return_var=True)\n",
        "    pos1 = ids.index(i)\n",
        "    pos2 = bands.index(band)\n",
        "    df[pos1 + pos2] = pred"
      ],
      "metadata": {
        "colab": {
          "base_uri": "https://localhost:8080/"
        },
        "id": "8bOOJpp7nqkR",
        "outputId": "47b168a3-b744-4ef9-a141-00a12bccc989"
      },
      "execution_count": null,
      "outputs": [
        {
          "output_type": "stream",
          "name": "stderr",
          "text": [
            "/usr/local/lib/python3.7/dist-packages/ipykernel_launcher.py:3: UserWarning: Boolean Series key will be reindexed to match DataFrame index.\n",
            "  This is separate from the ipykernel package so we can avoid doing imports until\n"
          ]
        }
      ]
    },
    {
      "cell_type": "code",
      "source": [
        "df"
      ],
      "metadata": {
        "colab": {
          "base_uri": "https://localhost:8080/"
        },
        "id": "V4_Lc40krXmS",
        "outputId": "99c1f5d3-3435-49e6-eeba-aa3f98a0a18d"
      },
      "execution_count": null,
      "outputs": [
        {
          "output_type": "execute_result",
          "data": {
            "text/plain": [
              "array([[-7.63629284e-01, -5.74473349e-01, -5.12947255e-01, ...,\n",
              "         0.00000000e+00,  0.00000000e+00,  0.00000000e+00],\n",
              "       [ 1.40456601e+00, -2.02854956e-03, -1.46331871e-07, ...,\n",
              "         0.00000000e+00,  0.00000000e+00,  0.00000000e+00],\n",
              "       [-2.07317223e-01,  1.84563072e-02,  2.95976677e-02, ...,\n",
              "         0.00000000e+00,  0.00000000e+00,  0.00000000e+00],\n",
              "       ...,\n",
              "       [ 0.00000000e+00,  0.00000000e+00,  0.00000000e+00, ...,\n",
              "         0.00000000e+00,  0.00000000e+00,  0.00000000e+00],\n",
              "       [ 0.00000000e+00,  0.00000000e+00,  0.00000000e+00, ...,\n",
              "         0.00000000e+00,  0.00000000e+00,  0.00000000e+00],\n",
              "       [ 0.00000000e+00,  0.00000000e+00,  0.00000000e+00, ...,\n",
              "         0.00000000e+00,  0.00000000e+00,  0.00000000e+00]])"
            ]
          },
          "metadata": {},
          "execution_count": 54
        }
      ]
    },
    {
      "cell_type": "code",
      "source": [
        "cd /content/gdrive/MyDrive/MLTSA22/HW7"
      ],
      "metadata": {
        "colab": {
          "base_uri": "https://localhost:8080/"
        },
        "id": "hscUJ8XT2l8D",
        "outputId": "886532ab-1185-4454-a61c-a9bc81ec8671"
      },
      "execution_count": null,
      "outputs": [
        {
          "output_type": "stream",
          "name": "stdout",
          "text": [
            "/content/gdrive/MyDrive/MLTSA22/HW7\n"
          ]
        }
      ]
    },
    {
      "cell_type": "code",
      "source": [
        "np.savetxt('data_after.csv', df, delimiter=',')"
      ],
      "metadata": {
        "id": "JTguKjMX2wkB"
      },
      "execution_count": null,
      "outputs": []
    }
  ]
}