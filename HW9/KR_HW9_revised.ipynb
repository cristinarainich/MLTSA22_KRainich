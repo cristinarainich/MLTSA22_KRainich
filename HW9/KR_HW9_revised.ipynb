{
  "nbformat": 4,
  "nbformat_minor": 0,
  "metadata": {
    "colab": {
      "name": "KR_HW9_revised.ipynb",
      "provenance": [],
      "collapsed_sections": [],
      "include_colab_link": true
    },
    "kernelspec": {
      "name": "python3",
      "display_name": "Python 3"
    },
    "language_info": {
      "name": "python"
    },
    "accelerator": "GPU"
  },
  "cells": [
    {
      "cell_type": "markdown",
      "metadata": {
        "id": "view-in-github",
        "colab_type": "text"
      },
      "source": [
        "<a href=\"https://colab.research.google.com/github/cristinarainich/MLTSA22_KRainich/blob/main/HW9/KR_HW9_revised.ipynb\" target=\"_parent\"><img src=\"https://colab.research.google.com/assets/colab-badge.svg\" alt=\"Open In Colab\"/></a>"
      ]
    },
    {
      "cell_type": "markdown",
      "source": [
        "## Imports, data preparation "
      ],
      "metadata": {
        "id": "ZSz6nEZjJZW_"
      }
    },
    {
      "cell_type": "code",
      "execution_count": null,
      "metadata": {
        "colab": {
          "base_uri": "https://localhost:8080/"
        },
        "id": "HIemDZ33xFWK",
        "outputId": "03d34100-2cfa-43a6-cbf0-b197f44c441f"
      },
      "outputs": [
        {
          "output_type": "stream",
          "name": "stdout",
          "text": [
            "Populating the interactive namespace from numpy and matplotlib\n"
          ]
        },
        {
          "output_type": "stream",
          "name": "stderr",
          "text": [
            "/usr/local/lib/python3.7/dist-packages/IPython/core/magics/pylab.py:161: UserWarning: pylab import has clobbered these variables: ['sample', 'ndim']\n",
            "`%matplotlib` prevents importing * from pylab and numpy\n",
            "  \"\\n`%matplotlib` prevents importing * from pylab and numpy\"\n"
          ]
        }
      ],
      "source": [
        "import pandas as pd\n",
        "import numpy as np\n",
        "import pylab as pl\n",
        "from scipy import stats \n",
        "from scipy.stats import linregress\n",
        "import keras\n",
        "from keras.datasets import mnist\n",
        "from keras.models import Sequential\n",
        "from keras.layers import Dense\n",
        "from keras import backend as K\n",
        "import glob\n",
        "from PIL import Image\n",
        "from sklearn.model_selection import train_test_split\n",
        "from sklearn.ensemble import RandomForestClassifier\n",
        "import seaborn as sns\n",
        "from tensorflow import keras\n",
        "from keras import layers \n",
        "from keras.layers import Dense, Input, Flatten,\\\n",
        "                   Reshape, LeakyReLU as LR,\\\n",
        "                   Activation, Dropout\n",
        "from keras.models import Model, Sequential\n",
        "from sklearn.metrics import confusion_matrix\n",
        "from keras import backend as K\n",
        "\n",
        "%pylab inline"
      ]
    },
    {
      "cell_type": "code",
      "source": [
        "from google.colab import drive\n",
        "drive.mount('/content/gdrive')"
      ],
      "metadata": {
        "colab": {
          "base_uri": "https://localhost:8080/"
        },
        "id": "JlTOqAGoxKXq",
        "outputId": "d8fe1a6f-d3a1-435d-d462-36e8aba50af3"
      },
      "execution_count": null,
      "outputs": [
        {
          "output_type": "stream",
          "name": "stdout",
          "text": [
            "Mounted at /content/gdrive\n"
          ]
        }
      ]
    },
    {
      "cell_type": "code",
      "source": [
        "!pwd"
      ],
      "metadata": {
        "colab": {
          "base_uri": "https://localhost:8080/"
        },
        "id": "JuvMpJxbxO4f",
        "outputId": "a1017347-4687-42cc-b0dd-cfc415f56300"
      },
      "execution_count": null,
      "outputs": [
        {
          "output_type": "stream",
          "name": "stdout",
          "text": [
            "/content\n"
          ]
        }
      ]
    },
    {
      "cell_type": "code",
      "source": [
        "cd /content/gdrive/MyDrive/MLTSA22/HW7"
      ],
      "metadata": {
        "colab": {
          "base_uri": "https://localhost:8080/"
        },
        "id": "5B-eUL0bxVnj",
        "outputId": "97661563-4aff-49df-fc81-880a778817f5"
      },
      "execution_count": null,
      "outputs": [
        {
          "output_type": "stream",
          "name": "stdout",
          "text": [
            "/content/gdrive/MyDrive/MLTSA22/HW7\n"
          ]
        }
      ]
    },
    {
      "cell_type": "code",
      "source": [
        "!ls /content/gdrive/MyDrive/MLTSA22/HW7"
      ],
      "metadata": {
        "colab": {
          "base_uri": "https://localhost:8080/"
        },
        "id": "oVDpgHdcxY9S",
        "outputId": "a751d29b-ffe6-484f-dc3a-19aeb12e5297"
      },
      "execution_count": null,
      "outputs": [
        {
          "output_type": "stream",
          "name": "stdout",
          "text": [
            "data_after.csv\t       test_set_batch2.csv  test_set_batch9.csv\n",
            "data_note.pdf\t       test_set_batch3.csv  test_set.csv\n",
            "PLAsTiCC-2018.zip      test_set_batch4.csv  test_set_metadata.csv\n",
            "sample_submission.csv  test_set_batch5.csv  test_set_sample.csv\n",
            "test_set_batch10.csv   test_set_batch6.csv  training_set.csv\n",
            "test_set_batch11.csv   test_set_batch7.csv  training_set_metadata.csv\n",
            "test_set_batch1.csv    test_set_batch8.csv\n"
          ]
        }
      ]
    },
    {
      "cell_type": "code",
      "source": [
        "df = pd.read_csv('data_after.csv', header=None)"
      ],
      "metadata": {
        "id": "TIqBoV7QxdHN"
      },
      "execution_count": null,
      "outputs": []
    },
    {
      "cell_type": "code",
      "source": [
        "df.shape"
      ],
      "metadata": {
        "colab": {
          "base_uri": "https://localhost:8080/"
        },
        "id": "UZR9Z0gGxiko",
        "outputId": "05854081-39a4-4914-a608-b48fdfe3e284"
      },
      "execution_count": null,
      "outputs": [
        {
          "output_type": "execute_result",
          "data": {
            "text/plain": [
              "(47088, 500)"
            ]
          },
          "metadata": {},
          "execution_count": 7
        }
      ]
    },
    {
      "cell_type": "code",
      "source": [
        "astron = df.to_numpy()"
      ],
      "metadata": {
        "id": "4hG3P8tpOB4i"
      },
      "execution_count": null,
      "outputs": []
    },
    {
      "cell_type": "markdown",
      "source": [
        "In this dataframe, we have 47 088 raws corresponding to 7848 astronomical objects and their 6 bands. So, first 6 rows are the bands for object 1, next 6 rows - the bands for object 2 and etc. The order of bands os the following: [2 1 3 4 5 0]. Now let's reshape this data so that we will have the data frame of (7847, 3000) shape. In other words, each line will correspond to the time series of one astronomical object where the bands will follow each other in a fixed order."
      ],
      "metadata": {
        "id": "H4XF2Xsy2kI5"
      }
    },
    {
      "cell_type": "code",
      "source": [
        "astron.shape"
      ],
      "metadata": {
        "colab": {
          "base_uri": "https://localhost:8080/"
        },
        "id": "eW1thWVBOK0-",
        "outputId": "444ca324-853e-4ba6-8afe-480add377d87"
      },
      "execution_count": null,
      "outputs": [
        {
          "output_type": "execute_result",
          "data": {
            "text/plain": [
              "(47088, 500)"
            ]
          },
          "metadata": {},
          "execution_count": 9
        }
      ]
    },
    {
      "cell_type": "code",
      "source": [
        "data = np.zeros((7848, 3000))"
      ],
      "metadata": {
        "id": "cdljKUR2PXd-"
      },
      "execution_count": null,
      "outputs": []
    },
    {
      "cell_type": "code",
      "source": [
        "data.shape"
      ],
      "metadata": {
        "colab": {
          "base_uri": "https://localhost:8080/"
        },
        "id": "G-WUE2sDQY9s",
        "outputId": "06bfbe9e-1f32-4fe1-8724-3496c26dcb09"
      },
      "execution_count": null,
      "outputs": [
        {
          "output_type": "execute_result",
          "data": {
            "text/plain": [
              "(7848, 3000)"
            ]
          },
          "metadata": {},
          "execution_count": 11
        }
      ]
    },
    {
      "cell_type": "code",
      "source": [
        "astron[:6].flatten()"
      ],
      "metadata": {
        "colab": {
          "base_uri": "https://localhost:8080/"
        },
        "id": "3pOjlpBoOTVv",
        "outputId": "90a2ab14-796e-4465-b79d-9302826f4ce8"
      },
      "execution_count": null,
      "outputs": [
        {
          "output_type": "execute_result",
          "data": {
            "text/plain": [
              "array([-0.76362928, -0.57447335, -0.51294726, ...,  0.        ,\n",
              "        0.        ,  0.        ])"
            ]
          },
          "metadata": {},
          "execution_count": 12
        }
      ]
    },
    {
      "cell_type": "code",
      "source": [
        "counter = 0\n",
        "j = 0\n",
        "for i in range(0, astron.shape[0], 6):\n",
        "  if i != 0:\n",
        "    data[j] = astron[counter:i].flatten() #we take each 6 rows, combine (flatten) them and put as a new row in data dataset. \n",
        "    counter = i\n",
        "    j += 1"
      ],
      "metadata": {
        "id": "EtdPLwswQJJY"
      },
      "execution_count": null,
      "outputs": []
    },
    {
      "cell_type": "code",
      "source": [
        "data.shape"
      ],
      "metadata": {
        "id": "OzJ0x-24HMMi",
        "colab": {
          "base_uri": "https://localhost:8080/"
        },
        "outputId": "f361928d-4c3d-44c8-85df-91a1ce3d8313"
      },
      "execution_count": null,
      "outputs": [
        {
          "output_type": "execute_result",
          "data": {
            "text/plain": [
              "(7848, 3000)"
            ]
          },
          "metadata": {},
          "execution_count": 305
        }
      ]
    },
    {
      "cell_type": "markdown",
      "source": [
        "## Autoencoder model"
      ],
      "metadata": {
        "id": "ym0V2bR4GVMW"
      }
    },
    {
      "cell_type": "markdown",
      "source": [
        "Here I will create a really simple autoencoder to get the automated feature so that I could feed it into the classifier later. "
      ],
      "metadata": {
        "id": "CZyv1Di1YJSP"
      }
    },
    {
      "cell_type": "code",
      "source": [
        "data_train, data_test = train_test_split(data, test_size=0.3, shuffle = True)"
      ],
      "metadata": {
        "id": "gP1WuFotH1KX"
      },
      "execution_count": null,
      "outputs": []
    },
    {
      "cell_type": "code",
      "source": [
        "data_train.shape"
      ],
      "metadata": {
        "colab": {
          "base_uri": "https://localhost:8080/"
        },
        "id": "tXlvyHffYRrv",
        "outputId": "d866c642-5897-4c41-8480-4067ea90a6db"
      },
      "execution_count": null,
      "outputs": [
        {
          "output_type": "execute_result",
          "data": {
            "text/plain": [
              "(5493, 3000)"
            ]
          },
          "metadata": {},
          "execution_count": 307
        }
      ]
    },
    {
      "cell_type": "code",
      "source": [
        "data_test.shape"
      ],
      "metadata": {
        "colab": {
          "base_uri": "https://localhost:8080/"
        },
        "id": "gUKYsERwYddO",
        "outputId": "30ebd07c-760e-44d3-fec8-c9f1d2f291da"
      },
      "execution_count": null,
      "outputs": [
        {
          "output_type": "execute_result",
          "data": {
            "text/plain": [
              "(2355, 3000)"
            ]
          },
          "metadata": {},
          "execution_count": 308
        }
      ]
    },
    {
      "cell_type": "code",
      "source": [
        "ndim = data.shape[1]\n",
        "model = Sequential()\n",
        "## encoder\n",
        "# input layer and the output size\n",
        "model.add(Dense(128, activation='relu', input_dim=ndim))\n",
        "#compression layer\n",
        "model.add(Dense(64, activation='relu'))\n",
        "## deencoder\n",
        "#decompression layer, same size as in the encoder\n",
        "model.add(Dense(128, activation='relu'))\n",
        "#output layer, same size as input\n",
        "model.add(Dense(ndim, activation='linear'))"
      ],
      "metadata": {
        "id": "Nx9TCzNdY1Gk"
      },
      "execution_count": null,
      "outputs": []
    },
    {
      "cell_type": "code",
      "source": [
        "model.compile(optimizer=\"adam\", loss=\"mean_squared_error\")"
      ],
      "metadata": {
        "id": "t-1TLCD5bHJT"
      },
      "execution_count": null,
      "outputs": []
    },
    {
      "cell_type": "markdown",
      "source": [
        "I've found a blog where the researchers were applying adam optimizer to time series data. It is recommended to use for noisy data. Is our data noisy? Most probably very much so. "
      ],
      "metadata": {
        "id": "43B5S_ZsJ2WZ"
      }
    },
    {
      "cell_type": "code",
      "source": [
        "print(model.summary())"
      ],
      "metadata": {
        "colab": {
          "base_uri": "https://localhost:8080/"
        },
        "id": "9vlhbh7scXz9",
        "outputId": "ebe02f76-f0db-438e-a6cc-dfa7e006b5e6"
      },
      "execution_count": null,
      "outputs": [
        {
          "output_type": "stream",
          "name": "stdout",
          "text": [
            "Model: \"sequential_4\"\n",
            "_________________________________________________________________\n",
            " Layer (type)                Output Shape              Param #   \n",
            "=================================================================\n",
            " dense_16 (Dense)            (None, 128)               384128    \n",
            "                                                                 \n",
            " dense_17 (Dense)            (None, 64)                8256      \n",
            "                                                                 \n",
            " dense_18 (Dense)            (None, 128)               8320      \n",
            "                                                                 \n",
            " dense_19 (Dense)            (None, 3000)              387000    \n",
            "                                                                 \n",
            "=================================================================\n",
            "Total params: 787,704\n",
            "Trainable params: 787,704\n",
            "Non-trainable params: 0\n",
            "_________________________________________________________________\n",
            "None\n"
          ]
        }
      ]
    },
    {
      "cell_type": "code",
      "source": [
        "autoencoder = model.fit(data_train, data_train, \n",
        "                               validation_data=(data_test, data_test),\n",
        "                               epochs=20, batch_size=100, verbose=1)"
      ],
      "metadata": {
        "colab": {
          "base_uri": "https://localhost:8080/"
        },
        "id": "5_Qcs_XkcaHP",
        "outputId": "03d9ca3c-2617-476f-8268-71a7f63a7988"
      },
      "execution_count": null,
      "outputs": [
        {
          "output_type": "stream",
          "name": "stdout",
          "text": [
            "Epoch 1/20\n",
            "55/55 [==============================] - 3s 21ms/step - loss: 0.0015 - val_loss: 0.0016\n",
            "Epoch 2/20\n",
            "55/55 [==============================] - 1s 13ms/step - loss: 0.0015 - val_loss: 0.0016\n",
            "Epoch 3/20\n",
            "55/55 [==============================] - 1s 12ms/step - loss: 0.0014 - val_loss: 0.0016\n",
            "Epoch 4/20\n",
            "55/55 [==============================] - 1s 12ms/step - loss: 0.0014 - val_loss: 0.0015\n",
            "Epoch 5/20\n",
            "55/55 [==============================] - 0s 8ms/step - loss: 0.0014 - val_loss: 0.0015\n",
            "Epoch 6/20\n",
            "55/55 [==============================] - 0s 8ms/step - loss: 0.0013 - val_loss: 0.0015\n",
            "Epoch 7/20\n",
            "55/55 [==============================] - 1s 9ms/step - loss: 0.0013 - val_loss: 0.0014\n",
            "Epoch 8/20\n",
            "55/55 [==============================] - 0s 8ms/step - loss: 0.0012 - val_loss: 0.0014\n",
            "Epoch 9/20\n",
            "55/55 [==============================] - 0s 8ms/step - loss: 0.0012 - val_loss: 0.0014\n",
            "Epoch 10/20\n",
            "55/55 [==============================] - 0s 8ms/step - loss: 0.0012 - val_loss: 0.0014\n",
            "Epoch 11/20\n",
            "55/55 [==============================] - 0s 9ms/step - loss: 0.0011 - val_loss: 0.0014\n",
            "Epoch 12/20\n",
            "55/55 [==============================] - 0s 8ms/step - loss: 0.0011 - val_loss: 0.0014\n",
            "Epoch 13/20\n",
            "55/55 [==============================] - 0s 8ms/step - loss: 0.0011 - val_loss: 0.0014\n",
            "Epoch 14/20\n",
            "55/55 [==============================] - 0s 8ms/step - loss: 0.0011 - val_loss: 0.0014\n",
            "Epoch 15/20\n",
            "55/55 [==============================] - 1s 9ms/step - loss: 0.0010 - val_loss: 0.0014\n",
            "Epoch 16/20\n",
            "55/55 [==============================] - 1s 9ms/step - loss: 0.0010 - val_loss: 0.0014\n",
            "Epoch 17/20\n",
            "55/55 [==============================] - 0s 8ms/step - loss: 0.0010 - val_loss: 0.0014\n",
            "Epoch 18/20\n",
            "55/55 [==============================] - 0s 8ms/step - loss: 9.9814e-04 - val_loss: 0.0014\n",
            "Epoch 19/20\n",
            "55/55 [==============================] - 0s 8ms/step - loss: 9.8380e-04 - val_loss: 0.0014\n",
            "Epoch 20/20\n",
            "55/55 [==============================] - 0s 8ms/step - loss: 9.7364e-04 - val_loss: 0.0014\n"
          ]
        }
      ]
    },
    {
      "cell_type": "code",
      "source": [
        "pl.figure()\n",
        "pl.plot(np.array(autoencoder.history['loss']))\n",
        "pl.plot(autoencoder.history['val_loss'])\n",
        "pl.ylabel('loss')\n",
        "pl.xlabel('iteration')\n",
        "pl.title('The loss fucntion')\n",
        "pl.legend(['train', 'test']);\n",
        "#pl.yscale('log')\n",
        "#pl.xscale('log')"
      ],
      "metadata": {
        "colab": {
          "base_uri": "https://localhost:8080/",
          "height": 296
        },
        "id": "ZiIYEjrodVvl",
        "outputId": "0f8c6bca-37e6-44d4-c4f1-bd1a29e9160b"
      },
      "execution_count": null,
      "outputs": [
        {
          "output_type": "display_data",
          "data": {
            "text/plain": [
              "<Figure size 432x288 with 1 Axes>"
            ],
            "image/png": "[encoded data removed]"
          },
          "metadata": {
            "needs_background": "light"
          }
        }
      ]
    },
    {
      "cell_type": "markdown",
      "source": [
        "Fig. 1. The plot of the loss function for our train and testing dataset. I've tried 200 and less epochs, but the model overfits based on the trend of test loss function. Here I could notice some leaning towards overfitting but let's keep it like that. Ideally, I would love to train it in real time until it reaches the lowest (locally) point in test function or till convergence (which is not really happening here). I used 20 epochs here because later on the overfitting could really influence the output of the classifier (initial hypothesis). After rerunning the script, it didn't change it. "
      ],
      "metadata": {
        "id": "GZl-MvMtfNPT"
      }
    },
    {
      "cell_type": "code",
      "source": [
        "predictions_auto = model.predict(data_test)"
      ],
      "metadata": {
        "id": "hoFS6iPIe2Eh"
      },
      "execution_count": null,
      "outputs": []
    },
    {
      "cell_type": "code",
      "source": [
        "sample = data_test[55]\n",
        "sample_pred = predictions_auto[55]\n",
        "bands = [2, 1, 3, 4, 5, 0]\n",
        "counter = 0\n",
        "j = 0\n",
        "for i in range(0, 3001, 500):\n",
        "  if i != 0:\n",
        "    pl.figure()\n",
        "    pl.plot(sample[counter:i], label = 'true')\n",
        "    pl.plot(sample_pred[counter:i], label = 'prediction')\n",
        "    pl.xlabel(\"Time points\")\n",
        "    pl.ylabel(\"Standardized flux\")\n",
        "    pl.title(\"Astronomical object #55 \" + \"Band \" + str(bands[j]))\n",
        "    pl.legend();\n",
        "    counter = i\n",
        "    j += 1\n",
        "\n"
      ],
      "metadata": {
        "colab": {
          "base_uri": "https://localhost:8080/",
          "height": 1000
        },
        "id": "6vTo2bVOk_Jt",
        "outputId": "8e89004a-bd14-4513-f30a-c3687f713e2d"
      },
      "execution_count": null,
      "outputs": [
        {
          "output_type": "display_data",
          "data": {
            "text/plain": [
              "<Figure size 432x288 with 1 Axes>"
            ],
            "image/png": "[encoded data removed]"
          },
          "metadata": {
            "needs_background": "light"
          }
        },
        {
          "output_type": "display_data",
          "data": {
            "text/plain": [
              "<Figure size 432x288 with 1 Axes>"
            ],
            "image/png": "[encoded data removed]"
          },
          "metadata": {
            "needs_background": "light"
          }
        },
        {
          "output_type": "display_data",
          "data": {
            "text/plain": [
              "<Figure size 432x288 with 1 Axes>"
            ],
            "image/png": "[encoded data removed]"
          },
          "metadata": {
            "needs_background": "light"
          }
        },
        {
          "output_type": "display_data",
          "data": {
            "text/plain": [
              "<Figure size 432x288 with 1 Axes>"
            ],
            "image/png": "[encoded data removed]"
          },
          "metadata": {
            "needs_background": "light"
          }
        },
        {
          "output_type": "display_data",
          "data": {
            "text/plain": [
              "<Figure size 432x288 with 1 Axes>"
            ],
            "image/png": "[encoded data removed]"
          },
          "metadata": {
            "needs_background": "light"
          }
        },
        {
          "output_type": "display_data",
          "data": {
            "text/plain": [
              "<Figure size 432x288 with 1 Axes>"
            ],
            "image/png": "[encoded data removed]"
          },
          "metadata": {
            "needs_background": "light"
          }
        }
      ]
    },
    {
      "cell_type": "markdown",
      "source": [
        "Fig. 2. Here are the plot of real and predicted flux based on the autoencoder model for a particular astronomical object in different bands. In orange - there are predicted values, whereas in blue - real ones. We can see that the model grasps overall trend but drastically decrease the fluctuations that could be noise or meaningful data.  "
      ],
      "metadata": {
        "id": "-K_KBvhtoAt4"
      }
    },
    {
      "cell_type": "markdown",
      "source": [
        "<font color=\"red\"> FBB yeah, the model i not very good, lets see if it still helps you make predictions </font>"
      ],
      "metadata": {
        "id": "VMJ24SKhyFYf"
      }
    },
    {
      "cell_type": "markdown",
      "source": [
        "## Feature extraction"
      ],
      "metadata": {
        "id": "hrRiWWyPoHXV"
      }
    },
    {
      "cell_type": "markdown",
      "source": [
        "Now let's extract features from bottleneck layer of the auroencoder and use them for the classification problem later."
      ],
      "metadata": {
        "id": "Z6HuRqZnLbSt"
      }
    },
    {
      "cell_type": "code",
      "source": [
        "# input placeholder\n",
        "inp = model.input                   \n",
        "# extract the bottle neck outputs\n",
        "outputs = model.layers[1].output     \n",
        "# create a function to evaluate the output of the bottle neck layer for a given input\n",
        "functors = K.function([inp], [outputs])    \n",
        "# Testing\n",
        "layer_outs = functors(data_test[:1])\n",
        "pl.imshow(layer_outs[0]);"
      ],
      "metadata": {
        "colab": {
          "base_uri": "https://localhost:8080/",
          "height": 54
        },
        "id": "w6Ug9yKVpezR",
        "outputId": "2ef02361-879f-4eeb-e0e4-16a6a3a547ff"
      },
      "execution_count": null,
      "outputs": [
        {
          "output_type": "display_data",
          "data": {
            "text/plain": [
              "<Figure size 432x288 with 1 Axes>"
            ],
            "image/png": "[encoded data removed]"
          },
          "metadata": {
            "needs_background": "light"
          }
        }
      ]
    },
    {
      "cell_type": "markdown",
      "source": [
        "Fig. 3. The reducted representation of the one of the features in the bottleneck layer."
      ],
      "metadata": {
        "id": "Xsick-3FLv5j"
      }
    },
    {
      "cell_type": "code",
      "source": [
        "outputs.shape"
      ],
      "metadata": {
        "colab": {
          "base_uri": "https://localhost:8080/"
        },
        "id": "u5BB-lQ4q_Y2",
        "outputId": "d22f6ea8-61e7-4939-fd13-bd9852a896dc"
      },
      "execution_count": null,
      "outputs": [
        {
          "output_type": "execute_result",
          "data": {
            "text/plain": [
              "TensorShape([None, 64])"
            ]
          },
          "metadata": {},
          "execution_count": 319
        }
      ]
    },
    {
      "cell_type": "code",
      "source": [
        "btlnck = Model(inputs = inp, outputs = outputs)\n",
        "btlnck_pred = btlnck.predict(data)"
      ],
      "metadata": {
        "id": "XluZaGPArAgY"
      },
      "execution_count": null,
      "outputs": []
    },
    {
      "cell_type": "code",
      "source": [
        "btlnck_pred.shape"
      ],
      "metadata": {
        "colab": {
          "base_uri": "https://localhost:8080/"
        },
        "id": "yU0w3Jj5sSTW",
        "outputId": "3f5cc958-30f8-4027-83d5-c7bad0d88805"
      },
      "execution_count": null,
      "outputs": [
        {
          "output_type": "execute_result",
          "data": {
            "text/plain": [
              "(7848, 64)"
            ]
          },
          "metadata": {},
          "execution_count": 321
        }
      ]
    },
    {
      "cell_type": "code",
      "source": [
        "btlnck_pred[0]"
      ],
      "metadata": {
        "colab": {
          "base_uri": "https://localhost:8080/"
        },
        "id": "TqvXlZQwsWd-",
        "outputId": "ea2b4e1b-f933-49fd-a504-61d52072cb9e"
      },
      "execution_count": null,
      "outputs": [
        {
          "output_type": "execute_result",
          "data": {
            "text/plain": [
              "array([0.        , 0.        , 0.        , 0.        , 0.        ,\n",
              "       0.        , 1.5908939 , 0.11599205, 0.        , 0.96384203,\n",
              "       0.47609997, 0.        , 0.02504164, 0.9371057 , 0.        ,\n",
              "       1.1720443 , 1.0265878 , 0.10092629, 0.        , 0.68914086,\n",
              "       1.1816869 , 1.132575  , 0.5120853 , 0.        , 0.5315187 ,\n",
              "       0.94854784, 1.7090197 , 0.14061275, 0.32185152, 1.2560097 ,\n",
              "       0.5179154 , 0.        , 1.885252  , 0.07407217, 0.        ,\n",
              "       0.        , 1.8911154 , 0.        , 0.9640707 , 0.9549562 ,\n",
              "       0.47828722, 0.7348816 , 0.35262564, 0.01574286, 0.        ,\n",
              "       0.        , 0.28630462, 0.36177927, 1.3432533 , 1.1971294 ,\n",
              "       0.33743882, 0.        , 0.17340323, 0.6726199 , 0.3830188 ,\n",
              "       0.8742219 , 0.        , 0.6522187 , 0.5230649 , 0.        ,\n",
              "       0.7020346 , 0.        , 1.0477828 , 2.5160835 ], dtype=float32)"
            ]
          },
          "metadata": {},
          "execution_count": 322
        }
      ]
    },
    {
      "cell_type": "markdown",
      "source": [
        "## Combining autoencoder and preselected features"
      ],
      "metadata": {
        "id": "21tm0YXgMAoq"
      }
    },
    {
      "cell_type": "markdown",
      "source": [
        "So, we extracted the features from the bottleneck layer. Now let's combine them with the preselected features that we've chosen for HW 7. "
      ],
      "metadata": {
        "id": "MdfPnXrstEKK"
      }
    },
    {
      "cell_type": "code",
      "source": [
        "!ls /content/gdrive/MyDrive/MLTSA22/HW7"
      ],
      "metadata": {
        "colab": {
          "base_uri": "https://localhost:8080/"
        },
        "id": "gkRV5IvwtIQR",
        "outputId": "beac6aec-23b1-423b-8c33-3ef006db7902"
      },
      "execution_count": null,
      "outputs": [
        {
          "output_type": "stream",
          "name": "stdout",
          "text": [
            "allfeatures.csv        test_set_batch1.csv  test_set_batch8.csv\n",
            "data_after.csv\t       test_set_batch2.csv  test_set_batch9.csv\n",
            "data_note.pdf\t       test_set_batch3.csv  test_set.csv\n",
            "PLAsTiCC-2018.zip      test_set_batch4.csv  test_set_metadata.csv\n",
            "sample_submission.csv  test_set_batch5.csv  test_set_sample.csv\n",
            "test_set_batch10.csv   test_set_batch6.csv  training_set.csv\n",
            "test_set_batch11.csv   test_set_batch7.csv  training_set_metadata.csv\n"
          ]
        }
      ]
    },
    {
      "cell_type": "code",
      "source": [
        "allfeatures = pd.read_csv('allfeatures.csv', header=None,\n",
        "                          names = ('0 mean_stand', '0 min_raw', '0 max_raw', '0 std_stand', '0 slopes', '0 intercepts',\n",
        "                                   '1 mean_stand', '1 min_raw', '1 max_raw', '1 std_stand', '1 slopes', '1 intercepts',\n",
        "                                   '2 mean_stand', '2 min_raw', '2 max_raw', '2 std_stand', '2 slopes', '2 intercepts',\n",
        "                                   '3 mean_stand', '3 min_raw', '3 max_raw', '3 std_stand', '3 slopes', '3 intercepts',\n",
        "                                   '4 mean_stand', '4 min_raw', '4 max_raw', '4 std_stand', '4 slopes', '4 intercepts',\n",
        "                                   '5 mean_stand', '5 min_raw', '5 max_raw', '5 std_stand', '5 slopes', '5 intercepts',\n",
        "                                   'decl'))"
      ],
      "metadata": {
        "id": "eyJWERf7vXtf"
      },
      "execution_count": null,
      "outputs": []
    },
    {
      "cell_type": "code",
      "source": [
        "allfeatures.head()"
      ],
      "metadata": {
        "id": "9wiOnlEiv7b7",
        "colab": {
          "base_uri": "https://localhost:8080/",
          "height": 403
        },
        "outputId": "b4fa94f0-5eff-49da-a969-a881f0a41c29"
      },
      "execution_count": null,
      "outputs": [
        {
          "output_type": "execute_result",
          "data": {
            "text/plain": [
              "   0 mean_stand   0 min_raw   0 max_raw  0 std_stand  0 slopes  0 intercepts  \\\n",
              "0  4.229421e-17 -116.913223  125.182808          1.0  0.000524    -31.568270   \n",
              "1  3.806479e-17  -14.735178   14.509829          1.0 -0.002859    172.455472   \n",
              "2 -7.709882e-18   -3.459960    5.942166          1.0 -0.000121      7.289630   \n",
              "3 -1.079383e-16   -3.874349   18.014029          1.0 -0.000700     42.151725   \n",
              "4  3.524518e-18   -6.804703    5.330927          1.0  0.001234    -74.410211   \n",
              "\n",
              "   1 mean_stand    1 min_raw   1 max_raw  1 std_stand  ...  4 std_stand  \\\n",
              "0  2.871266e-16 -1100.440063  660.626343          1.0  ...          1.0   \n",
              "1  1.586033e-17   -11.715749    9.129021          1.0  ...          1.0   \n",
              "2 -1.120898e-17    -3.393080    5.693109          1.0  ...          1.0   \n",
              "3  2.725994e-17    -3.618410  192.244293          1.0  ...          1.0   \n",
              "4 -6.938894e-17    -2.622109   37.170177          1.0  ...          1.0   \n",
              "\n",
              "   4 slopes  4 intercepts  5 mean_stand   5 min_raw   5 max_raw  5 std_stand  \\\n",
              "0  0.001037    -62.397784 -9.738798e-18 -422.815094  378.188141          1.0   \n",
              "1 -0.002681    161.531278 -1.189525e-17  -14.211164   14.770886          1.0   \n",
              "2  0.001477    -88.965827  4.789197e-17  -19.159811   47.310059          1.0   \n",
              "3 -0.000108      6.494881 -1.312082e-17  -10.249387  141.513290          1.0   \n",
              "4  0.001344    -80.863243 -1.292825e-16  -10.860540  109.157585          1.0   \n",
              "\n",
              "   5 slopes  5 intercepts       decl  \n",
              "0  0.001003    -60.370675 -28.291550  \n",
              "1 -0.001978    119.182082   3.583322  \n",
              "2  0.001259    -75.802184   3.583322  \n",
              "3  0.000003     -0.159352   2.985506  \n",
              "4  0.001110    -66.832942   3.732834  \n",
              "\n",
              "[5 rows x 37 columns]"
            ],
            "text/html": [
              "\n",
              "  <div id=\"df-c05ed503-af6d-41bd-8a9e-cbe6a7228bbc\">\n",
              "    <div class=\"colab-df-container\">\n",
              "      <div>\n",
              "<style scoped>\n",
              "    .dataframe tbody tr th:only-of-type {\n",
              "        vertical-align: middle;\n",
              "    }\n",
              "\n",
              "    .dataframe tbody tr th {\n",
              "        vertical-align: top;\n",
              "    }\n",
              "\n",
              "    .dataframe thead th {\n",
              "        text-align: right;\n",
              "    }\n",
              "</style>\n",
              "<table border=\"1\" class=\"dataframe\">\n",
              "  <thead>\n",
              "    <tr style=\"text-align: right;\">\n",
              "      <th></th>\n",
              "      <th>0 mean_stand</th>\n",
              "      <th>0 min_raw</th>\n",
              "      <th>0 max_raw</th>\n",
              "      <th>0 std_stand</th>\n",
              "      <th>0 slopes</th>\n",
              "      <th>0 intercepts</th>\n",
              "      <th>1 mean_stand</th>\n",
              "      <th>1 min_raw</th>\n",
              "      <th>1 max_raw</th>\n",
              "      <th>1 std_stand</th>\n",
              "      <th>...</th>\n",
              "      <th>4 std_stand</th>\n",
              "      <th>4 slopes</th>\n",
              "      <th>4 intercepts</th>\n",
              "      <th>5 mean_stand</th>\n",
              "      <th>5 min_raw</th>\n",
              "      <th>5 max_raw</th>\n",
              "      <th>5 std_stand</th>\n",
              "      <th>5 slopes</th>\n",
              "      <th>5 intercepts</th>\n",
              "      <th>decl</th>\n",
              "    </tr>\n",
              "  </thead>\n",
              "  <tbody>\n",
              "    <tr>\n",
              "      <th>0</th>\n",
              "      <td>4.229421e-17</td>\n",
              "      <td>-116.913223</td>\n",
              "      <td>125.182808</td>\n",
              "      <td>1.0</td>\n",
              "      <td>0.000524</td>\n",
              "      <td>-31.568270</td>\n",
              "      <td>2.871266e-16</td>\n",
              "      <td>-1100.440063</td>\n",
              "      <td>660.626343</td>\n",
              "      <td>1.0</td>\n",
              "      <td>...</td>\n",
              "      <td>1.0</td>\n",
              "      <td>0.001037</td>\n",
              "      <td>-62.397784</td>\n",
              "      <td>-9.738798e-18</td>\n",
              "      <td>-422.815094</td>\n",
              "      <td>378.188141</td>\n",
              "      <td>1.0</td>\n",
              "      <td>0.001003</td>\n",
              "      <td>-60.370675</td>\n",
              "      <td>-28.291550</td>\n",
              "    </tr>\n",
              "    <tr>\n",
              "      <th>1</th>\n",
              "      <td>3.806479e-17</td>\n",
              "      <td>-14.735178</td>\n",
              "      <td>14.509829</td>\n",
              "      <td>1.0</td>\n",
              "      <td>-0.002859</td>\n",
              "      <td>172.455472</td>\n",
              "      <td>1.586033e-17</td>\n",
              "      <td>-11.715749</td>\n",
              "      <td>9.129021</td>\n",
              "      <td>1.0</td>\n",
              "      <td>...</td>\n",
              "      <td>1.0</td>\n",
              "      <td>-0.002681</td>\n",
              "      <td>161.531278</td>\n",
              "      <td>-1.189525e-17</td>\n",
              "      <td>-14.211164</td>\n",
              "      <td>14.770886</td>\n",
              "      <td>1.0</td>\n",
              "      <td>-0.001978</td>\n",
              "      <td>119.182082</td>\n",
              "      <td>3.583322</td>\n",
              "    </tr>\n",
              "    <tr>\n",
              "      <th>2</th>\n",
              "      <td>-7.709882e-18</td>\n",
              "      <td>-3.459960</td>\n",
              "      <td>5.942166</td>\n",
              "      <td>1.0</td>\n",
              "      <td>-0.000121</td>\n",
              "      <td>7.289630</td>\n",
              "      <td>-1.120898e-17</td>\n",
              "      <td>-3.393080</td>\n",
              "      <td>5.693109</td>\n",
              "      <td>1.0</td>\n",
              "      <td>...</td>\n",
              "      <td>1.0</td>\n",
              "      <td>0.001477</td>\n",
              "      <td>-88.965827</td>\n",
              "      <td>4.789197e-17</td>\n",
              "      <td>-19.159811</td>\n",
              "      <td>47.310059</td>\n",
              "      <td>1.0</td>\n",
              "      <td>0.001259</td>\n",
              "      <td>-75.802184</td>\n",
              "      <td>3.583322</td>\n",
              "    </tr>\n",
              "    <tr>\n",
              "      <th>3</th>\n",
              "      <td>-1.079383e-16</td>\n",
              "      <td>-3.874349</td>\n",
              "      <td>18.014029</td>\n",
              "      <td>1.0</td>\n",
              "      <td>-0.000700</td>\n",
              "      <td>42.151725</td>\n",
              "      <td>2.725994e-17</td>\n",
              "      <td>-3.618410</td>\n",
              "      <td>192.244293</td>\n",
              "      <td>1.0</td>\n",
              "      <td>...</td>\n",
              "      <td>1.0</td>\n",
              "      <td>-0.000108</td>\n",
              "      <td>6.494881</td>\n",
              "      <td>-1.312082e-17</td>\n",
              "      <td>-10.249387</td>\n",
              "      <td>141.513290</td>\n",
              "      <td>1.0</td>\n",
              "      <td>0.000003</td>\n",
              "      <td>-0.159352</td>\n",
              "      <td>2.985506</td>\n",
              "    </tr>\n",
              "    <tr>\n",
              "      <th>4</th>\n",
              "      <td>3.524518e-18</td>\n",
              "      <td>-6.804703</td>\n",
              "      <td>5.330927</td>\n",
              "      <td>1.0</td>\n",
              "      <td>0.001234</td>\n",
              "      <td>-74.410211</td>\n",
              "      <td>-6.938894e-17</td>\n",
              "      <td>-2.622109</td>\n",
              "      <td>37.170177</td>\n",
              "      <td>1.0</td>\n",
              "      <td>...</td>\n",
              "      <td>1.0</td>\n",
              "      <td>0.001344</td>\n",
              "      <td>-80.863243</td>\n",
              "      <td>-1.292825e-16</td>\n",
              "      <td>-10.860540</td>\n",
              "      <td>109.157585</td>\n",
              "      <td>1.0</td>\n",
              "      <td>0.001110</td>\n",
              "      <td>-66.832942</td>\n",
              "      <td>3.732834</td>\n",
              "    </tr>\n",
              "  </tbody>\n",
              "</table>\n",
              "<p>5 rows × 37 columns</p>\n",
              "</div>\n",
              "      <button class=\"colab-df-convert\" onclick=\"convertToInteractive('df-c05ed503-af6d-41bd-8a9e-cbe6a7228bbc')\"\n",
              "              title=\"Convert this dataframe to an interactive table.\"\n",
              "              style=\"display:none;\">\n",
              "        \n",
              "  <svg xmlns=\"http://www.w3.org/2000/svg\" height=\"24px\"viewBox=\"0 0 24 24\"\n",
              "       width=\"24px\">\n",
              "    <path d=\"M0 0h24v24H0V0z\" fill=\"none\"/>\n",
              "    <path d=\"M18.56 5.44l.94 2.06.94-2.06 2.06-.94-2.06-.94-.94-2.06-.94 2.06-2.06.94zm-11 1L8.5 8.5l.94-2.06 2.06-.94-2.06-.94L8.5 2.5l-.94 2.06-2.06.94zm10 10l.94 2.06.94-2.06 2.06-.94-2.06-.94-.94-2.06-.94 2.06-2.06.94z\"/><path d=\"M17.41 7.96l-1.37-1.37c-.4-.4-.92-.59-1.43-.59-.52 0-1.04.2-1.43.59L10.3 9.45l-7.72 7.72c-.78.78-.78 2.05 0 2.83L4 21.41c.39.39.9.59 1.41.59.51 0 1.02-.2 1.41-.59l7.78-7.78 2.81-2.81c.8-.78.8-2.07 0-2.86zM5.41 20L4 18.59l7.72-7.72 1.47 1.35L5.41 20z\"/>\n",
              "  </svg>\n",
              "      </button>\n",
              "      \n",
              "  <style>\n",
              "    .colab-df-container {\n",
              "      display:flex;\n",
              "      flex-wrap:wrap;\n",
              "      gap: 12px;\n",
              "    }\n",
              "\n",
              "    .colab-df-convert {\n",
              "      background-color: #E8F0FE;\n",
              "      border: none;\n",
              "      border-radius: 50%;\n",
              "      cursor: pointer;\n",
              "      display: none;\n",
              "      fill: #1967D2;\n",
              "      height: 32px;\n",
              "      padding: 0 0 0 0;\n",
              "      width: 32px;\n",
              "    }\n",
              "\n",
              "    .colab-df-convert:hover {\n",
              "      background-color: #E2EBFA;\n",
              "      box-shadow: 0px 1px 2px rgba(60, 64, 67, 0.3), 0px 1px 3px 1px rgba(60, 64, 67, 0.15);\n",
              "      fill: #174EA6;\n",
              "    }\n",
              "\n",
              "    [theme=dark] .colab-df-convert {\n",
              "      background-color: #3B4455;\n",
              "      fill: #D2E3FC;\n",
              "    }\n",
              "\n",
              "    [theme=dark] .colab-df-convert:hover {\n",
              "      background-color: #434B5C;\n",
              "      box-shadow: 0px 1px 3px 1px rgba(0, 0, 0, 0.15);\n",
              "      filter: drop-shadow(0px 1px 2px rgba(0, 0, 0, 0.3));\n",
              "      fill: #FFFFFF;\n",
              "    }\n",
              "  </style>\n",
              "\n",
              "      <script>\n",
              "        const buttonEl =\n",
              "          document.querySelector('#df-c05ed503-af6d-41bd-8a9e-cbe6a7228bbc button.colab-df-convert');\n",
              "        buttonEl.style.display =\n",
              "          google.colab.kernel.accessAllowed ? 'block' : 'none';\n",
              "\n",
              "        async function convertToInteractive(key) {\n",
              "          const element = document.querySelector('#df-c05ed503-af6d-41bd-8a9e-cbe6a7228bbc');\n",
              "          const dataTable =\n",
              "            await google.colab.kernel.invokeFunction('convertToInteractive',\n",
              "                                                     [key], {});\n",
              "          if (!dataTable) return;\n",
              "\n",
              "          const docLinkHtml = 'Like what you see? Visit the ' +\n",
              "            '<a target=\"_blank\" href=https://colab.research.google.com/notebooks/data_table.ipynb>data table notebook</a>'\n",
              "            + ' to learn more about interactive tables.';\n",
              "          element.innerHTML = '';\n",
              "          dataTable['output_type'] = 'display_data';\n",
              "          await google.colab.output.renderOutput(dataTable, element);\n",
              "          const docLink = document.createElement('div');\n",
              "          docLink.innerHTML = docLinkHtml;\n",
              "          element.appendChild(docLink);\n",
              "        }\n",
              "      </script>\n",
              "    </div>\n",
              "  </div>\n",
              "  "
            ]
          },
          "metadata": {},
          "execution_count": 323
        }
      ]
    },
    {
      "cell_type": "code",
      "source": [
        "allfeatures.shape"
      ],
      "metadata": {
        "colab": {
          "base_uri": "https://localhost:8080/"
        },
        "id": "23bqq0-axtqW",
        "outputId": "f371bda7-518c-4e7c-c698-9a0e1686ee75"
      },
      "execution_count": null,
      "outputs": [
        {
          "output_type": "execute_result",
          "data": {
            "text/plain": [
              "(7848, 37)"
            ]
          },
          "metadata": {},
          "execution_count": 324
        }
      ]
    },
    {
      "cell_type": "code",
      "source": [
        "bottle_feautures = pd.DataFrame(btlnck_pred) #features from autoencoder"
      ],
      "metadata": {
        "id": "Ec5JDplSyeqG"
      },
      "execution_count": null,
      "outputs": []
    },
    {
      "cell_type": "code",
      "source": [
        "bottle_feautures.head()"
      ],
      "metadata": {
        "colab": {
          "base_uri": "https://localhost:8080/",
          "height": 299
        },
        "id": "9dSzgOFzyk8u",
        "outputId": "d4d06e0e-276e-405c-b8c5-de219a1d9ce3"
      },
      "execution_count": null,
      "outputs": [
        {
          "output_type": "execute_result",
          "data": {
            "text/plain": [
              "         0         1         2         3         4         5         6   \\\n",
              "0  0.000000  0.000000  0.000000  0.000000  0.000000  0.000000  1.590894   \n",
              "1  0.329357  1.464800  0.000000  0.170306  0.000000  0.000000  1.127406   \n",
              "2  1.535905  0.044649  0.308551  0.593196  0.000000  0.526254  2.222599   \n",
              "3  1.481751  1.660629  1.032909  0.703080  0.041574  0.000000  0.060887   \n",
              "4  1.145870  0.092270  0.263010  0.197343  0.000000  0.233508  0.368287   \n",
              "\n",
              "         7         8         9   ...        54        55   56        57  \\\n",
              "0  0.115992  0.000000  0.963842  ...  0.383019  0.874222  0.0  0.652219   \n",
              "1  0.384771  0.000000  0.000000  ...  0.705312  1.409930  0.0  0.951138   \n",
              "2  1.682413  0.000000  1.181117  ...  0.000000  1.122700  0.0  1.171075   \n",
              "3  0.773529  1.563569  2.377713  ...  0.169352  0.621480  0.0  0.297847   \n",
              "4  0.197053  0.000000  0.112890  ...  0.226921  0.486456  0.0  0.000000   \n",
              "\n",
              "         58        59        60        61        62        63  \n",
              "0  0.523065  0.000000  0.702035  0.000000  1.047783  2.516083  \n",
              "1  0.363668  0.000000  1.756211  0.000000  0.568735  0.000000  \n",
              "2  0.000000  0.000000  0.995174  0.000000  0.433955  0.406399  \n",
              "3  0.429912  0.000000  0.749168  2.066718  0.344063  0.780639  \n",
              "4  0.437688  0.340835  0.101877  0.000000  0.380171  0.000000  \n",
              "\n",
              "[5 rows x 64 columns]"
            ],
            "text/html": [
              "\n",
              "  <div id=\"df-82afbf94-2e70-4f2f-bd78-7d54e279106a\">\n",
              "    <div class=\"colab-df-container\">\n",
              "      <div>\n",
              "<style scoped>\n",
              "    .dataframe tbody tr th:only-of-type {\n",
              "        vertical-align: middle;\n",
              "    }\n",
              "\n",
              "    .dataframe tbody tr th {\n",
              "        vertical-align: top;\n",
              "    }\n",
              "\n",
              "    .dataframe thead th {\n",
              "        text-align: right;\n",
              "    }\n",
              "</style>\n",
              "<table border=\"1\" class=\"dataframe\">\n",
              "  <thead>\n",
              "    <tr style=\"text-align: right;\">\n",
              "      <th></th>\n",
              "      <th>0</th>\n",
              "      <th>1</th>\n",
              "      <th>2</th>\n",
              "      <th>3</th>\n",
              "      <th>4</th>\n",
              "      <th>5</th>\n",
              "      <th>6</th>\n",
              "      <th>7</th>\n",
              "      <th>8</th>\n",
              "      <th>9</th>\n",
              "      <th>...</th>\n",
              "      <th>54</th>\n",
              "      <th>55</th>\n",
              "      <th>56</th>\n",
              "      <th>57</th>\n",
              "      <th>58</th>\n",
              "      <th>59</th>\n",
              "      <th>60</th>\n",
              "      <th>61</th>\n",
              "      <th>62</th>\n",
              "      <th>63</th>\n",
              "    </tr>\n",
              "  </thead>\n",
              "  <tbody>\n",
              "    <tr>\n",
              "      <th>0</th>\n",
              "      <td>0.000000</td>\n",
              "      <td>0.000000</td>\n",
              "      <td>0.000000</td>\n",
              "      <td>0.000000</td>\n",
              "      <td>0.000000</td>\n",
              "      <td>0.000000</td>\n",
              "      <td>1.590894</td>\n",
              "      <td>0.115992</td>\n",
              "      <td>0.000000</td>\n",
              "      <td>0.963842</td>\n",
              "      <td>...</td>\n",
              "      <td>0.383019</td>\n",
              "      <td>0.874222</td>\n",
              "      <td>0.0</td>\n",
              "      <td>0.652219</td>\n",
              "      <td>0.523065</td>\n",
              "      <td>0.000000</td>\n",
              "      <td>0.702035</td>\n",
              "      <td>0.000000</td>\n",
              "      <td>1.047783</td>\n",
              "      <td>2.516083</td>\n",
              "    </tr>\n",
              "    <tr>\n",
              "      <th>1</th>\n",
              "      <td>0.329357</td>\n",
              "      <td>1.464800</td>\n",
              "      <td>0.000000</td>\n",
              "      <td>0.170306</td>\n",
              "      <td>0.000000</td>\n",
              "      <td>0.000000</td>\n",
              "      <td>1.127406</td>\n",
              "      <td>0.384771</td>\n",
              "      <td>0.000000</td>\n",
              "      <td>0.000000</td>\n",
              "      <td>...</td>\n",
              "      <td>0.705312</td>\n",
              "      <td>1.409930</td>\n",
              "      <td>0.0</td>\n",
              "      <td>0.951138</td>\n",
              "      <td>0.363668</td>\n",
              "      <td>0.000000</td>\n",
              "      <td>1.756211</td>\n",
              "      <td>0.000000</td>\n",
              "      <td>0.568735</td>\n",
              "      <td>0.000000</td>\n",
              "    </tr>\n",
              "    <tr>\n",
              "      <th>2</th>\n",
              "      <td>1.535905</td>\n",
              "      <td>0.044649</td>\n",
              "      <td>0.308551</td>\n",
              "      <td>0.593196</td>\n",
              "      <td>0.000000</td>\n",
              "      <td>0.526254</td>\n",
              "      <td>2.222599</td>\n",
              "      <td>1.682413</td>\n",
              "      <td>0.000000</td>\n",
              "      <td>1.181117</td>\n",
              "      <td>...</td>\n",
              "      <td>0.000000</td>\n",
              "      <td>1.122700</td>\n",
              "      <td>0.0</td>\n",
              "      <td>1.171075</td>\n",
              "      <td>0.000000</td>\n",
              "      <td>0.000000</td>\n",
              "      <td>0.995174</td>\n",
              "      <td>0.000000</td>\n",
              "      <td>0.433955</td>\n",
              "      <td>0.406399</td>\n",
              "    </tr>\n",
              "    <tr>\n",
              "      <th>3</th>\n",
              "      <td>1.481751</td>\n",
              "      <td>1.660629</td>\n",
              "      <td>1.032909</td>\n",
              "      <td>0.703080</td>\n",
              "      <td>0.041574</td>\n",
              "      <td>0.000000</td>\n",
              "      <td>0.060887</td>\n",
              "      <td>0.773529</td>\n",
              "      <td>1.563569</td>\n",
              "      <td>2.377713</td>\n",
              "      <td>...</td>\n",
              "      <td>0.169352</td>\n",
              "      <td>0.621480</td>\n",
              "      <td>0.0</td>\n",
              "      <td>0.297847</td>\n",
              "      <td>0.429912</td>\n",
              "      <td>0.000000</td>\n",
              "      <td>0.749168</td>\n",
              "      <td>2.066718</td>\n",
              "      <td>0.344063</td>\n",
              "      <td>0.780639</td>\n",
              "    </tr>\n",
              "    <tr>\n",
              "      <th>4</th>\n",
              "      <td>1.145870</td>\n",
              "      <td>0.092270</td>\n",
              "      <td>0.263010</td>\n",
              "      <td>0.197343</td>\n",
              "      <td>0.000000</td>\n",
              "      <td>0.233508</td>\n",
              "      <td>0.368287</td>\n",
              "      <td>0.197053</td>\n",
              "      <td>0.000000</td>\n",
              "      <td>0.112890</td>\n",
              "      <td>...</td>\n",
              "      <td>0.226921</td>\n",
              "      <td>0.486456</td>\n",
              "      <td>0.0</td>\n",
              "      <td>0.000000</td>\n",
              "      <td>0.437688</td>\n",
              "      <td>0.340835</td>\n",
              "      <td>0.101877</td>\n",
              "      <td>0.000000</td>\n",
              "      <td>0.380171</td>\n",
              "      <td>0.000000</td>\n",
              "    </tr>\n",
              "  </tbody>\n",
              "</table>\n",
              "<p>5 rows × 64 columns</p>\n",
              "</div>\n",
              "      <button class=\"colab-df-convert\" onclick=\"convertToInteractive('df-82afbf94-2e70-4f2f-bd78-7d54e279106a')\"\n",
              "              title=\"Convert this dataframe to an interactive table.\"\n",
              "              style=\"display:none;\">\n",
              "        \n",
              "  <svg xmlns=\"http://www.w3.org/2000/svg\" height=\"24px\"viewBox=\"0 0 24 24\"\n",
              "       width=\"24px\">\n",
              "    <path d=\"M0 0h24v24H0V0z\" fill=\"none\"/>\n",
              "    <path d=\"M18.56 5.44l.94 2.06.94-2.06 2.06-.94-2.06-.94-.94-2.06-.94 2.06-2.06.94zm-11 1L8.5 8.5l.94-2.06 2.06-.94-2.06-.94L8.5 2.5l-.94 2.06-2.06.94zm10 10l.94 2.06.94-2.06 2.06-.94-2.06-.94-.94-2.06-.94 2.06-2.06.94z\"/><path d=\"M17.41 7.96l-1.37-1.37c-.4-.4-.92-.59-1.43-.59-.52 0-1.04.2-1.43.59L10.3 9.45l-7.72 7.72c-.78.78-.78 2.05 0 2.83L4 21.41c.39.39.9.59 1.41.59.51 0 1.02-.2 1.41-.59l7.78-7.78 2.81-2.81c.8-.78.8-2.07 0-2.86zM5.41 20L4 18.59l7.72-7.72 1.47 1.35L5.41 20z\"/>\n",
              "  </svg>\n",
              "      </button>\n",
              "      \n",
              "  <style>\n",
              "    .colab-df-container {\n",
              "      display:flex;\n",
              "      flex-wrap:wrap;\n",
              "      gap: 12px;\n",
              "    }\n",
              "\n",
              "    .colab-df-convert {\n",
              "      background-color: #E8F0FE;\n",
              "      border: none;\n",
              "      border-radius: 50%;\n",
              "      cursor: pointer;\n",
              "      display: none;\n",
              "      fill: #1967D2;\n",
              "      height: 32px;\n",
              "      padding: 0 0 0 0;\n",
              "      width: 32px;\n",
              "    }\n",
              "\n",
              "    .colab-df-convert:hover {\n",
              "      background-color: #E2EBFA;\n",
              "      box-shadow: 0px 1px 2px rgba(60, 64, 67, 0.3), 0px 1px 3px 1px rgba(60, 64, 67, 0.15);\n",
              "      fill: #174EA6;\n",
              "    }\n",
              "\n",
              "    [theme=dark] .colab-df-convert {\n",
              "      background-color: #3B4455;\n",
              "      fill: #D2E3FC;\n",
              "    }\n",
              "\n",
              "    [theme=dark] .colab-df-convert:hover {\n",
              "      background-color: #434B5C;\n",
              "      box-shadow: 0px 1px 3px 1px rgba(0, 0, 0, 0.15);\n",
              "      filter: drop-shadow(0px 1px 2px rgba(0, 0, 0, 0.3));\n",
              "      fill: #FFFFFF;\n",
              "    }\n",
              "  </style>\n",
              "\n",
              "      <script>\n",
              "        const buttonEl =\n",
              "          document.querySelector('#df-82afbf94-2e70-4f2f-bd78-7d54e279106a button.colab-df-convert');\n",
              "        buttonEl.style.display =\n",
              "          google.colab.kernel.accessAllowed ? 'block' : 'none';\n",
              "\n",
              "        async function convertToInteractive(key) {\n",
              "          const element = document.querySelector('#df-82afbf94-2e70-4f2f-bd78-7d54e279106a');\n",
              "          const dataTable =\n",
              "            await google.colab.kernel.invokeFunction('convertToInteractive',\n",
              "                                                     [key], {});\n",
              "          if (!dataTable) return;\n",
              "\n",
              "          const docLinkHtml = 'Like what you see? Visit the ' +\n",
              "            '<a target=\"_blank\" href=https://colab.research.google.com/notebooks/data_table.ipynb>data table notebook</a>'\n",
              "            + ' to learn more about interactive tables.';\n",
              "          element.innerHTML = '';\n",
              "          dataTable['output_type'] = 'display_data';\n",
              "          await google.colab.output.renderOutput(dataTable, element);\n",
              "          const docLink = document.createElement('div');\n",
              "          docLink.innerHTML = docLinkHtml;\n",
              "          element.appendChild(docLink);\n",
              "        }\n",
              "      </script>\n",
              "    </div>\n",
              "  </div>\n",
              "  "
            ]
          },
          "metadata": {},
          "execution_count": 326
        }
      ]
    },
    {
      "cell_type": "code",
      "source": [
        "features = pd.concat([allfeatures, bottle_feautures], axis = 1)"
      ],
      "metadata": {
        "id": "o1oUK2vmve-X"
      },
      "execution_count": null,
      "outputs": []
    },
    {
      "cell_type": "code",
      "source": [
        "features.shape"
      ],
      "metadata": {
        "colab": {
          "base_uri": "https://localhost:8080/"
        },
        "id": "PJMhebF8ytre",
        "outputId": "1a7ab15b-f294-4588-d66c-00af592d1360"
      },
      "execution_count": null,
      "outputs": [
        {
          "output_type": "execute_result",
          "data": {
            "text/plain": [
              "(7848, 101)"
            ]
          },
          "metadata": {},
          "execution_count": 328
        }
      ]
    },
    {
      "cell_type": "code",
      "source": [
        "features.head() #all features together"
      ],
      "metadata": {
        "colab": {
          "base_uri": "https://localhost:8080/",
          "height": 403
        },
        "id": "gSJXcpqTyu93",
        "outputId": "1b429639-9070-4a8a-ee53-9840dc14e74c"
      },
      "execution_count": null,
      "outputs": [
        {
          "output_type": "execute_result",
          "data": {
            "text/plain": [
              "   0 mean_stand   0 min_raw   0 max_raw  0 std_stand  0 slopes  0 intercepts  \\\n",
              "0  4.229421e-17 -116.913223  125.182808          1.0  0.000524    -31.568270   \n",
              "1  3.806479e-17  -14.735178   14.509829          1.0 -0.002859    172.455472   \n",
              "2 -7.709882e-18   -3.459960    5.942166          1.0 -0.000121      7.289630   \n",
              "3 -1.079383e-16   -3.874349   18.014029          1.0 -0.000700     42.151725   \n",
              "4  3.524518e-18   -6.804703    5.330927          1.0  0.001234    -74.410211   \n",
              "\n",
              "   1 mean_stand    1 min_raw   1 max_raw  1 std_stand  ...        54  \\\n",
              "0  2.871266e-16 -1100.440063  660.626343          1.0  ...  0.383019   \n",
              "1  1.586033e-17   -11.715749    9.129021          1.0  ...  0.705312   \n",
              "2 -1.120898e-17    -3.393080    5.693109          1.0  ...  0.000000   \n",
              "3  2.725994e-17    -3.618410  192.244293          1.0  ...  0.169352   \n",
              "4 -6.938894e-17    -2.622109   37.170177          1.0  ...  0.226921   \n",
              "\n",
              "         55   56        57        58        59        60        61        62  \\\n",
              "0  0.874222  0.0  0.652219  0.523065  0.000000  0.702035  0.000000  1.047783   \n",
              "1  1.409930  0.0  0.951138  0.363668  0.000000  1.756211  0.000000  0.568735   \n",
              "2  1.122700  0.0  1.171075  0.000000  0.000000  0.995174  0.000000  0.433955   \n",
              "3  0.621480  0.0  0.297847  0.429912  0.000000  0.749168  2.066718  0.344063   \n",
              "4  0.486456  0.0  0.000000  0.437688  0.340835  0.101877  0.000000  0.380171   \n",
              "\n",
              "         63  \n",
              "0  2.516083  \n",
              "1  0.000000  \n",
              "2  0.406399  \n",
              "3  0.780639  \n",
              "4  0.000000  \n",
              "\n",
              "[5 rows x 101 columns]"
            ],
            "text/html": [
              "\n",
              "  <div id=\"df-2d0db341-cb5c-43b6-9c50-9bfe8da45bf4\">\n",
              "    <div class=\"colab-df-container\">\n",
              "      <div>\n",
              "<style scoped>\n",
              "    .dataframe tbody tr th:only-of-type {\n",
              "        vertical-align: middle;\n",
              "    }\n",
              "\n",
              "    .dataframe tbody tr th {\n",
              "        vertical-align: top;\n",
              "    }\n",
              "\n",
              "    .dataframe thead th {\n",
              "        text-align: right;\n",
              "    }\n",
              "</style>\n",
              "<table border=\"1\" class=\"dataframe\">\n",
              "  <thead>\n",
              "    <tr style=\"text-align: right;\">\n",
              "      <th></th>\n",
              "      <th>0 mean_stand</th>\n",
              "      <th>0 min_raw</th>\n",
              "      <th>0 max_raw</th>\n",
              "      <th>0 std_stand</th>\n",
              "      <th>0 slopes</th>\n",
              "      <th>0 intercepts</th>\n",
              "      <th>1 mean_stand</th>\n",
              "      <th>1 min_raw</th>\n",
              "      <th>1 max_raw</th>\n",
              "      <th>1 std_stand</th>\n",
              "      <th>...</th>\n",
              "      <th>54</th>\n",
              "      <th>55</th>\n",
              "      <th>56</th>\n",
              "      <th>57</th>\n",
              "      <th>58</th>\n",
              "      <th>59</th>\n",
              "      <th>60</th>\n",
              "      <th>61</th>\n",
              "      <th>62</th>\n",
              "      <th>63</th>\n",
              "    </tr>\n",
              "  </thead>\n",
              "  <tbody>\n",
              "    <tr>\n",
              "      <th>0</th>\n",
              "      <td>4.229421e-17</td>\n",
              "      <td>-116.913223</td>\n",
              "      <td>125.182808</td>\n",
              "      <td>1.0</td>\n",
              "      <td>0.000524</td>\n",
              "      <td>-31.568270</td>\n",
              "      <td>2.871266e-16</td>\n",
              "      <td>-1100.440063</td>\n",
              "      <td>660.626343</td>\n",
              "      <td>1.0</td>\n",
              "      <td>...</td>\n",
              "      <td>0.383019</td>\n",
              "      <td>0.874222</td>\n",
              "      <td>0.0</td>\n",
              "      <td>0.652219</td>\n",
              "      <td>0.523065</td>\n",
              "      <td>0.000000</td>\n",
              "      <td>0.702035</td>\n",
              "      <td>0.000000</td>\n",
              "      <td>1.047783</td>\n",
              "      <td>2.516083</td>\n",
              "    </tr>\n",
              "    <tr>\n",
              "      <th>1</th>\n",
              "      <td>3.806479e-17</td>\n",
              "      <td>-14.735178</td>\n",
              "      <td>14.509829</td>\n",
              "      <td>1.0</td>\n",
              "      <td>-0.002859</td>\n",
              "      <td>172.455472</td>\n",
              "      <td>1.586033e-17</td>\n",
              "      <td>-11.715749</td>\n",
              "      <td>9.129021</td>\n",
              "      <td>1.0</td>\n",
              "      <td>...</td>\n",
              "      <td>0.705312</td>\n",
              "      <td>1.409930</td>\n",
              "      <td>0.0</td>\n",
              "      <td>0.951138</td>\n",
              "      <td>0.363668</td>\n",
              "      <td>0.000000</td>\n",
              "      <td>1.756211</td>\n",
              "      <td>0.000000</td>\n",
              "      <td>0.568735</td>\n",
              "      <td>0.000000</td>\n",
              "    </tr>\n",
              "    <tr>\n",
              "      <th>2</th>\n",
              "      <td>-7.709882e-18</td>\n",
              "      <td>-3.459960</td>\n",
              "      <td>5.942166</td>\n",
              "      <td>1.0</td>\n",
              "      <td>-0.000121</td>\n",
              "      <td>7.289630</td>\n",
              "      <td>-1.120898e-17</td>\n",
              "      <td>-3.393080</td>\n",
              "      <td>5.693109</td>\n",
              "      <td>1.0</td>\n",
              "      <td>...</td>\n",
              "      <td>0.000000</td>\n",
              "      <td>1.122700</td>\n",
              "      <td>0.0</td>\n",
              "      <td>1.171075</td>\n",
              "      <td>0.000000</td>\n",
              "      <td>0.000000</td>\n",
              "      <td>0.995174</td>\n",
              "      <td>0.000000</td>\n",
              "      <td>0.433955</td>\n",
              "      <td>0.406399</td>\n",
              "    </tr>\n",
              "    <tr>\n",
              "      <th>3</th>\n",
              "      <td>-1.079383e-16</td>\n",
              "      <td>-3.874349</td>\n",
              "      <td>18.014029</td>\n",
              "      <td>1.0</td>\n",
              "      <td>-0.000700</td>\n",
              "      <td>42.151725</td>\n",
              "      <td>2.725994e-17</td>\n",
              "      <td>-3.618410</td>\n",
              "      <td>192.244293</td>\n",
              "      <td>1.0</td>\n",
              "      <td>...</td>\n",
              "      <td>0.169352</td>\n",
              "      <td>0.621480</td>\n",
              "      <td>0.0</td>\n",
              "      <td>0.297847</td>\n",
              "      <td>0.429912</td>\n",
              "      <td>0.000000</td>\n",
              "      <td>0.749168</td>\n",
              "      <td>2.066718</td>\n",
              "      <td>0.344063</td>\n",
              "      <td>0.780639</td>\n",
              "    </tr>\n",
              "    <tr>\n",
              "      <th>4</th>\n",
              "      <td>3.524518e-18</td>\n",
              "      <td>-6.804703</td>\n",
              "      <td>5.330927</td>\n",
              "      <td>1.0</td>\n",
              "      <td>0.001234</td>\n",
              "      <td>-74.410211</td>\n",
              "      <td>-6.938894e-17</td>\n",
              "      <td>-2.622109</td>\n",
              "      <td>37.170177</td>\n",
              "      <td>1.0</td>\n",
              "      <td>...</td>\n",
              "      <td>0.226921</td>\n",
              "      <td>0.486456</td>\n",
              "      <td>0.0</td>\n",
              "      <td>0.000000</td>\n",
              "      <td>0.437688</td>\n",
              "      <td>0.340835</td>\n",
              "      <td>0.101877</td>\n",
              "      <td>0.000000</td>\n",
              "      <td>0.380171</td>\n",
              "      <td>0.000000</td>\n",
              "    </tr>\n",
              "  </tbody>\n",
              "</table>\n",
              "<p>5 rows × 101 columns</p>\n",
              "</div>\n",
              "      <button class=\"colab-df-convert\" onclick=\"convertToInteractive('df-2d0db341-cb5c-43b6-9c50-9bfe8da45bf4')\"\n",
              "              title=\"Convert this dataframe to an interactive table.\"\n",
              "              style=\"display:none;\">\n",
              "        \n",
              "  <svg xmlns=\"http://www.w3.org/2000/svg\" height=\"24px\"viewBox=\"0 0 24 24\"\n",
              "       width=\"24px\">\n",
              "    <path d=\"M0 0h24v24H0V0z\" fill=\"none\"/>\n",
              "    <path d=\"M18.56 5.44l.94 2.06.94-2.06 2.06-.94-2.06-.94-.94-2.06-.94 2.06-2.06.94zm-11 1L8.5 8.5l.94-2.06 2.06-.94-2.06-.94L8.5 2.5l-.94 2.06-2.06.94zm10 10l.94 2.06.94-2.06 2.06-.94-2.06-.94-.94-2.06-.94 2.06-2.06.94z\"/><path d=\"M17.41 7.96l-1.37-1.37c-.4-.4-.92-.59-1.43-.59-.52 0-1.04.2-1.43.59L10.3 9.45l-7.72 7.72c-.78.78-.78 2.05 0 2.83L4 21.41c.39.39.9.59 1.41.59.51 0 1.02-.2 1.41-.59l7.78-7.78 2.81-2.81c.8-.78.8-2.07 0-2.86zM5.41 20L4 18.59l7.72-7.72 1.47 1.35L5.41 20z\"/>\n",
              "  </svg>\n",
              "      </button>\n",
              "      \n",
              "  <style>\n",
              "    .colab-df-container {\n",
              "      display:flex;\n",
              "      flex-wrap:wrap;\n",
              "      gap: 12px;\n",
              "    }\n",
              "\n",
              "    .colab-df-convert {\n",
              "      background-color: #E8F0FE;\n",
              "      border: none;\n",
              "      border-radius: 50%;\n",
              "      cursor: pointer;\n",
              "      display: none;\n",
              "      fill: #1967D2;\n",
              "      height: 32px;\n",
              "      padding: 0 0 0 0;\n",
              "      width: 32px;\n",
              "    }\n",
              "\n",
              "    .colab-df-convert:hover {\n",
              "      background-color: #E2EBFA;\n",
              "      box-shadow: 0px 1px 2px rgba(60, 64, 67, 0.3), 0px 1px 3px 1px rgba(60, 64, 67, 0.15);\n",
              "      fill: #174EA6;\n",
              "    }\n",
              "\n",
              "    [theme=dark] .colab-df-convert {\n",
              "      background-color: #3B4455;\n",
              "      fill: #D2E3FC;\n",
              "    }\n",
              "\n",
              "    [theme=dark] .colab-df-convert:hover {\n",
              "      background-color: #434B5C;\n",
              "      box-shadow: 0px 1px 3px 1px rgba(0, 0, 0, 0.15);\n",
              "      filter: drop-shadow(0px 1px 2px rgba(0, 0, 0, 0.3));\n",
              "      fill: #FFFFFF;\n",
              "    }\n",
              "  </style>\n",
              "\n",
              "      <script>\n",
              "        const buttonEl =\n",
              "          document.querySelector('#df-2d0db341-cb5c-43b6-9c50-9bfe8da45bf4 button.colab-df-convert');\n",
              "        buttonEl.style.display =\n",
              "          google.colab.kernel.accessAllowed ? 'block' : 'none';\n",
              "\n",
              "        async function convertToInteractive(key) {\n",
              "          const element = document.querySelector('#df-2d0db341-cb5c-43b6-9c50-9bfe8da45bf4');\n",
              "          const dataTable =\n",
              "            await google.colab.kernel.invokeFunction('convertToInteractive',\n",
              "                                                     [key], {});\n",
              "          if (!dataTable) return;\n",
              "\n",
              "          const docLinkHtml = 'Like what you see? Visit the ' +\n",
              "            '<a target=\"_blank\" href=https://colab.research.google.com/notebooks/data_table.ipynb>data table notebook</a>'\n",
              "            + ' to learn more about interactive tables.';\n",
              "          element.innerHTML = '';\n",
              "          dataTable['output_type'] = 'display_data';\n",
              "          await google.colab.output.renderOutput(dataTable, element);\n",
              "          const docLink = document.createElement('div');\n",
              "          docLink.innerHTML = docLinkHtml;\n",
              "          element.appendChild(docLink);\n",
              "        }\n",
              "      </script>\n",
              "    </div>\n",
              "  </div>\n",
              "  "
            ]
          },
          "metadata": {},
          "execution_count": 329
        }
      ]
    },
    {
      "cell_type": "code",
      "source": [
        "features.decl.isna().sum()"
      ],
      "metadata": {
        "colab": {
          "base_uri": "https://localhost:8080/"
        },
        "id": "laO9_DK743cu",
        "outputId": "7ce25d9b-8e48-4d15-961d-89b939896580"
      },
      "execution_count": null,
      "outputs": [
        {
          "output_type": "execute_result",
          "data": {
            "text/plain": [
              "7805"
            ]
          },
          "metadata": {},
          "execution_count": 331
        }
      ]
    },
    {
      "cell_type": "markdown",
      "source": [
        "For some reason in 'features' (which are preselected ones) there are nan values for decl column, however, there is nothing like that in original data. I will change it further by substituting the column in features by the column from the original data since decl feature is unchanged."
      ],
      "metadata": {
        "id": "QXt57XGO5c2z"
      }
    },
    {
      "cell_type": "markdown",
      "source": [
        "<font color=\"red\"> FBB ok </font>"
      ],
      "metadata": {
        "id": "0Nv4b4hfyUXd"
      }
    },
    {
      "cell_type": "markdown",
      "source": [
        "## Random Forest classification"
      ],
      "metadata": {
        "id": "8-DegRLIy4vC"
      }
    },
    {
      "cell_type": "markdown",
      "source": [
        "Now let's use random forest classifier to try to assign our astrological objects based on the set of features to the target class. "
      ],
      "metadata": {
        "id": "ieFpAjVNy8Eo"
      }
    },
    {
      "cell_type": "code",
      "source": [
        "metadata = pd.read_csv('training_set_metadata.csv')"
      ],
      "metadata": {
        "id": "q09iEoYCzycm"
      },
      "execution_count": null,
      "outputs": []
    },
    {
      "cell_type": "code",
      "source": [
        "metadata.head()"
      ],
      "metadata": {
        "colab": {
          "base_uri": "https://localhost:8080/",
          "height": 206
        },
        "id": "E53Sj0ghz_r1",
        "outputId": "9bd97966-25a7-4d75-9ed6-5629a4bfbc3d"
      },
      "execution_count": null,
      "outputs": [
        {
          "output_type": "execute_result",
          "data": {
            "text/plain": [
              "   object_id          ra       decl       gal_l      gal_b  ddf  \\\n",
              "0        615  349.046051 -61.943836  320.796530 -51.753706    1   \n",
              "1        713   53.085938 -27.784405  223.525509 -54.460748    1   \n",
              "2        730   33.574219  -6.579593  170.455585 -61.548219    1   \n",
              "3        745    0.189873 -45.586655  328.254458 -68.969298    1   \n",
              "4       1124  352.711273 -63.823658  316.922299 -51.059403    1   \n",
              "\n",
              "   hostgal_specz  hostgal_photoz  hostgal_photoz_err  distmod  mwebv  target  \n",
              "0         0.0000          0.0000              0.0000      NaN  0.017      92  \n",
              "1         1.8181          1.6267              0.2552  45.4063  0.007      88  \n",
              "2         0.2320          0.2262              0.0157  40.2561  0.021      42  \n",
              "3         0.3037          0.2813              1.1523  40.7951  0.007      90  \n",
              "4         0.1934          0.2415              0.0176  40.4166  0.024      90  "
            ],
            "text/html": [
              "\n",
              "  <div id=\"df-81832319-f39e-47af-8d1d-dae49d765efd\">\n",
              "    <div class=\"colab-df-container\">\n",
              "      <div>\n",
              "<style scoped>\n",
              "    .dataframe tbody tr th:only-of-type {\n",
              "        vertical-align: middle;\n",
              "    }\n",
              "\n",
              "    .dataframe tbody tr th {\n",
              "        vertical-align: top;\n",
              "    }\n",
              "\n",
              "    .dataframe thead th {\n",
              "        text-align: right;\n",
              "    }\n",
              "</style>\n",
              "<table border=\"1\" class=\"dataframe\">\n",
              "  <thead>\n",
              "    <tr style=\"text-align: right;\">\n",
              "      <th></th>\n",
              "      <th>object_id</th>\n",
              "      <th>ra</th>\n",
              "      <th>decl</th>\n",
              "      <th>gal_l</th>\n",
              "      <th>gal_b</th>\n",
              "      <th>ddf</th>\n",
              "      <th>hostgal_specz</th>\n",
              "      <th>hostgal_photoz</th>\n",
              "      <th>hostgal_photoz_err</th>\n",
              "      <th>distmod</th>\n",
              "      <th>mwebv</th>\n",
              "      <th>target</th>\n",
              "    </tr>\n",
              "  </thead>\n",
              "  <tbody>\n",
              "    <tr>\n",
              "      <th>0</th>\n",
              "      <td>615</td>\n",
              "      <td>349.046051</td>\n",
              "      <td>-61.943836</td>\n",
              "      <td>320.796530</td>\n",
              "      <td>-51.753706</td>\n",
              "      <td>1</td>\n",
              "      <td>0.0000</td>\n",
              "      <td>0.0000</td>\n",
              "      <td>0.0000</td>\n",
              "      <td>NaN</td>\n",
              "      <td>0.017</td>\n",
              "      <td>92</td>\n",
              "    </tr>\n",
              "    <tr>\n",
              "      <th>1</th>\n",
              "      <td>713</td>\n",
              "      <td>53.085938</td>\n",
              "      <td>-27.784405</td>\n",
              "      <td>223.525509</td>\n",
              "      <td>-54.460748</td>\n",
              "      <td>1</td>\n",
              "      <td>1.8181</td>\n",
              "      <td>1.6267</td>\n",
              "      <td>0.2552</td>\n",
              "      <td>45.4063</td>\n",
              "      <td>0.007</td>\n",
              "      <td>88</td>\n",
              "    </tr>\n",
              "    <tr>\n",
              "      <th>2</th>\n",
              "      <td>730</td>\n",
              "      <td>33.574219</td>\n",
              "      <td>-6.579593</td>\n",
              "      <td>170.455585</td>\n",
              "      <td>-61.548219</td>\n",
              "      <td>1</td>\n",
              "      <td>0.2320</td>\n",
              "      <td>0.2262</td>\n",
              "      <td>0.0157</td>\n",
              "      <td>40.2561</td>\n",
              "      <td>0.021</td>\n",
              "      <td>42</td>\n",
              "    </tr>\n",
              "    <tr>\n",
              "      <th>3</th>\n",
              "      <td>745</td>\n",
              "      <td>0.189873</td>\n",
              "      <td>-45.586655</td>\n",
              "      <td>328.254458</td>\n",
              "      <td>-68.969298</td>\n",
              "      <td>1</td>\n",
              "      <td>0.3037</td>\n",
              "      <td>0.2813</td>\n",
              "      <td>1.1523</td>\n",
              "      <td>40.7951</td>\n",
              "      <td>0.007</td>\n",
              "      <td>90</td>\n",
              "    </tr>\n",
              "    <tr>\n",
              "      <th>4</th>\n",
              "      <td>1124</td>\n",
              "      <td>352.711273</td>\n",
              "      <td>-63.823658</td>\n",
              "      <td>316.922299</td>\n",
              "      <td>-51.059403</td>\n",
              "      <td>1</td>\n",
              "      <td>0.1934</td>\n",
              "      <td>0.2415</td>\n",
              "      <td>0.0176</td>\n",
              "      <td>40.4166</td>\n",
              "      <td>0.024</td>\n",
              "      <td>90</td>\n",
              "    </tr>\n",
              "  </tbody>\n",
              "</table>\n",
              "</div>\n",
              "      <button class=\"colab-df-convert\" onclick=\"convertToInteractive('df-81832319-f39e-47af-8d1d-dae49d765efd')\"\n",
              "              title=\"Convert this dataframe to an interactive table.\"\n",
              "              style=\"display:none;\">\n",
              "        \n",
              "  <svg xmlns=\"http://www.w3.org/2000/svg\" height=\"24px\"viewBox=\"0 0 24 24\"\n",
              "       width=\"24px\">\n",
              "    <path d=\"M0 0h24v24H0V0z\" fill=\"none\"/>\n",
              "    <path d=\"M18.56 5.44l.94 2.06.94-2.06 2.06-.94-2.06-.94-.94-2.06-.94 2.06-2.06.94zm-11 1L8.5 8.5l.94-2.06 2.06-.94-2.06-.94L8.5 2.5l-.94 2.06-2.06.94zm10 10l.94 2.06.94-2.06 2.06-.94-2.06-.94-.94-2.06-.94 2.06-2.06.94z\"/><path d=\"M17.41 7.96l-1.37-1.37c-.4-.4-.92-.59-1.43-.59-.52 0-1.04.2-1.43.59L10.3 9.45l-7.72 7.72c-.78.78-.78 2.05 0 2.83L4 21.41c.39.39.9.59 1.41.59.51 0 1.02-.2 1.41-.59l7.78-7.78 2.81-2.81c.8-.78.8-2.07 0-2.86zM5.41 20L4 18.59l7.72-7.72 1.47 1.35L5.41 20z\"/>\n",
              "  </svg>\n",
              "      </button>\n",
              "      \n",
              "  <style>\n",
              "    .colab-df-container {\n",
              "      display:flex;\n",
              "      flex-wrap:wrap;\n",
              "      gap: 12px;\n",
              "    }\n",
              "\n",
              "    .colab-df-convert {\n",
              "      background-color: #E8F0FE;\n",
              "      border: none;\n",
              "      border-radius: 50%;\n",
              "      cursor: pointer;\n",
              "      display: none;\n",
              "      fill: #1967D2;\n",
              "      height: 32px;\n",
              "      padding: 0 0 0 0;\n",
              "      width: 32px;\n",
              "    }\n",
              "\n",
              "    .colab-df-convert:hover {\n",
              "      background-color: #E2EBFA;\n",
              "      box-shadow: 0px 1px 2px rgba(60, 64, 67, 0.3), 0px 1px 3px 1px rgba(60, 64, 67, 0.15);\n",
              "      fill: #174EA6;\n",
              "    }\n",
              "\n",
              "    [theme=dark] .colab-df-convert {\n",
              "      background-color: #3B4455;\n",
              "      fill: #D2E3FC;\n",
              "    }\n",
              "\n",
              "    [theme=dark] .colab-df-convert:hover {\n",
              "      background-color: #434B5C;\n",
              "      box-shadow: 0px 1px 3px 1px rgba(0, 0, 0, 0.15);\n",
              "      filter: drop-shadow(0px 1px 2px rgba(0, 0, 0, 0.3));\n",
              "      fill: #FFFFFF;\n",
              "    }\n",
              "  </style>\n",
              "\n",
              "      <script>\n",
              "        const buttonEl =\n",
              "          document.querySelector('#df-81832319-f39e-47af-8d1d-dae49d765efd button.colab-df-convert');\n",
              "        buttonEl.style.display =\n",
              "          google.colab.kernel.accessAllowed ? 'block' : 'none';\n",
              "\n",
              "        async function convertToInteractive(key) {\n",
              "          const element = document.querySelector('#df-81832319-f39e-47af-8d1d-dae49d765efd');\n",
              "          const dataTable =\n",
              "            await google.colab.kernel.invokeFunction('convertToInteractive',\n",
              "                                                     [key], {});\n",
              "          if (!dataTable) return;\n",
              "\n",
              "          const docLinkHtml = 'Like what you see? Visit the ' +\n",
              "            '<a target=\"_blank\" href=https://colab.research.google.com/notebooks/data_table.ipynb>data table notebook</a>'\n",
              "            + ' to learn more about interactive tables.';\n",
              "          element.innerHTML = '';\n",
              "          dataTable['output_type'] = 'display_data';\n",
              "          await google.colab.output.renderOutput(dataTable, element);\n",
              "          const docLink = document.createElement('div');\n",
              "          docLink.innerHTML = docLinkHtml;\n",
              "          element.appendChild(docLink);\n",
              "        }\n",
              "      </script>\n",
              "    </div>\n",
              "  </div>\n",
              "  "
            ]
          },
          "metadata": {},
          "execution_count": 333
        }
      ]
    },
    {
      "cell_type": "code",
      "source": [
        "features['decl'] = metadata['decl']"
      ],
      "metadata": {
        "id": "01i3hxzR52oT"
      },
      "execution_count": null,
      "outputs": []
    },
    {
      "cell_type": "code",
      "source": [
        "features.decl.isna().sum()"
      ],
      "metadata": {
        "colab": {
          "base_uri": "https://localhost:8080/"
        },
        "id": "H0g06I_S5_VH",
        "outputId": "dc7118ae-51de-445e-97cd-adfe89554c1f"
      },
      "execution_count": null,
      "outputs": [
        {
          "output_type": "execute_result",
          "data": {
            "text/plain": [
              "0"
            ]
          },
          "metadata": {},
          "execution_count": 335
        }
      ]
    },
    {
      "cell_type": "markdown",
      "source": [
        "No NAN values, hurray!"
      ],
      "metadata": {
        "id": "afQW7JOO6DhW"
      }
    },
    {
      "cell_type": "code",
      "source": [
        "feature_list = list(features.columns)\n",
        "features_combined = np.array(features) #all our features in one df"
      ],
      "metadata": {
        "id": "tDnJgEZ76G6h"
      },
      "execution_count": null,
      "outputs": []
    },
    {
      "cell_type": "code",
      "source": [
        "features_combined.shape"
      ],
      "metadata": {
        "colab": {
          "base_uri": "https://localhost:8080/"
        },
        "id": "tW2hITiH6KWP",
        "outputId": "fa5a1fbb-3634-414d-fae4-6cf88f398b8c"
      },
      "execution_count": null,
      "outputs": [
        {
          "output_type": "execute_result",
          "data": {
            "text/plain": [
              "(7848, 101)"
            ]
          },
          "metadata": {},
          "execution_count": 337
        }
      ]
    },
    {
      "cell_type": "code",
      "source": [
        "meta = metadata[['object_id', 'target']]\n",
        "meta.shape"
      ],
      "metadata": {
        "colab": {
          "base_uri": "https://localhost:8080/"
        },
        "id": "kl4U1jDL2uYo",
        "outputId": "a172acfc-f63f-40ca-988a-efe09f1c633a"
      },
      "execution_count": null,
      "outputs": [
        {
          "output_type": "execute_result",
          "data": {
            "text/plain": [
              "(7848, 2)"
            ]
          },
          "metadata": {},
          "execution_count": 338
        }
      ]
    },
    {
      "cell_type": "code",
      "source": [
        "len(meta.target.unique())"
      ],
      "metadata": {
        "colab": {
          "base_uri": "https://localhost:8080/"
        },
        "id": "sk6O-cm33AK9",
        "outputId": "5e4a0cfe-e72e-4485-d9a2-294b42e520bc"
      },
      "execution_count": null,
      "outputs": [
        {
          "output_type": "execute_result",
          "data": {
            "text/plain": [
              "14"
            ]
          },
          "metadata": {},
          "execution_count": 339
        }
      ]
    },
    {
      "cell_type": "code",
      "source": [
        "labels = np.array(meta.target)\n",
        "len(labels)"
      ],
      "metadata": {
        "colab": {
          "base_uri": "https://localhost:8080/"
        },
        "id": "OXdJj9Wg3H-J",
        "outputId": "a03599ab-04c9-43e6-ad40-06b4f52990a1"
      },
      "execution_count": null,
      "outputs": [
        {
          "output_type": "execute_result",
          "data": {
            "text/plain": [
              "7848"
            ]
          },
          "metadata": {},
          "execution_count": 340
        }
      ]
    },
    {
      "cell_type": "markdown",
      "source": [
        "**Random Forest on all the feautures**"
      ],
      "metadata": {
        "id": "Mhe4Ty_hM0tM"
      }
    },
    {
      "cell_type": "code",
      "source": [
        "train_features, test_features, train_labels, test_labels = train_test_split(features_combined, labels, \n",
        "                                                                            test_size = 0.25, random_state = 42)"
      ],
      "metadata": {
        "id": "F5wraCD5zOqK"
      },
      "execution_count": null,
      "outputs": []
    },
    {
      "cell_type": "code",
      "source": [
        "print('Training Features Shape:', train_features.shape)\n",
        "print('Training Labels Shape:', train_labels.shape)\n",
        "print('Testing Features Shape:', test_features.shape)\n",
        "print('Testing Labels Shape:', test_labels.shape)"
      ],
      "metadata": {
        "colab": {
          "base_uri": "https://localhost:8080/"
        },
        "id": "axXbRDzY3dZN",
        "outputId": "ae60cee9-9c72-471b-e660-75f098fdcec0"
      },
      "execution_count": null,
      "outputs": [
        {
          "output_type": "stream",
          "name": "stdout",
          "text": [
            "Training Features Shape: (5886, 101)\n",
            "Training Labels Shape: (5886,)\n",
            "Testing Features Shape: (1962, 101)\n",
            "Testing Labels Shape: (1962,)\n"
          ]
        }
      ]
    },
    {
      "cell_type": "code",
      "source": [
        "# Instantiate model with 1000 decision trees\n",
        "rf = RandomForestClassifier(n_estimators = 1000, random_state = 42, min_samples_leaf = 3)\n",
        "# Train the model on training data\n",
        "rf.fit(train_features, train_labels);"
      ],
      "metadata": {
        "id": "WH0NtWKU3oDj"
      },
      "execution_count": null,
      "outputs": []
    },
    {
      "cell_type": "code",
      "source": [
        "# The baseline predictions are the historical averages\n",
        "baseline_preds = test_features[:, feature_list.index('decl')]\n",
        "# Baseline errors, and display average baseline error\n",
        "baseline_errors = abs(baseline_preds - test_labels)\n",
        "print('Average baseline error: ', round(np.mean(baseline_errors), 2))"
      ],
      "metadata": {
        "colab": {
          "base_uri": "https://localhost:8080/"
        },
        "id": "9TCKhTvD7kOj",
        "outputId": "4b8bcf27-5a73-4f1d-bdaa-1ea9c6289b57"
      },
      "execution_count": null,
      "outputs": [
        {
          "output_type": "stream",
          "name": "stdout",
          "text": [
            "Average baseline error:  89.35\n"
          ]
        }
      ]
    },
    {
      "cell_type": "code",
      "source": [
        "# Use the forest's predict method on the test data\n",
        "predictions = rf.predict(test_features)\n",
        "# Calculate the absolute errors\n",
        "errors = abs(predictions - test_labels)\n",
        "# Print out the mean absolute error (mae)\n",
        "print('Mean Absolute Error:', round(np.mean(errors), 2), 'degrees.')"
      ],
      "metadata": {
        "colab": {
          "base_uri": "https://localhost:8080/"
        },
        "id": "MNLe3eBw3vBo",
        "outputId": "f35e2f11-7624-4537-bd9d-ecdad065652d"
      },
      "execution_count": null,
      "outputs": [
        {
          "output_type": "stream",
          "name": "stdout",
          "text": [
            "Mean Absolute Error: 14.57 degrees.\n"
          ]
        }
      ]
    },
    {
      "cell_type": "markdown",
      "source": [
        "I've took the code about the degrees from here https://towardsdatascience.com/random-forest-in-python-24d0893d51c0. And I really liked the idea of setting a threshold before training a classifier, so that we would understand what would happen if we don't put any effort at all. As in 'no effort' condition, I assumed what would happen if we predict target based only on decl? The error would be disastrous."
      ],
      "metadata": {
        "id": "25rETHAI76ZG"
      }
    },
    {
      "cell_type": "code",
      "source": [
        "# Calculate mean absolute percentage error (MAPE)\n",
        "mape = 100 * (errors / test_labels)\n",
        "# Calculate and display accuracy\n",
        "accuracy = 100 - np.mean(mape)\n",
        "print('Accuracy:', round(accuracy, 2), '%.')"
      ],
      "metadata": {
        "colab": {
          "base_uri": "https://localhost:8080/"
        },
        "id": "VIh5KNeV8BDr",
        "outputId": "c7836a41-53c0-4486-e357-a47cc5b3099d"
      },
      "execution_count": null,
      "outputs": [
        {
          "output_type": "stream",
          "name": "stdout",
          "text": [
            "Accuracy: 52.07 %.\n"
          ]
        }
      ]
    },
    {
      "cell_type": "code",
      "source": [
        "train_score = rf.score(train_features, train_labels)\n",
        "test_score = rf.score(test_features, test_labels)"
      ],
      "metadata": {
        "id": "V9Fjr0jQ_87y"
      },
      "execution_count": null,
      "outputs": []
    },
    {
      "cell_type": "code",
      "source": [
        "print('During training, the accuracy score was ' + str(round(train_score, 3)))\n",
        "print('During testing, the accuracy score was ' + str(round(test_score, 3)))"
      ],
      "metadata": {
        "colab": {
          "base_uri": "https://localhost:8080/"
        },
        "id": "D0di3BngANW3",
        "outputId": "b827b83d-db8a-4636-d9f2-e83accc37e7c"
      },
      "execution_count": null,
      "outputs": [
        {
          "output_type": "stream",
          "name": "stdout",
          "text": [
            "During training, the accuracy score was 0.934\n",
            "During testing, the accuracy score was 0.618\n"
          ]
        }
      ]
    },
    {
      "cell_type": "markdown",
      "source": [
        "Based on our accuracy scores, the model is overfitting. I've read that RF can easily overfit to the noise in the data, it's clearly what's going on here. They recommended tuning some hyperparameters like leaf number to change that. \n",
        "With no minimum number of leafs - the accuracy for training set was 1, when it was set to 25 - it changed to 0.6. Given minimum number for leaf equal to 3, we get rid of overfitting here. But overall testing accuracy score is above chance, but really bad. It might be that the choice of features could lead to this."
      ],
      "metadata": {
        "id": "_4O-F9xPNc6Q"
      }
    },
    {
      "cell_type": "markdown",
      "source": [
        "<font color=\"red\"> FBB ok, good observation </font>"
      ],
      "metadata": {
        "id": "EDQF93Mnyc1L"
      }
    },
    {
      "cell_type": "code",
      "source": [
        "# Get numerical feature importances\n",
        "importances = list(rf.feature_importances_)\n",
        "# List of tuples with variable and importance\n",
        "feature_importances = [(feature, round(importance, 2)) for feature, importance in zip(feature_list, importances)]\n",
        "# Sort the feature importances by most important first\n",
        "feature_importances = sorted(feature_importances, key = lambda x: x[1], reverse = True)\n",
        "# Print out the feature and importances \n",
        "[print('Variable: {:20} Importance: {}'.format(*pair)) for pair in feature_importances];"
      ],
      "metadata": {
        "colab": {
          "base_uri": "https://localhost:8080/"
        },
        "id": "f3WI2cgu8d5_",
        "outputId": "1c4f18fa-42fe-44c7-d98e-50951b1c3b1a"
      },
      "execution_count": null,
      "outputs": [
        {
          "output_type": "stream",
          "name": "stdout",
          "text": [
            "Variable: 2 min_raw            Importance: 0.08\n",
            "Variable: 1 min_raw            Importance: 0.07\n",
            "Variable: 0 max_raw            Importance: 0.06\n",
            "Variable: 3 min_raw            Importance: 0.06\n",
            "Variable: 5 max_raw            Importance: 0.06\n",
            "Variable: 4 min_raw            Importance: 0.05\n",
            "Variable: 4 max_raw            Importance: 0.05\n",
            "Variable: 1 max_raw            Importance: 0.04\n",
            "Variable: 2 max_raw            Importance: 0.04\n",
            "Variable: 3 max_raw            Importance: 0.04\n",
            "Variable: 5 min_raw            Importance: 0.04\n",
            "Variable: 0 min_raw            Importance: 0.03\n",
            "Variable: 2 slopes             Importance: 0.03\n",
            "Variable: 2 intercepts         Importance: 0.03\n",
            "Variable: 3 slopes             Importance: 0.03\n",
            "Variable: 3 intercepts         Importance: 0.03\n",
            "Variable: 4 slopes             Importance: 0.03\n",
            "Variable: 4 intercepts         Importance: 0.03\n",
            "Variable: 0 slopes             Importance: 0.02\n",
            "Variable: 0 intercepts         Importance: 0.02\n",
            "Variable: 1 slopes             Importance: 0.02\n",
            "Variable: 1 intercepts         Importance: 0.02\n",
            "Variable: 5 slopes             Importance: 0.02\n",
            "Variable: 5 intercepts         Importance: 0.02\n",
            "Variable: decl                 Importance: 0.02\n",
            "Variable: 0 mean_stand         Importance: 0.0\n",
            "Variable: 0 std_stand          Importance: 0.0\n",
            "Variable: 1 mean_stand         Importance: 0.0\n",
            "Variable: 1 std_stand          Importance: 0.0\n",
            "Variable: 2 mean_stand         Importance: 0.0\n",
            "Variable: 2 std_stand          Importance: 0.0\n",
            "Variable: 3 mean_stand         Importance: 0.0\n",
            "Variable: 3 std_stand          Importance: 0.0\n",
            "Variable: 4 mean_stand         Importance: 0.0\n",
            "Variable: 4 std_stand          Importance: 0.0\n",
            "Variable: 5 mean_stand         Importance: 0.0\n",
            "Variable: 5 std_stand          Importance: 0.0\n",
            "Variable:                    0 Importance: 0.0\n",
            "Variable:                    1 Importance: 0.0\n",
            "Variable:                    2 Importance: 0.0\n",
            "Variable:                    3 Importance: 0.0\n",
            "Variable:                    4 Importance: 0.0\n",
            "Variable:                    5 Importance: 0.0\n",
            "Variable:                    6 Importance: 0.0\n",
            "Variable:                    7 Importance: 0.0\n",
            "Variable:                    8 Importance: 0.0\n",
            "Variable:                    9 Importance: 0.0\n",
            "Variable:                   10 Importance: 0.0\n",
            "Variable:                   11 Importance: 0.0\n",
            "Variable:                   12 Importance: 0.0\n",
            "Variable:                   13 Importance: 0.0\n",
            "Variable:                   14 Importance: 0.0\n",
            "Variable:                   15 Importance: 0.0\n",
            "Variable:                   16 Importance: 0.0\n",
            "Variable:                   17 Importance: 0.0\n",
            "Variable:                   18 Importance: 0.0\n",
            "Variable:                   19 Importance: 0.0\n",
            "Variable:                   20 Importance: 0.0\n",
            "Variable:                   21 Importance: 0.0\n",
            "Variable:                   22 Importance: 0.0\n",
            "Variable:                   23 Importance: 0.0\n",
            "Variable:                   24 Importance: 0.0\n",
            "Variable:                   25 Importance: 0.0\n",
            "Variable:                   26 Importance: 0.0\n",
            "Variable:                   27 Importance: 0.0\n",
            "Variable:                   28 Importance: 0.0\n",
            "Variable:                   29 Importance: 0.0\n",
            "Variable:                   30 Importance: 0.0\n",
            "Variable:                   31 Importance: 0.0\n",
            "Variable:                   32 Importance: 0.0\n",
            "Variable:                   33 Importance: 0.0\n",
            "Variable:                   34 Importance: 0.0\n",
            "Variable:                   35 Importance: 0.0\n",
            "Variable:                   36 Importance: 0.0\n",
            "Variable:                   37 Importance: 0.0\n",
            "Variable:                   38 Importance: 0.0\n",
            "Variable:                   39 Importance: 0.0\n",
            "Variable:                   40 Importance: 0.0\n",
            "Variable:                   41 Importance: 0.0\n",
            "Variable:                   42 Importance: 0.0\n",
            "Variable:                   43 Importance: 0.0\n",
            "Variable:                   44 Importance: 0.0\n",
            "Variable:                   45 Importance: 0.0\n",
            "Variable:                   46 Importance: 0.0\n",
            "Variable:                   47 Importance: 0.0\n",
            "Variable:                   48 Importance: 0.0\n",
            "Variable:                   49 Importance: 0.0\n",
            "Variable:                   50 Importance: 0.0\n",
            "Variable:                   51 Importance: 0.0\n",
            "Variable:                   52 Importance: 0.0\n",
            "Variable:                   53 Importance: 0.0\n",
            "Variable:                   54 Importance: 0.0\n",
            "Variable:                   55 Importance: 0.0\n",
            "Variable:                   56 Importance: 0.0\n",
            "Variable:                   57 Importance: 0.0\n",
            "Variable:                   58 Importance: 0.0\n",
            "Variable:                   59 Importance: 0.0\n",
            "Variable:                   60 Importance: 0.0\n",
            "Variable:                   61 Importance: 0.0\n",
            "Variable:                   62 Importance: 0.0\n",
            "Variable:                   63 Importance: 0.0\n"
          ]
        }
      ]
    },
    {
      "cell_type": "markdown",
      "source": [
        "Based on these results, we can observe that most of the features do not have significant importance for the classifier. Interestingly, looks like none of the autoencoder feautures contribute to the classification process."
      ],
      "metadata": {
        "id": "wEtE6Q1n8jcg"
      }
    },
    {
      "cell_type": "code",
      "source": [
        "pl.figure()\n",
        "pl.plot(test_labels, \"o\", label = 'true')\n",
        "pl.plot(predictions, \"o\", label = 'prediction')\n",
        "pl.legend()\n",
        "pl.xlabel('Astronomical objects')\n",
        "pl.ylabel('Target')\n",
        "pl.title('');"
      ],
      "metadata": {
        "colab": {
          "base_uri": "https://localhost:8080/",
          "height": 279
        },
        "id": "petyX8Lw8wr-",
        "outputId": "fcd1ba64-450b-4e82-c18d-911e30f7149d"
      },
      "execution_count": null,
      "outputs": [
        {
          "output_type": "display_data",
          "data": {
            "text/plain": [
              "<Figure size 432x288 with 1 Axes>"
            ],
            "image/png": "[encoded data removed]"
          },
          "metadata": {
            "needs_background": "light"
          }
        }
      ]
    },
    {
      "cell_type": "markdown",
      "source": [
        "Fig. 4. The plot of true and predicted labels for the astronomical objects. In blue there are true labels, and in orange - predicted by classifier. We can spot what 'classes' our classifier fails to map correctly. For instance, classes between 40 and 65 are really poorly mapped."
      ],
      "metadata": {
        "id": "wU9iU9cf_yKc"
      }
    },
    {
      "cell_type": "markdown",
      "source": [
        "<font color=\"red\"> FBB a confusion matrix sould be a better vis here </font>"
      ],
      "metadata": {
        "id": "6LjFtKB2yhP3"
      }
    },
    {
      "cell_type": "markdown",
      "source": [
        "Let's train the **RF only on the preselected features**. "
      ],
      "metadata": {
        "id": "oK2CGjDNA3Qa"
      }
    },
    {
      "cell_type": "code",
      "source": [
        "features.columns[:37]"
      ],
      "metadata": {
        "colab": {
          "base_uri": "https://localhost:8080/"
        },
        "id": "lU2Rti4wA-aW",
        "outputId": "390f987c-9f8a-485c-f9f3-a0323a865448"
      },
      "execution_count": null,
      "outputs": [
        {
          "output_type": "execute_result",
          "data": {
            "text/plain": [
              "Index(['0 mean_stand', '0 min_raw', '0 max_raw', '0 std_stand', '0 slopes',\n",
              "       '0 intercepts', '1 mean_stand', '1 min_raw', '1 max_raw', '1 std_stand',\n",
              "       '1 slopes', '1 intercepts', '2 mean_stand', '2 min_raw', '2 max_raw',\n",
              "       '2 std_stand', '2 slopes', '2 intercepts', '3 mean_stand', '3 min_raw',\n",
              "       '3 max_raw', '3 std_stand', '3 slopes', '3 intercepts', '4 mean_stand',\n",
              "       '4 min_raw', '4 max_raw', '4 std_stand', '4 slopes', '4 intercepts',\n",
              "       '5 mean_stand', '5 min_raw', '5 max_raw', '5 std_stand', '5 slopes',\n",
              "       '5 intercepts', 'decl'],\n",
              "      dtype='object')"
            ]
          },
          "metadata": {},
          "execution_count": 379
        }
      ]
    },
    {
      "cell_type": "code",
      "source": [
        "only_preselected = features[['0 mean_stand', '0 min_raw', '0 max_raw', '0 std_stand', '0 slopes',\n",
        "       '0 intercepts', '1 mean_stand', '1 min_raw', '1 max_raw', '1 std_stand',\n",
        "       '1 slopes', '1 intercepts', '2 mean_stand', '2 min_raw', '2 max_raw',\n",
        "       '2 std_stand', '2 slopes', '2 intercepts', '3 mean_stand', '3 min_raw',\n",
        "       '3 max_raw', '3 std_stand', '3 slopes', '3 intercepts', '4 mean_stand',\n",
        "       '4 min_raw', '4 max_raw', '4 std_stand', '4 slopes', '4 intercepts',\n",
        "       '5 mean_stand', '5 min_raw', '5 max_raw', '5 std_stand', '5 slopes',\n",
        "       '5 intercepts', 'decl']]"
      ],
      "metadata": {
        "id": "Z4JJIKb9BaeZ"
      },
      "execution_count": null,
      "outputs": []
    },
    {
      "cell_type": "code",
      "source": [
        "only_preselected.shape"
      ],
      "metadata": {
        "colab": {
          "base_uri": "https://localhost:8080/"
        },
        "id": "_wiY5_HkBkgo",
        "outputId": "67453555-f06e-4932-fd96-27f22608daff"
      },
      "execution_count": null,
      "outputs": [
        {
          "output_type": "execute_result",
          "data": {
            "text/plain": [
              "(7848, 37)"
            ]
          },
          "metadata": {},
          "execution_count": 381
        }
      ]
    },
    {
      "cell_type": "code",
      "source": [
        "train_f, test_f, train_l, test_l = train_test_split(only_preselected, labels, \n",
        "                                                                            test_size = 0.25, random_state = 42)"
      ],
      "metadata": {
        "id": "LUsuUQfy97Nt"
      },
      "execution_count": null,
      "outputs": []
    },
    {
      "cell_type": "code",
      "source": [
        "# Instantiate model with 1000 decision trees\n",
        "rf_selected = RandomForestClassifier(n_estimators = 1000, random_state = 42, min_samples_leaf = 3)\n",
        "# Train the model on training data\n",
        "rf_selected.fit(train_f, train_l);"
      ],
      "metadata": {
        "id": "ocL_D1nyBVrd"
      },
      "execution_count": null,
      "outputs": []
    },
    {
      "cell_type": "code",
      "source": [
        "# Use the forest's predict method on the test data\n",
        "predictions_selected = rf_selected.predict(test_f)\n",
        "# Calculate the absolute errors\n",
        "errors_selected = abs(predictions_selected - test_l)\n",
        "# Print out the mean absolute error (mae)\n",
        "print('Mean Absolute Error:', round(np.mean(errors_selected), 2), 'degrees.')"
      ],
      "metadata": {
        "colab": {
          "base_uri": "https://localhost:8080/"
        },
        "id": "H0L--hKdB2V4",
        "outputId": "339151bf-8789-4378-dcda-51457bc743d7"
      },
      "execution_count": null,
      "outputs": [
        {
          "output_type": "stream",
          "name": "stdout",
          "text": [
            "Mean Absolute Error: 13.5 degrees.\n"
          ]
        }
      ]
    },
    {
      "cell_type": "code",
      "source": [
        "train_score_sel = rf_selected.score(train_f, train_l)\n",
        "test_score_sel = rf_selected.score(test_f, test_l)"
      ],
      "metadata": {
        "id": "zDZq1BYKCF0S"
      },
      "execution_count": null,
      "outputs": []
    },
    {
      "cell_type": "code",
      "source": [
        "print('During training, the accuracy score was ' + str(round(train_score_sel, 3)))\n",
        "print('During testing, the accuracy score was ' + str(round(test_score_sel, 3)))"
      ],
      "metadata": {
        "colab": {
          "base_uri": "https://localhost:8080/"
        },
        "id": "nQZhp57iCMrj",
        "outputId": "4f82d1d4-2ccc-4883-b210-cc93fc53faf9"
      },
      "execution_count": null,
      "outputs": [
        {
          "output_type": "stream",
          "name": "stdout",
          "text": [
            "During training, the accuracy score was 0.953\n",
            "During testing, the accuracy score was 0.634\n"
          ]
        }
      ]
    },
    {
      "cell_type": "markdown",
      "source": [
        "Using only preselected features, the accuracy score increased only a little bit. So, there should be other problems to our data preprocessing steps or feature selection or the choice of parameters for the model. "
      ],
      "metadata": {
        "id": "MFKWK5PACib3"
      }
    },
    {
      "cell_type": "markdown",
      "source": [
        "<font color=\"red\"> FBB very good test to do only extracted features, well done (still overfititing) </font>"
      ],
      "metadata": {
        "id": "ZQGRAWVzyojW"
      }
    },
    {
      "cell_type": "markdown",
      "source": [
        "## Confusion matrix"
      ],
      "metadata": {
        "id": "ifHrfRT0Ci2Q"
      }
    },
    {
      "cell_type": "code",
      "source": [
        "cf_matrix = confusion_matrix(test_labels, predictions)"
      ],
      "metadata": {
        "id": "ob3NbEgfC69j"
      },
      "execution_count": null,
      "outputs": []
    },
    {
      "cell_type": "code",
      "source": [
        "np.unique(test_labels)"
      ],
      "metadata": {
        "colab": {
          "base_uri": "https://localhost:8080/"
        },
        "id": "hYhlnxLzEh_E",
        "outputId": "510c848e-533e-4eaa-a75e-9fcd701b18b5"
      },
      "execution_count": null,
      "outputs": [
        {
          "output_type": "execute_result",
          "data": {
            "text/plain": [
              "array([ 6, 15, 16, 42, 52, 53, 62, 64, 65, 67, 88, 90, 92, 95])"
            ]
          },
          "metadata": {},
          "execution_count": 388
        }
      ]
    },
    {
      "cell_type": "code",
      "source": [
        "np.unique(predictions)"
      ],
      "metadata": {
        "colab": {
          "base_uri": "https://localhost:8080/"
        },
        "id": "rwIVSCThHqiM",
        "outputId": "2e647583-b545-49df-876c-f3a8f7688da5"
      },
      "execution_count": null,
      "outputs": [
        {
          "output_type": "execute_result",
          "data": {
            "text/plain": [
              "array([ 6, 15, 16, 42, 53, 62, 65, 88, 90, 92, 95])"
            ]
          },
          "metadata": {},
          "execution_count": 389
        }
      ]
    },
    {
      "cell_type": "code",
      "source": [
        "pl.figure(figsize=(12,8))\n",
        "ax = sns.heatmap(cf_matrix/np.sum(cf_matrix), annot=True, fmt='.2%', cmap='Blues')\n",
        "\n",
        "ax.set_title('Confusion Matrix with labels\\n\\n');\n",
        "ax.set_xlabel('\\nPredicted Values')\n",
        "ax.set_ylabel('Actual Values ');\n",
        "\n",
        "## Ticket labels - List must be in alphabetical order\n",
        "ax.set_xticklabels(meta.target.unique())\n",
        "ax.set_yticklabels(meta.target.unique())\n",
        "\n",
        "## Display the visualization of the Confusion Matrix.\n",
        "pl.show()"
      ],
      "metadata": {
        "colab": {
          "base_uri": "https://localhost:8080/",
          "height": 561
        },
        "id": "mWfbKlIuEkdX",
        "outputId": "978b78cb-79e4-444d-b42b-ff39df6c5846"
      },
      "execution_count": null,
      "outputs": [
        {
          "output_type": "display_data",
          "data": {
            "text/plain": [
              "<Figure size 864x576 with 2 Axes>"
            ],
            "image/png": "[encoded data removed]"
          },
          "metadata": {
            "needs_background": "light"
          }
        }
      ]
    },
    {
      "cell_type": "markdown",
      "source": [
        "Fig. 5. Confusion matrix for true and predicted targets for astronomical objects classification problem. Based on the confusion matrix, we can understand how often a certain class has been assigned to a certain class. The best assignment score in our model is for class number 6. It correctly assigned in 27 % of cases. Interestingly, in 9 % (which is the highest for confusion of different classes) class 6 is confused with the class 90. "
      ],
      "metadata": {
        "id": "qHokHCz2JVtT"
      }
    },
    {
      "cell_type": "markdown",
      "source": [
        "<font color=\"red\"> FBB overall good! your GP did not work out (see HW7) but you got through it and did great in this last homework! </font>"
      ],
      "metadata": {
        "id": "7QdphlT_yxwj"
      }
    }
  ]
}