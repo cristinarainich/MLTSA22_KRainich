{
  "nbformat": 4,
  "nbformat_minor": 0,
  "metadata": {
    "colab": {
      "name": "Preprocessing of datasets. Environmental.ipynb",
      "provenance": [],
      "authorship_tag": "ABX9TyMuCDdYhpBvvcdpxaGj7HSB",
      "include_colab_link": true
    },
    "kernelspec": {
      "name": "python3",
      "display_name": "Python 3"
    },
    "language_info": {
      "name": "python"
    }
  },
  "cells": [
    {
      "cell_type": "markdown",
      "metadata": {
        "id": "view-in-github",
        "colab_type": "text"
      },
      "source": [
        "<a href=\"https://colab.research.google.com/github/cristinarainich/MLTSA22_KRainich/blob/main/Preprocessing_of_datasets_Environmental.ipynb\" target=\"_parent\"><img src=\"https://colab.research.google.com/assets/colab-badge.svg\" alt=\"Open In Colab\"/></a>"
      ]
    },
    {
      "cell_type": "code",
      "execution_count": 1,
      "metadata": {
        "id": "DLPLa_SbUFiC"
      },
      "outputs": [],
      "source": [
        "import pandas as pd\n",
        "import numpy as np\n",
        "import pylab as pl\n",
        "import scipy.io\n",
        "from pathlib import Path"
      ]
    },
    {
      "cell_type": "code",
      "source": [
        "from google.colab import drive\n",
        "drive.mount('/content/gdrive')"
      ],
      "metadata": {
        "colab": {
          "base_uri": "https://localhost:8080/"
        },
        "id": "YiRadHQbUMTS",
        "outputId": "621fc3d4-aa2c-4013-9acd-c7e5cb9a46a9"
      },
      "execution_count": 2,
      "outputs": [
        {
          "output_type": "stream",
          "name": "stdout",
          "text": [
            "Drive already mounted at /content/gdrive; to attempt to forcibly remount, call drive.mount(\"/content/gdrive\", force_remount=True).\n"
          ]
        }
      ]
    },
    {
      "cell_type": "code",
      "source": [
        "working_path = Path('/content/gdrive/MyDrive/CoganLab/Environmental')"
      ],
      "metadata": {
        "id": "mm3QDqncUMmB"
      },
      "execution_count": 3,
      "outputs": []
    },
    {
      "cell_type": "code",
      "source": [
        "!ls /content/gdrive/MyDrive/CoganLab/Environmental"
      ],
      "metadata": {
        "colab": {
          "base_uri": "https://localhost:8080/"
        },
        "id": "Upts3ZetlXs8",
        "outputId": "93934fcf-2e67-4758-b9b6-cadc3958271b"
      },
      "execution_count": 4,
      "outputs": [
        {
          "output_type": "stream",
          "name": "stdout",
          "text": [
            "D64_Block_1_TrialData.mat    eeg_environmental.csv\tieeg_environmental.csv\n",
            "D65_Block_1_TrialData_1.mat  Environmental_Subject.mat\n",
            "D65_Block_1_TrialData.mat    healthy\n"
          ]
        }
      ]
    },
    {
      "cell_type": "code",
      "source": [
        "eeg = pd.read_csv(\n",
        "    working_path.joinpath('eeg_environmental.csv'),\n",
        "    index_col=None\n",
        ")\n",
        "ieeg = pd.read_csv(\n",
        "    working_path.joinpath('ieeg_environmental.csv'),\n",
        "    index_col=None\n",
        ")"
      ],
      "metadata": {
        "id": "9HyjeuE6lj3z"
      },
      "execution_count": 5,
      "outputs": []
    },
    {
      "cell_type": "markdown",
      "source": [
        "## iEEG"
      ],
      "metadata": {
        "id": "AHSle4eEUO2B"
      }
    },
    {
      "cell_type": "code",
      "source": [
        "ieeg.groupby(['Subject'])['Trial'].count()"
      ],
      "metadata": {
        "colab": {
          "base_uri": "https://localhost:8080/"
        },
        "id": "jxIG5AoTUP31",
        "outputId": "1b8d7bcc-d84c-42d9-dd2e-2d1fc1b877b3"
      },
      "execution_count": 6,
      "outputs": [
        {
          "output_type": "execute_result",
          "data": {
            "text/plain": [
              "Subject\n",
              "D27    160\n",
              "D28    120\n",
              "D30    168\n",
              "D31    168\n",
              "D32    168\n",
              "D35    168\n",
              "D37    168\n",
              "D38    160\n",
              "D39    168\n",
              "D41    168\n",
              "D42    168\n",
              "D47    168\n",
              "D53    168\n",
              "D54    168\n",
              "D55    168\n",
              "D57    168\n",
              "D63    168\n",
              "D64    336\n",
              "D65    336\n",
              "D69    168\n",
              "D71    168\n",
              "Name: Trial, dtype: int64"
            ]
          },
          "metadata": {},
          "execution_count": 6
        }
      ]
    },
    {
      "cell_type": "code",
      "source": [
        "ieeg.head()"
      ],
      "metadata": {
        "colab": {
          "base_uri": "https://localhost:8080/",
          "height": 317
        },
        "id": "JYIoXXn4ltUl",
        "outputId": "bc796fca-2e0c-4f54-b950-88f9df7d6ae6"
      },
      "execution_count": 8,
      "outputs": [
        {
          "output_type": "execute_result",
          "data": {
            "text/plain": [
              "   Unnamed: 0 block ProbeType    ProbeTypeName StimlusCategory  ReactionTime  \\\n",
              "0           0   [1]       [1]  out_of_sequence       Low Words  [1.78755732]   \n",
              "1           1   [1]       [2]      in_sequence      High Words  [1.54881621]   \n",
              "2           2   [1]       [2]      in_sequence   Low Non-words  [1.15895821]   \n",
              "3           3   [1]       [2]      in_sequence   Low Non-words  [1.47149039]   \n",
              "4           4   [1]       [1]  out_of_sequence   Low Non-words    [1.379179]   \n",
              "\n",
              "  KeyCode Resp RespCorrect   Omission  ... probeSound_idx probeSound_name  \\\n",
              "0    [39]   No         [1]  Responded  ...            [9]        soar.wav   \n",
              "1    [37]  Yes         [1]  Responded  ...            [7]        pawn.wav   \n",
              "2    [37]  Yes         [1]  Responded  ...           [39]        yuwf.wav   \n",
              "3    [37]  Yes         [1]  Responded  ...           [37]        wehz.wav   \n",
              "4    [39]   No         [1]  Responded  ...           [17]        puwn.wav   \n",
              "\n",
              "  kb_deltasecs trialOrder_All ListenCueOnset MaintenancePeriodOnset  \\\n",
              "0          NaN            NaN            NaN                    NaN   \n",
              "1          NaN            NaN            NaN                    NaN   \n",
              "2          NaN            NaN            NaN                    NaN   \n",
              "3          NaN            NaN            NaN                    NaN   \n",
              "4          NaN            NaN            NaN                    NaN   \n",
              "\n",
              "  ProbeCueOnset StimulusCategory Trial Subject  \n",
              "0           NaN              NaN     0     D27  \n",
              "1           NaN              NaN     1     D27  \n",
              "2           NaN              NaN     2     D27  \n",
              "3           NaN              NaN     3     D27  \n",
              "4           NaN              NaN     4     D27  \n",
              "\n",
              "[5 rows x 28 columns]"
            ],
            "text/html": [
              "\n",
              "  <div id=\"df-6a34c7a1-702a-414b-9b40-a7039a13afc1\">\n",
              "    <div class=\"colab-df-container\">\n",
              "      <div>\n",
              "<style scoped>\n",
              "    .dataframe tbody tr th:only-of-type {\n",
              "        vertical-align: middle;\n",
              "    }\n",
              "\n",
              "    .dataframe tbody tr th {\n",
              "        vertical-align: top;\n",
              "    }\n",
              "\n",
              "    .dataframe thead th {\n",
              "        text-align: right;\n",
              "    }\n",
              "</style>\n",
              "<table border=\"1\" class=\"dataframe\">\n",
              "  <thead>\n",
              "    <tr style=\"text-align: right;\">\n",
              "      <th></th>\n",
              "      <th>Unnamed: 0</th>\n",
              "      <th>block</th>\n",
              "      <th>ProbeType</th>\n",
              "      <th>ProbeTypeName</th>\n",
              "      <th>StimlusCategory</th>\n",
              "      <th>ReactionTime</th>\n",
              "      <th>KeyCode</th>\n",
              "      <th>Resp</th>\n",
              "      <th>RespCorrect</th>\n",
              "      <th>Omission</th>\n",
              "      <th>...</th>\n",
              "      <th>probeSound_idx</th>\n",
              "      <th>probeSound_name</th>\n",
              "      <th>kb_deltasecs</th>\n",
              "      <th>trialOrder_All</th>\n",
              "      <th>ListenCueOnset</th>\n",
              "      <th>MaintenancePeriodOnset</th>\n",
              "      <th>ProbeCueOnset</th>\n",
              "      <th>StimulusCategory</th>\n",
              "      <th>Trial</th>\n",
              "      <th>Subject</th>\n",
              "    </tr>\n",
              "  </thead>\n",
              "  <tbody>\n",
              "    <tr>\n",
              "      <th>0</th>\n",
              "      <td>0</td>\n",
              "      <td>[1]</td>\n",
              "      <td>[1]</td>\n",
              "      <td>out_of_sequence</td>\n",
              "      <td>Low Words</td>\n",
              "      <td>[1.78755732]</td>\n",
              "      <td>[39]</td>\n",
              "      <td>No</td>\n",
              "      <td>[1]</td>\n",
              "      <td>Responded</td>\n",
              "      <td>...</td>\n",
              "      <td>[9]</td>\n",
              "      <td>soar.wav</td>\n",
              "      <td>NaN</td>\n",
              "      <td>NaN</td>\n",
              "      <td>NaN</td>\n",
              "      <td>NaN</td>\n",
              "      <td>NaN</td>\n",
              "      <td>NaN</td>\n",
              "      <td>0</td>\n",
              "      <td>D27</td>\n",
              "    </tr>\n",
              "    <tr>\n",
              "      <th>1</th>\n",
              "      <td>1</td>\n",
              "      <td>[1]</td>\n",
              "      <td>[2]</td>\n",
              "      <td>in_sequence</td>\n",
              "      <td>High Words</td>\n",
              "      <td>[1.54881621]</td>\n",
              "      <td>[37]</td>\n",
              "      <td>Yes</td>\n",
              "      <td>[1]</td>\n",
              "      <td>Responded</td>\n",
              "      <td>...</td>\n",
              "      <td>[7]</td>\n",
              "      <td>pawn.wav</td>\n",
              "      <td>NaN</td>\n",
              "      <td>NaN</td>\n",
              "      <td>NaN</td>\n",
              "      <td>NaN</td>\n",
              "      <td>NaN</td>\n",
              "      <td>NaN</td>\n",
              "      <td>1</td>\n",
              "      <td>D27</td>\n",
              "    </tr>\n",
              "    <tr>\n",
              "      <th>2</th>\n",
              "      <td>2</td>\n",
              "      <td>[1]</td>\n",
              "      <td>[2]</td>\n",
              "      <td>in_sequence</td>\n",
              "      <td>Low Non-words</td>\n",
              "      <td>[1.15895821]</td>\n",
              "      <td>[37]</td>\n",
              "      <td>Yes</td>\n",
              "      <td>[1]</td>\n",
              "      <td>Responded</td>\n",
              "      <td>...</td>\n",
              "      <td>[39]</td>\n",
              "      <td>yuwf.wav</td>\n",
              "      <td>NaN</td>\n",
              "      <td>NaN</td>\n",
              "      <td>NaN</td>\n",
              "      <td>NaN</td>\n",
              "      <td>NaN</td>\n",
              "      <td>NaN</td>\n",
              "      <td>2</td>\n",
              "      <td>D27</td>\n",
              "    </tr>\n",
              "    <tr>\n",
              "      <th>3</th>\n",
              "      <td>3</td>\n",
              "      <td>[1]</td>\n",
              "      <td>[2]</td>\n",
              "      <td>in_sequence</td>\n",
              "      <td>Low Non-words</td>\n",
              "      <td>[1.47149039]</td>\n",
              "      <td>[37]</td>\n",
              "      <td>Yes</td>\n",
              "      <td>[1]</td>\n",
              "      <td>Responded</td>\n",
              "      <td>...</td>\n",
              "      <td>[37]</td>\n",
              "      <td>wehz.wav</td>\n",
              "      <td>NaN</td>\n",
              "      <td>NaN</td>\n",
              "      <td>NaN</td>\n",
              "      <td>NaN</td>\n",
              "      <td>NaN</td>\n",
              "      <td>NaN</td>\n",
              "      <td>3</td>\n",
              "      <td>D27</td>\n",
              "    </tr>\n",
              "    <tr>\n",
              "      <th>4</th>\n",
              "      <td>4</td>\n",
              "      <td>[1]</td>\n",
              "      <td>[1]</td>\n",
              "      <td>out_of_sequence</td>\n",
              "      <td>Low Non-words</td>\n",
              "      <td>[1.379179]</td>\n",
              "      <td>[39]</td>\n",
              "      <td>No</td>\n",
              "      <td>[1]</td>\n",
              "      <td>Responded</td>\n",
              "      <td>...</td>\n",
              "      <td>[17]</td>\n",
              "      <td>puwn.wav</td>\n",
              "      <td>NaN</td>\n",
              "      <td>NaN</td>\n",
              "      <td>NaN</td>\n",
              "      <td>NaN</td>\n",
              "      <td>NaN</td>\n",
              "      <td>NaN</td>\n",
              "      <td>4</td>\n",
              "      <td>D27</td>\n",
              "    </tr>\n",
              "  </tbody>\n",
              "</table>\n",
              "<p>5 rows × 28 columns</p>\n",
              "</div>\n",
              "      <button class=\"colab-df-convert\" onclick=\"convertToInteractive('df-6a34c7a1-702a-414b-9b40-a7039a13afc1')\"\n",
              "              title=\"Convert this dataframe to an interactive table.\"\n",
              "              style=\"display:none;\">\n",
              "        \n",
              "  <svg xmlns=\"http://www.w3.org/2000/svg\" height=\"24px\"viewBox=\"0 0 24 24\"\n",
              "       width=\"24px\">\n",
              "    <path d=\"M0 0h24v24H0V0z\" fill=\"none\"/>\n",
              "    <path d=\"M18.56 5.44l.94 2.06.94-2.06 2.06-.94-2.06-.94-.94-2.06-.94 2.06-2.06.94zm-11 1L8.5 8.5l.94-2.06 2.06-.94-2.06-.94L8.5 2.5l-.94 2.06-2.06.94zm10 10l.94 2.06.94-2.06 2.06-.94-2.06-.94-.94-2.06-.94 2.06-2.06.94z\"/><path d=\"M17.41 7.96l-1.37-1.37c-.4-.4-.92-.59-1.43-.59-.52 0-1.04.2-1.43.59L10.3 9.45l-7.72 7.72c-.78.78-.78 2.05 0 2.83L4 21.41c.39.39.9.59 1.41.59.51 0 1.02-.2 1.41-.59l7.78-7.78 2.81-2.81c.8-.78.8-2.07 0-2.86zM5.41 20L4 18.59l7.72-7.72 1.47 1.35L5.41 20z\"/>\n",
              "  </svg>\n",
              "      </button>\n",
              "      \n",
              "  <style>\n",
              "    .colab-df-container {\n",
              "      display:flex;\n",
              "      flex-wrap:wrap;\n",
              "      gap: 12px;\n",
              "    }\n",
              "\n",
              "    .colab-df-convert {\n",
              "      background-color: #E8F0FE;\n",
              "      border: none;\n",
              "      border-radius: 50%;\n",
              "      cursor: pointer;\n",
              "      display: none;\n",
              "      fill: #1967D2;\n",
              "      height: 32px;\n",
              "      padding: 0 0 0 0;\n",
              "      width: 32px;\n",
              "    }\n",
              "\n",
              "    .colab-df-convert:hover {\n",
              "      background-color: #E2EBFA;\n",
              "      box-shadow: 0px 1px 2px rgba(60, 64, 67, 0.3), 0px 1px 3px 1px rgba(60, 64, 67, 0.15);\n",
              "      fill: #174EA6;\n",
              "    }\n",
              "\n",
              "    [theme=dark] .colab-df-convert {\n",
              "      background-color: #3B4455;\n",
              "      fill: #D2E3FC;\n",
              "    }\n",
              "\n",
              "    [theme=dark] .colab-df-convert:hover {\n",
              "      background-color: #434B5C;\n",
              "      box-shadow: 0px 1px 3px 1px rgba(0, 0, 0, 0.15);\n",
              "      filter: drop-shadow(0px 1px 2px rgba(0, 0, 0, 0.3));\n",
              "      fill: #FFFFFF;\n",
              "    }\n",
              "  </style>\n",
              "\n",
              "      <script>\n",
              "        const buttonEl =\n",
              "          document.querySelector('#df-6a34c7a1-702a-414b-9b40-a7039a13afc1 button.colab-df-convert');\n",
              "        buttonEl.style.display =\n",
              "          google.colab.kernel.accessAllowed ? 'block' : 'none';\n",
              "\n",
              "        async function convertToInteractive(key) {\n",
              "          const element = document.querySelector('#df-6a34c7a1-702a-414b-9b40-a7039a13afc1');\n",
              "          const dataTable =\n",
              "            await google.colab.kernel.invokeFunction('convertToInteractive',\n",
              "                                                     [key], {});\n",
              "          if (!dataTable) return;\n",
              "\n",
              "          const docLinkHtml = 'Like what you see? Visit the ' +\n",
              "            '<a target=\"_blank\" href=https://colab.research.google.com/notebooks/data_table.ipynb>data table notebook</a>'\n",
              "            + ' to learn more about interactive tables.';\n",
              "          element.innerHTML = '';\n",
              "          dataTable['output_type'] = 'display_data';\n",
              "          await google.colab.output.renderOutput(dataTable, element);\n",
              "          const docLink = document.createElement('div');\n",
              "          docLink.innerHTML = docLinkHtml;\n",
              "          element.appendChild(docLink);\n",
              "        }\n",
              "      </script>\n",
              "    </div>\n",
              "  </div>\n",
              "  "
            ]
          },
          "metadata": {},
          "execution_count": 8
        }
      ]
    },
    {
      "cell_type": "code",
      "source": [
        "ieeg[~ieeg['ProbeType'].isnull()].Subject.unique()"
      ],
      "metadata": {
        "colab": {
          "base_uri": "https://localhost:8080/"
        },
        "id": "_xOWS1lzUSyY",
        "outputId": "98008980-18ee-4eb8-bc03-8bee175617b6"
      },
      "execution_count": 9,
      "outputs": [
        {
          "output_type": "execute_result",
          "data": {
            "text/plain": [
              "array(['D27'], dtype=object)"
            ]
          },
          "metadata": {},
          "execution_count": 9
        }
      ]
    },
    {
      "cell_type": "code",
      "source": [
        "ieeg[~ieeg['ProbeType'].isnull()].shape"
      ],
      "metadata": {
        "colab": {
          "base_uri": "https://localhost:8080/"
        },
        "id": "hWdh4IYhUUBY",
        "outputId": "68dbeee3-727c-4190-b746-1c598c06f34c"
      },
      "execution_count": 10,
      "outputs": [
        {
          "output_type": "execute_result",
          "data": {
            "text/plain": [
              "(160, 28)"
            ]
          },
          "metadata": {},
          "execution_count": 10
        }
      ]
    },
    {
      "cell_type": "code",
      "source": [
        "ieeg_preprocess = ieeg[ieeg['ProbeType'].isnull()]"
      ],
      "metadata": {
        "id": "WN9khwKTUV_g"
      },
      "execution_count": 11,
      "outputs": []
    },
    {
      "cell_type": "code",
      "source": [
        "ieeg_preprocess.shape"
      ],
      "metadata": {
        "colab": {
          "base_uri": "https://localhost:8080/"
        },
        "id": "-vHBXFuEUXGI",
        "outputId": "d088b5a6-4566-4c22-d455-8dd4a79f78bf"
      },
      "execution_count": 12,
      "outputs": [
        {
          "output_type": "execute_result",
          "data": {
            "text/plain": [
              "(3640, 28)"
            ]
          },
          "metadata": {},
          "execution_count": 12
        }
      ]
    },
    {
      "cell_type": "code",
      "source": [
        "ieeg_ = ieeg_preprocess[[\n",
        "    'block', 'StimlusCategory',\n",
        "       'ReactionTime', 'KeyCode', 'Resp', 'RespCorrect',\n",
        "       'stimulusAudioStart', 'probeAudioStart',\n",
        "       'stimulusSounds_idx',\n",
        "       'ProbeCategory', 'probeSound_idx',\n",
        "       'kb_deltasecs', 'trialOrder_All', 'ListenCueOnset',\n",
        "       'ProbeCueOnset', 'StimulusCategory', 'Trial',\n",
        "       'Subject'\n",
        "]]"
      ],
      "metadata": {
        "id": "BniQR_6XUYGi"
      },
      "execution_count": null,
      "outputs": []
    },
    {
      "cell_type": "code",
      "source": [
        "ieeg_preprocess[ieeg_preprocess['Trial'].isnull()].shape"
      ],
      "metadata": {
        "id": "91Bvl0qAUZXR"
      },
      "execution_count": null,
      "outputs": []
    },
    {
      "cell_type": "code",
      "source": [
        "ieeg_.ProbeCueOnset"
      ],
      "metadata": {
        "id": "FwAJu5aEUZxB"
      },
      "execution_count": null,
      "outputs": []
    }
  ]
}