{
  "nbformat": 4,
  "nbformat_minor": 0,
  "metadata": {
    "colab": {
      "name": "07|04|1.ipynb",
      "provenance": [],
      "authorship_tag": "ABX9TyOe4tzMqUrtJGV7eGHAJelX",
      "include_colab_link": true
    },
    "kernelspec": {
      "name": "python3",
      "display_name": "Python 3"
    },
    "language_info": {
      "name": "python"
    }
  },
  "cells": [
    {
      "cell_type": "markdown",
      "metadata": {
        "id": "view-in-github",
        "colab_type": "text"
      },
      "source": [
        "<a href=\"https://colab.research.google.com/github/cristinarainich/MLTSA22_KRainich/blob/main/train/07%7C04%7C1.ipynb\" target=\"_parent\"><img src=\"https://colab.research.google.com/assets/colab-badge.svg\" alt=\"Open In Colab\"/></a>"
      ]
    },
    {
      "cell_type": "code",
      "execution_count": 9,
      "metadata": {
        "colab": {
          "base_uri": "https://localhost:8080/"
        },
        "id": "cDn0Y1UtZNxj",
        "outputId": "ba319e8a-2773-49a2-ebbc-f73f1c980206"
      },
      "outputs": [
        {
          "output_type": "stream",
          "name": "stdout",
          "text": [
            "Collecting george\n",
            "  Downloading george-0.4.0-cp37-cp37m-manylinux2014_x86_64.whl (407 kB)\n",
            "\u001b[?25l\r\u001b[K     |▉                               | 10 kB 23.7 MB/s eta 0:00:01\r\u001b[K     |█▋                              | 20 kB 21.0 MB/s eta 0:00:01\r\u001b[K     |██▍                             | 30 kB 16.8 MB/s eta 0:00:01\r\u001b[K     |███▏                            | 40 kB 14.8 MB/s eta 0:00:01\r\u001b[K     |████                            | 51 kB 7.6 MB/s eta 0:00:01\r\u001b[K     |████▉                           | 61 kB 8.9 MB/s eta 0:00:01\r\u001b[K     |█████▋                          | 71 kB 9.2 MB/s eta 0:00:01\r\u001b[K     |██████▍                         | 81 kB 8.9 MB/s eta 0:00:01\r\u001b[K     |███████▎                        | 92 kB 9.8 MB/s eta 0:00:01\r\u001b[K     |████████                        | 102 kB 8.3 MB/s eta 0:00:01\r\u001b[K     |████████▉                       | 112 kB 8.3 MB/s eta 0:00:01\r\u001b[K     |█████████▋                      | 122 kB 8.3 MB/s eta 0:00:01\r\u001b[K     |██████████▌                     | 133 kB 8.3 MB/s eta 0:00:01\r\u001b[K     |███████████▎                    | 143 kB 8.3 MB/s eta 0:00:01\r\u001b[K     |████████████                    | 153 kB 8.3 MB/s eta 0:00:01\r\u001b[K     |████████████▉                   | 163 kB 8.3 MB/s eta 0:00:01\r\u001b[K     |█████████████▋                  | 174 kB 8.3 MB/s eta 0:00:01\r\u001b[K     |██████████████▌                 | 184 kB 8.3 MB/s eta 0:00:01\r\u001b[K     |███████████████▎                | 194 kB 8.3 MB/s eta 0:00:01\r\u001b[K     |████████████████                | 204 kB 8.3 MB/s eta 0:00:01\r\u001b[K     |████████████████▉               | 215 kB 8.3 MB/s eta 0:00:01\r\u001b[K     |█████████████████▊              | 225 kB 8.3 MB/s eta 0:00:01\r\u001b[K     |██████████████████▌             | 235 kB 8.3 MB/s eta 0:00:01\r\u001b[K     |███████████████████▎            | 245 kB 8.3 MB/s eta 0:00:01\r\u001b[K     |████████████████████            | 256 kB 8.3 MB/s eta 0:00:01\r\u001b[K     |█████████████████████           | 266 kB 8.3 MB/s eta 0:00:01\r\u001b[K     |█████████████████████▊          | 276 kB 8.3 MB/s eta 0:00:01\r\u001b[K     |██████████████████████▌         | 286 kB 8.3 MB/s eta 0:00:01\r\u001b[K     |███████████████████████▎        | 296 kB 8.3 MB/s eta 0:00:01\r\u001b[K     |████████████████████████▏       | 307 kB 8.3 MB/s eta 0:00:01\r\u001b[K     |█████████████████████████       | 317 kB 8.3 MB/s eta 0:00:01\r\u001b[K     |█████████████████████████▊      | 327 kB 8.3 MB/s eta 0:00:01\r\u001b[K     |██████████████████████████▌     | 337 kB 8.3 MB/s eta 0:00:01\r\u001b[K     |███████████████████████████▎    | 348 kB 8.3 MB/s eta 0:00:01\r\u001b[K     |████████████████████████████▏   | 358 kB 8.3 MB/s eta 0:00:01\r\u001b[K     |█████████████████████████████   | 368 kB 8.3 MB/s eta 0:00:01\r\u001b[K     |█████████████████████████████▊  | 378 kB 8.3 MB/s eta 0:00:01\r\u001b[K     |██████████████████████████████▌ | 389 kB 8.3 MB/s eta 0:00:01\r\u001b[K     |███████████████████████████████▍| 399 kB 8.3 MB/s eta 0:00:01\r\u001b[K     |████████████████████████████████| 407 kB 8.3 MB/s \n",
            "\u001b[?25hRequirement already satisfied: numpy in /usr/local/lib/python3.7/dist-packages (from george) (1.21.5)\n",
            "Requirement already satisfied: scipy in /usr/local/lib/python3.7/dist-packages (from george) (1.4.1)\n",
            "Installing collected packages: george\n",
            "Successfully installed george-0.4.0\n"
          ]
        }
      ],
      "source": [
        "import pandas as pd \n",
        "import pylab as pl\n",
        "import numpy as np\n",
        "!pip install george"
      ]
    },
    {
      "cell_type": "code",
      "source": [
        "import george \n",
        "from george import kernels"
      ],
      "metadata": {
        "id": "G6gb_3-wa2R3"
      },
      "execution_count": 11,
      "outputs": []
    },
    {
      "cell_type": "code",
      "source": [
        "def f(x):\n",
        "  np.random.seed(1)\n",
        "  return np.random.rand(len(x))\n",
        "t = [1.,3.,5.,6.,7.,8.]\n",
        "t = np.atleast_2d(t).T\n",
        "t"
      ],
      "metadata": {
        "colab": {
          "base_uri": "https://localhost:8080/"
        },
        "id": "900xFp3jZia4",
        "outputId": "322f813c-9f8e-4481-953a-aa50fb86c7f0"
      },
      "execution_count": 3,
      "outputs": [
        {
          "output_type": "execute_result",
          "data": {
            "text/plain": [
              "array([[1.],\n",
              "       [3.],\n",
              "       [5.],\n",
              "       [6.],\n",
              "       [7.],\n",
              "       [8.]])"
            ]
          },
          "metadata": {},
          "execution_count": 3
        }
      ]
    },
    {
      "cell_type": "code",
      "source": [
        "y = f(t)\n",
        "ymean = y.mean()\n",
        "y = y - ymean"
      ],
      "metadata": {
        "id": "y33ginp0aD5Y"
      },
      "execution_count": 4,
      "outputs": []
    },
    {
      "cell_type": "code",
      "source": [
        "yerr = np.abs(y)/2"
      ],
      "metadata": {
        "id": "-l4OEf4_aXVX"
      },
      "execution_count": 5,
      "outputs": []
    },
    {
      "cell_type": "code",
      "source": [
        "pl.errorbar(t, y, fmt = '.', yerr=yerr)"
      ],
      "metadata": {
        "colab": {
          "base_uri": "https://localhost:8080/",
          "height": 283
        },
        "id": "mOAZazaraaMG",
        "outputId": "9830f5aa-5921-436a-9454-df3bb77fbb37"
      },
      "execution_count": 8,
      "outputs": [
        {
          "output_type": "execute_result",
          "data": {
            "text/plain": [
              "<ErrorbarContainer object of 3 artists>"
            ]
          },
          "metadata": {},
          "execution_count": 8
        },
        {
          "output_type": "display_data",
          "data": {
            "text/plain": [
              "<Figure size 432x288 with 1 Axes>"
            ],
            "image/png": "[encoded data removed]"
          },
          "metadata": {
            "needs_background": "light"
          }
        }
      ]
    },
    {
      "cell_type": "code",
      "source": [
        "kernel = np.var(y) * kernels.ExpSquaredKernel(0.5)\n",
        "gp = george.GP(kernel)"
      ],
      "metadata": {
        "id": "vvMwEd2haf4P"
      },
      "execution_count": 14,
      "outputs": []
    },
    {
      "cell_type": "code",
      "source": [
        "gp.compute(t,0)\n",
        "t_pred = np.arange(0,10,0.1)"
      ],
      "metadata": {
        "id": "D3msthM_bVeQ"
      },
      "execution_count": 20,
      "outputs": []
    },
    {
      "cell_type": "code",
      "source": [
        "pred, pred_var = gp.predict(y,t_pred, return_var=True)"
      ],
      "metadata": {
        "id": "tl3cNsn7bho6"
      },
      "execution_count": 21,
      "outputs": []
    },
    {
      "cell_type": "code",
      "source": [
        "pl.fill_between(t_pred, pred - np.sqrt(pred_var), pred+np.sqrt(pred_var), alpha = 0.5)\n",
        "pl.plot(t_pred,pred)\n",
        "pl.errorbar(t,y,fmt='.',yerr=yerr)"
      ],
      "metadata": {
        "colab": {
          "base_uri": "https://localhost:8080/",
          "height": 283
        },
        "id": "xisln7oHbwa6",
        "outputId": "0ca5c1e3-0402-4f33-f27b-3e5f11bf0d93"
      },
      "execution_count": 23,
      "outputs": [
        {
          "output_type": "execute_result",
          "data": {
            "text/plain": [
              "<ErrorbarContainer object of 3 artists>"
            ]
          },
          "metadata": {},
          "execution_count": 23
        },
        {
          "output_type": "display_data",
          "data": {
            "text/plain": [
              "<Figure size 432x288 with 1 Axes>"
            ],
            "image/png": "[encoded data removed]"
          },
          "metadata": {
            "needs_background": "light"
          }
        }
      ]
    },
    {
      "cell_type": "code",
      "source": [
        "gp.get_parameter_vector()"
      ],
      "metadata": {
        "colab": {
          "base_uri": "https://localhost:8080/"
        },
        "id": "gEBPDUsvcNVb",
        "outputId": "862223e2-861f-4cb3-d097-6ca80cbd09c9"
      },
      "execution_count": 25,
      "outputs": [
        {
          "output_type": "execute_result",
          "data": {
            "text/plain": [
              "array([-2.8575194 , -0.69314718])"
            ]
          },
          "metadata": {},
          "execution_count": 25
        }
      ]
    },
    {
      "cell_type": "code",
      "source": [
        ""
      ],
      "metadata": {
        "id": "6meGE1A3crXO"
      },
      "execution_count": null,
      "outputs": []
    }
  ]
}